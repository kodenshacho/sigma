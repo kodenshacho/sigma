{
  "cells": [
    {
      "cell_type": "markdown",
      "metadata": {
        "id": "view-in-github",
        "colab_type": "text"
      },
      "source": [
        "<a href=\"https://colab.research.google.com/github/kodenshacho/sigma/blob/master/glfragment.ipynb\" target=\"_parent\"><img src=\"https://colab.research.google.com/assets/colab-badge.svg\" alt=\"Open In Colab\"/></a>"
      ]
    },
    {
      "cell_type": "code",
      "source": [
        "\n",
        "#include <GL/glut.h>\n",
        "\n",
        "const char *fragmentProgram =\n",
        "    \"!!ARBfp1.0\\n\"\n",
        "    \"TEMP texture1, texture3;\\n\"\n",
        "    \"TEX texture1, fragment.texcoord[0], texture[1], 2D;\\n\"\n",
        "    \"TEX texture3, fragment.texcoord[0], texture[3], 2D;\\n\"\n",
        "    \"MUL result.color, texture1, {1.0, 1.0, 1.0, 1.0};\\n\" // White color for texture 1\n",
        "    \"MUL result.color, texture3, {1.0, 0.5, 0.0, 1.0};\\n\" // Orange color for texture 3\n",
        "    \"END\\n\";\n",
        "\n",
        "void display() {\n",
        "    glClear(GL_COLOR_BUFFER_BIT);\n",
        "\n",
        "    glBegin(GL_QUADS);\n",
        "    glTexCoord2f(0.0, 0.0); glVertex2f(-1.0, -1.0);\n",
        "    glTexCoord2f(1.0, 0.0); glVertex2f(1.0, -1.0);\n",
        "    glTexCoord2f(1.0, 1.0); glVertex2f(1.0, 1.0);\n",
        "    glTexCoord2f(0.0, 1.0); glVertex2f(-1.0, 1.0);\n",
        "    glEnd();\n",
        "\n",
        "    glutSwapBuffers();\n",
        "}\n",
        "\n",
        "void init() {\n",
        "    glEnable(GL_TEXTURE_2D);\n",
        "\n",
        "    GLuint fragmentProgramId;\n",
        "    glGenProgramsARB(1, &fragmentProgramId);\n",
        "    glBindProgramARB(GL_FRAGMENT_PROGRAM_ARB, fragmentProgramId);\n",
        "    glProgramStringARB(GL_FRAGMENT_PROGRAM_ARB, GL_PROGRAM_FORMAT_ASCII_ARB, strlen(fragmentProgram), fragmentProgram);\n",
        "\n",
        "    glTexParameteri(GL_TEXTURE_2D, GL_TEXTURE_MIN_FILTER, GL_LINEAR);\n",
        "    glTexParameteri(GL_TEXTURE_2D, GL_TEXTURE_MAG_FILTER, GL_LINEAR);\n",
        "\n",
        "    // Load textures and bind them\n",
        "\n",
        "    glutDisplayFunc(display);\n",
        "}\n",
        "\n",
        "int main(int argc, char **argv) {\n",
        "    glutInit(&argc, argv);\n",
        "    glutInitDisplayMode(GLUT_DOUBLE | GLUT_RGBA);\n",
        "    glutInitWindowSize(800, 600);\n",
        "    glutCreateWindow(\"OpenGL ARB_fragment_program Example\");\n",
        "    init();\n",
        "    glutMainLoop();\n",
        "    return 0;\n",
        "}"
      ],
      "metadata": {
        "id": "qfG9t7-DdD0O"
      },
      "execution_count": null,
      "outputs": []
    },
    {
      "cell_type": "code",
      "source": [
        "\n",
        "!!ARBfp1.0\n",
        "\n",
        "PARAM cyan = {0.0, 1.0, 1.0, 1.0};\n",
        "PARAM orange = {1.0, 0.5, 0.0, 1.0};\n",
        "TEMP textureColor1; //\n",
        "TEMP textureColor3; //\n",
        "TEMP combinedColor; //\n",
        "\n",
        "//\n",
        "TEX textureColor1, fragment.texcoord[0], texture[1], 2D;\n",
        "//\n",
        "MUL textureColor1, textureColor1, cyan;\n",
        "\n",
        "//\n",
        "TEX textureColor3, fragment.texcoord[0], texture[3], 2D;\n",
        "//\n",
        "MUL textureColor3, textureColor3, orange;\n",
        "\n",
        "//\n",
        "ADD combinedColor, textureColor1, textureColor3;\n",
        "\n",
        "MOV result.color, combinedColor;\n",
        "\n",
        "END"
      ],
      "metadata": {
        "id": "a3GL5kWDnWQo"
      },
      "execution_count": null,
      "outputs": []
    },
    {
      "cell_type": "code",
      "source": [
        "\n",
        "!!ARBfp1.0\n",
        "OPTION ARB_precision_hint_fastest;\n",
        "\n",
        "PARAM showTextureParams = program.local[0];\n",
        "\n",
        "TEMP texColor;\n",
        "\n",
        "TEX texColor, fragment.texCoord[0], texture[0], 2D;\n",
        "\n",
        "// 1\n",
        "MUL_SAT texColor, texColor, showTextureParams.x;\n",
        "\n",
        "// 2\n",
        "TEX tmpTexColor, fragment.texCoord[0], texture[1], 2D;\n",
        "MUL tmpTexColor, tmpTexColor, showTextureParams.y;\n",
        "ADD_SAT texColor, texColor, tmpTexColor;\n",
        "\n",
        "MUL result.color, fragment.color, texColor;\n",
        "END"
      ],
      "metadata": {
        "id": "GDysrk5_j_a4"
      },
      "execution_count": null,
      "outputs": []
    }
  ],
  "metadata": {
    "colab": {
      "provenance": [],
      "include_colab_link": true
    },
    "kernelspec": {
      "display_name": "Python 3",
      "name": "python3"
    }
  },
  "nbformat": 4,
  "nbformat_minor": 0
}