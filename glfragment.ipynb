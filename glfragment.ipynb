{
  "cells": [
    {
      "cell_type": "markdown",
      "metadata": {
        "id": "view-in-github",
        "colab_type": "text"
      },
      "source": [
        "<a href=\"https://colab.research.google.com/github/kodenshacho/sigma/blob/master/glfragment.ipynb\" target=\"_parent\"><img src=\"https://colab.research.google.com/assets/colab-badge.svg\" alt=\"Open In Colab\"/></a>"
      ]
    },
    {
      "cell_type": "markdown",
      "source": [
        "#version 330 core\n",
        "\n",
        "in vec2 TexCoord; // 텍스처 좌표\n",
        "out vec4 FragColor; // 프래그먼트 색상\n",
        "\n",
        "uniform sampler2D textureSampler; // 텍스처 유니폼\n",
        "\n",
        "void main()\n",
        "{\n",
        "    vec4 texColor = texture(textureSampler, TexCoord); // 텍스처 샘플링\n",
        "\n",
        "    // 빨간색과 파란색의 합이 마젠타 범위에 있으면 마젠타로 설정\n",
        "    if (texColor.r + texColor.b > 0.8 && texColor.b > 0.2)\n",
        "    {\n",
        "        FragColor = vec4(1.0, 0.0, 1.0, 1.0); // 마젠타 색상 설정\n",
        "    }\n",
        "    else\n",
        "    {\n",
        "        discard; //  무시\n",
        "    }\n",
        "}"
      ],
      "metadata": {
        "id": "30D3FF5vSBJn"
      }
    },
    {
      "cell_type": "markdown",
      "source": [
        "네, 맞습니다. 텍스처 유닛이 3개인 경우에는 각각의 텍스처 유닛에 대한 샘플러 유니폼 변수를 선언하고 사용할 수 있습니다.\n",
        "\n",
        "예를 들어, 텍스처 유닛 0, 1, 2에 대한 샘플러 유니폼 변수를 만들어 사용할 수 있습니다. 아래는 간단한 예제 코드입니다:\n",
        "\n",
        "```glsl\n",
        "#version 330 core\n",
        "\n",
        "in vec2 TexCoord; // 텍스처 좌표\n",
        "out vec4 FragColor; // 프래그먼트 색상\n",
        "\n",
        "uniform sampler2D textureSampler0; // 텍스처 유니폼 0\n",
        "uniform sampler2D textureSampler1; // 텍스처 유니폼 1\n",
        "uniform sampler2D textureSampler2; // 텍스처 유니폼 2\n",
        "\n",
        "void main()\n",
        "{\n",
        "    // 텍스처 유닛 0에서 텍스처 샘플링\n",
        "    vec4 texColor0 = texture(textureSampler0, TexCoord);\n",
        "    \n",
        "    // 텍스처 유닛 1에서 텍스처 샘플링\n",
        "    vec4 texColor1 = texture(textureSampler1, TexCoord);\n",
        "    \n",
        "    // 텍스처 유닛 2에서 텍스처 샘플링\n",
        "    vec4 texColor2 = texture(textureSampler2, TexCoord);\n",
        "\n",
        "    // 텍스처 샘플링 결과를 조합하여 원하는 처리 수행\n",
        "    FragColor = texColor0 * texColor1 * texColor2;\n",
        "}\n",
        "```\n",
        "\n",
        "위 코드에서 `textureSampler0`, `textureSampler1`, `textureSampler2`는 각각 텍스처 유닛 0, 1, 2에 대한 샘플러 유니폼 변수를 나타냅니다. 이렇게 선언된 샘플러 유니폼 변수를 사용하여 각 텍스처 유닛에서 텍스처를 샘플링할 수 있습니다.\n",
        "\n",
        "\n",
        "외부에서 특정 텍스처 유닛을 지정하려면 GLSL 쉐이더 프로그램을 사용하는 동안 해당 텍스처 유닛에 대한 유니폼 변수를 설정하면 됩니다. 이렇게 하면 쉐이더가 실행되는 동안에도 특정 텍스처 유닛을 사용할 수 있습니다.\n",
        "\n",
        "아래는 간단한 예제 코드로 설명하겠습니다:\n",
        "\n",
        "```cpp\n",
        "// OpenGL에서 shader program을 사용하기 전에 해당 program을 활성화해야 함\n",
        "glUseProgram(shaderProgramID);\n",
        "\n",
        "// 특정 텍스처 유닛을 지정할 때 유니폼 변수에 값을 설정\n",
        "int textureUnit = 2; // 예: 텍스처 유닛 2를 사용하고 싶을 때\n",
        "glUniform1i(glGetUniformLocation(shaderProgramID, \"textureSampler\"), textureUnit);\n",
        "```\n",
        "\n",
        "위 코드에서 `glGetUniformLocation` 함수를 사용하여 쉐이더 프로그램 내에서 `textureSampler`라는 샘플러 유니폼 변수의 위치를 얻은 후에 `glUniform1i` 함수를 사용하여 해당 위치에 원하는 텍스처 유닛 값을 설정합니다. 이렇게 하면 쉐이더가 실행될 때 지정된 텍스처 유닛을 사용하여 텍스처를 샘플링하게 됩니다.\n",
        "\n",
        "따라서 외부에서 특정 텍스처 유닛을 지정하려면 해당 유니폼 변수에 값을 설정하는 방식을 사용하면 됩니다."
      ],
      "metadata": {
        "id": "TKs7lXygVFmH"
      }
    },
    {
      "cell_type": "markdown",
      "source": [
        "!!ARBfp1.0\n",
        "TEMP texColor; // 텍스처 샘플링 결과를 저장할 변수\n",
        "\n",
        "TEX texColor, fragment.texcoord[0], texture[0], 2D; // 텍스처 샘플링\n",
        "\n",
        "// 빨간색과 파란색의 합이 마젠타 범위에 있으면 마젠타로 설정\n",
        "ADD_SAT texColor.rgb, texColor.r, texColor.b;\n",
        "SGE_SAT texColor.a, texColor.b, 0.2;\n",
        "SGE_SAT texColor.a, texColor.a, 0.8;\n",
        "MUL texColor.a, texColor.a, texColor.a; // a 값을 계산\n",
        "\n",
        "SUB_SAT result.color.rgb, {1, 1, 1}, texColor.a; // 마젠타 색상 설정\n",
        "MOV result.color.a, 1.0; // 알파 값 설정\n",
        "END"
      ],
      "metadata": {
        "id": "O2cS15rhXPGJ"
      }
    },
    {
      "cell_type": "markdown",
      "source": [
        "!!ARBfp1.0\n",
        "\n",
        "PARAM constantColor = {1.0, 0.0, 1.0, 1.0}; // 마젠타 색상\n",
        "TEMP texColor;\n",
        "\n",
        "# 텍스처 좌표와 텍스처 유니폼을 가져옵니다.\n",
        "TEX texColor, fragment.texcoord, texture[0], 2D;\n",
        "\n",
        "# 빨간색과 파란색의 합이 마젠타 범위에 있으면 마젠타로 설정합니다.\n",
        "ADD_SAT result.color, texColor.r, texColor.b;\n",
        "CMP result.color, -result.color, constantColor, texColor;\n",
        "\n",
        "# 파란색이 0.2보다 크면 결과를 유지합니다.\n",
        "SGE result.color.b, texColor.b, 0.2;\n",
        "MUL result.color, result.color, result.color.b;\n",
        "\n",
        "END"
      ],
      "metadata": {
        "id": "mN9xG1BDXQ_0"
      }
    },
    {
      "cell_type": "markdown",
      "source": [
        "!!ARBfp1.0\n",
        "\n",
        "# 텍스처 유닛 선언\n",
        "PARAM textureUnit = { 0 };\n",
        "\n",
        "# 텍스처 샘플링을 위한 좌표\n",
        "TEMP texCoord;\n",
        "MOV texCoord, fragment.texcoord;\n",
        "\n",
        "# 텍스처에서 색상 샘플링\n",
        "TEMP texColor;\n",
        "TEX texColor, texCoord, texture[textureUnit], 2D;\n",
        "\n",
        "# 빨간색과 파란색 합 계산\n",
        "TEMP colorSum;\n",
        "ADD colorSum.r, texColor.r, texColor.b;\n",
        "\n",
        "# 조건 확인 및 마젠타색 설정\n",
        "TEMP magenta;\n",
        "PARAM magentaColor = { 1.0, 0.0, 1.0, 1.0 };\n",
        "PARAM threshold = { 0.8, 0.2, 0, 0 };\n",
        "SGE magenta, colorSum.r, threshold.x; # colorSum.r >= 0.8 이면 magenta = 1\n",
        "SGE magenta.a, texColor.b, threshold.y; # texColor.b > 0.2 이면 magenta.a = 1\n",
        "MUL magenta, magenta, magenta.a; # 두 조건 모두 만족 시 magenta = 1\n",
        "CMP result.color, -magenta, texColor, magentaColor; # magenta == 1이면 마젠타색, 아니면 원본 색상\n",
        "\n",
        "# 프래그먼트 색상 출력\n",
        "MOV result.color, magentaColor;\n",
        "\n",
        "END"
      ],
      "metadata": {
        "id": "-ZiIN3EjXacL"
      }
    },
    {
      "cell_type": "markdown",
      "source": [
        "\n",
        "\n",
        "CMP result.color, -condition.a, magenta, {0.0, 0.0, 0.0, 0.0};"
      ],
      "metadata": {
        "id": "n9gPcSgRchSj"
      }
    }
  ],
  "metadata": {
    "colab": {
      "provenance": [],
      "include_colab_link": true
    },
    "kernelspec": {
      "display_name": "Python 3",
      "name": "python3"
    }
  },
  "nbformat": 4,
  "nbformat_minor": 0
}