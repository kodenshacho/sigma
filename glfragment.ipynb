{
  "cells": [
    {
      "cell_type": "markdown",
      "metadata": {
        "id": "view-in-github",
        "colab_type": "text"
      },
      "source": [
        "<a href=\"https://colab.research.google.com/github/kodenshacho/sigma/blob/master/glfragment.ipynb\" target=\"_parent\"><img src=\"https://colab.research.google.com/assets/colab-badge.svg\" alt=\"Open In Colab\"/></a>"
      ]
    },
    {
      "cell_type": "markdown",
      "source": [
        "https://suzulang.com/usage-glactivetexture/"
      ],
      "metadata": {
        "id": "3AKbg6SyuE7K"
      }
    },
    {
      "cell_type": "markdown",
      "source": [
        "https://heinleinsgame.tistory.com/m/9"
      ],
      "metadata": {
        "id": "GqK1Fsa_vxGU"
      }
    },
    {
      "cell_type": "markdown",
      "source": [
        "https://github.com/jiangjie8/OpenGLSimple/tree/master/3rdparty/Windows"
      ],
      "metadata": {
        "id": "jmgF50OJvlm9"
      }
    },
    {
      "cell_type": "markdown",
      "source": [
        "https://168iroha.net/blog/topic/?id=202008111602&sorting=post_date"
      ],
      "metadata": {
        "id": "6VoxikaCy2_B"
      }
    },
    {
      "cell_type": "code",
      "source": [
        "\n",
        "#include <iostream>\n",
        "#include <glad/glad.h>\n",
        "#include <GLFW/glfw3.h>\n",
        "#define STB_IMAGE_IMPLEMENTATION\n",
        "#include \"stb_image.h\"\n",
        "\n",
        "// Vertex shader 소스 코드\n",
        "const char *vertexShaderSource = R\"(\n",
        "    #version 330 core\n",
        "    layout (location = 0) in vec3 aPos;\n",
        "    layout (location = 1) in vec2 aTexCoord;\n",
        "    out vec2 TexCoord;\n",
        "\n",
        "    void main()\n",
        "    {\n",
        "        gl_Position = vec4(aPos, 1.0);\n",
        "        TexCoord = aTexCoord;\n",
        "    }\n",
        ")\";\n",
        "\n",
        "// Fragment shader 소스 코드\n",
        "const char *fragmentShaderSource = R\"(\n",
        "    #version 330 core\n",
        "    out vec4 FragColor;\n",
        "    in vec2 TexCoord;\n",
        "    uniform sampler2D ourTexture;\n",
        "\n",
        "    void main()\n",
        "    {\n",
        "        // 2번째 텍스처를 노란색으로 변경\n",
        "        FragColor = texture(ourTexture, TexCoord) * vec4(1.0, 1.0, 0.0, 1.0);\n",
        "    }\n",
        ")\";\n",
        "\n",
        "int main()\n",
        "{\n",
        "    glfwInit();\n",
        "    glfwWindowHint(GLFW_CONTEXT_VERSION_MAJOR, 3);\n",
        "    glfwWindowHint(GLFW_CONTEXT_VERSION_MINOR, 3);\n",
        "    glfwWindowHint(GLFW_OPENGL_PROFILE, GLFW_OPENGL_CORE_PROFILE);\n",
        "\n",
        "    GLFWwindow* window = glfwCreateWindow(800, 600, \"3D Image\", NULL, NULL);\n",
        "    if (window == NULL)\n",
        "    {\n",
        "        std::cout << \"Failed to create GLFW window\" << std::endl;\n",
        "        glfwTerminate();\n",
        "        return -1;\n",
        "    }\n",
        "    glfwMakeContextCurrent(window);\n",
        "\n",
        "    gladLoadGLLoader((GLADloadproc)glfwGetProcAddress);\n",
        "\n",
        "    // Vertex Shader 생성 및 컴파일\n",
        "    unsigned int vertexShader = glCreateShader(GL_VERTEX_SHADER);\n",
        "    glShaderSource(vertexShader, 1, &vertexShaderSource, NULL);\n",
        "    glCompileShader(vertexShader);\n",
        "\n",
        "    // Fragment Shader 생성 및 컴파일\n",
        "    unsigned int fragmentShader = glCreateShader(GL_FRAGMENT_SHADER);\n",
        "    glShaderSource(fragmentShader, 1, &fragmentShaderSource, NULL);\n",
        "    glCompileShader(fragmentShader);\n",
        "\n",
        "    // Shader Program 생성, 링크\n",
        "    unsigned int shaderProgram = glCreateProgram();\n",
        "    glAttachShader(shaderProgram, vertexShader);\n",
        "    glAttachShader(shaderProgram, fragmentShader);\n",
        "    glLinkProgram(shaderProgram);\n",
        "\n",
        "    // Shader 객체 삭제\n",
        "    glDeleteShader(vertexShader);\n",
        "    glDeleteShader(fragmentShader);\n",
        "\n",
        "    // 사각형을 위한 정점 데이터 및 텍스처 좌표\n",
        "    float vertices[] = {\n",
        "        // positions         // texture coords\n",
        "        0.5f,  0.5f, 0.0f,   1.0f, 1.0f, // top right\n",
        "        0.5f, -0.5f, 0.0f,   1.0f, 0.0f, // bottom right\n",
        "       -0.5f, -0.5f, 0.0f,   0.0f, 0.0f, // bottom left\n",
        "       -0.5f,  0.5f, 0.0f,   0.0f, 1.0f  // top left\n",
        "    };\n",
        "    unsigned int indices[] = {\n",
        "        0, 1, 3, // first triangle\n",
        "        1, 2, 3  // second triangle\n",
        "    };\n",
        "\n",
        "    unsigned int VBO, VAO, EBO;\n",
        "    glGenVertexArrays(1, &VAO);\n",
        "    glGenBuffers(1, &VBO);\n",
        "    glGenBuffers(1, &EBO);\n",
        "\n",
        "    glBindVertexArray(VAO);\n",
        "\n",
        "    glBindBuffer(GL_ARRAY_BUFFER, VBO);\n",
        "    glBufferData(GL_ARRAY_BUFFER, sizeof(vertices), vertices, GL_STATIC_DRAW);\n",
        "\n",
        "    glBindBuffer(GL_ELEMENT_ARRAY_BUFFER, EBO);\n",
        "    glBufferData(GL_ELEMENT_ARRAY_BUFFER, sizeof(indices), indices, GL_STATIC_DRAW);\n",
        "\n",
        "    // vertex positions\n",
        "    glVertexAttribPointer(0, 3, GL_FLOAT, GL_FALSE, 5 * sizeof(float), (void*)0);\n",
        "    glEnableVertexAttribArray(0);\n",
        "\n",
        "    // texture coordinates\n",
        "    glVertexAttribPointer(1, 2, GL_FLOAT, GL_FALSE, 5 * sizeof(float), (void*)(3 * sizeof(float)));\n",
        "    glEnableVertexAttribArray(1);\n",
        "\n",
        "    // 텍스처 로드 및 생성\n",
        "    unsigned int texture1, texture2, texture3;\n",
        "    glGenTextures(1, &texture1);\n",
        "    glBindTexture(GL_TEXTURE_2D, texture1);\n",
        "    // Set texture wrapping parameters\n",
        "    glTexParameteri(GL_TEXTURE_2D, GL_TEXTURE_WRAP_S, GL_REPEAT);\n",
        "    glTexParameteri(GL_TEXTURE_2D, GL_TEXTURE_WRAP_T, GL_REPEAT);\n",
        "    // Set texture filtering parameters\n",
        "    glTexParameteri(GL_TEXTURE_2D, GL_TEXTURE_MIN_FILTER, GL_LINEAR);\n",
        "    glTexParameteri(GL_TEXTURE_2D, GL_TEXTURE_MAG_FILTER, GL_LINEAR);\n",
        "    // Load image, create texture and generate mipmaps\n",
        "    int width, height, nrChannels;\n",
        "    unsigned char *data = stbi_load(\"image1.jpg\", &width, &height, &nrChannels, 0);\n",
        "    if (data)\n",
        "    {\n",
        "        glTexImage2D(GL_TEXTURE_2D, 0, GL_RGB, width, height, 0, GL_RGB, GL_UNSIGNED_BYTE, data);\n",
        "        glGenerateMipmap(GL_TEXTURE_2D);\n",
        "    }\n",
        "    else\n",
        "    {\n",
        "        std::cout << \"Failed to load texture 1\" << std::endl;\n",
        "    }\n",
        "    stbi_image_free(data);\n",
        "\n",
        "    // 여러 개의 텍스처를 로드하고 위의 과정을 반복하여 texture2, texture3 생성\n",
        "\n",
        "    while (!glfwWindowShouldClose(window))\n",
        "    {\n",
        "        // 입력 처리\n",
        "        glfwPollEvents();\n",
        "\n",
        "        // 렌더링\n",
        "        glClearColor(0.2f, 0.3f, 0.3f, 1.0f);\n",
        "        glClear(GL_COLOR_BUFFER_BIT);\n",
        "\n",
        "        // Shader 프로그램 활성화\n",
        "        glUseProgram(shaderProgram);\n",
        "\n",
        "        // 텍스처 바인딩 및 셰이더에 전달\n",
        "        glActiveTexture(GL_TEXTURE0);\n",
        "        glBindTexture(GL_TEXTURE_2D, texture1);\n",
        "        glUniform1i(glGetUniformLocation(shaderProgram, \"ourTexture\"), 0);"
      ],
      "metadata": {
        "id": "53M3O07L45iV"
      },
      "execution_count": null,
      "outputs": []
    }
  ],
  "metadata": {
    "colab": {
      "provenance": [],
      "include_colab_link": true
    },
    "kernelspec": {
      "display_name": "Python 3",
      "name": "python3"
    }
  },
  "nbformat": 4,
  "nbformat_minor": 0
}