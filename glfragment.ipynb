{
  "cells": [
    {
      "cell_type": "markdown",
      "metadata": {
        "id": "view-in-github",
        "colab_type": "text"
      },
      "source": [
        "<a href=\"https://colab.research.google.com/github/kodenshacho/sigma/blob/master/glfragment.ipynb\" target=\"_parent\"><img src=\"https://colab.research.google.com/assets/colab-badge.svg\" alt=\"Open In Colab\"/></a>"
      ]
    },
    {
      "cell_type": "code",
      "source": [
        "\n",
        "// 赤チャンネルのRGBカラー範囲（0.8以上）\n",
        "if (texColor.r >= 0.8 && texColor.g < 0.2 && texColor.b < 0.2)\n",
        "{\n",
        "    // 赤チャンネルのRGB範囲に該当するピクセルを処理する\n",
        "    FragColor = texColor; // 表示するか、他の処理を行う\n",
        "}\n",
        "else\n",
        "{\n",
        "    discard; // 該当範囲外のピクセルを破棄する\n",
        "}"
      ],
      "metadata": {
        "id": "YsWS1krkhl2Y"
      },
      "execution_count": null,
      "outputs": []
    }
  ],
  "metadata": {
    "colab": {
      "provenance": [],
      "include_colab_link": true
    },
    "kernelspec": {
      "display_name": "Python 3",
      "name": "python3"
    }
  },
  "nbformat": 4,
  "nbformat_minor": 0
}