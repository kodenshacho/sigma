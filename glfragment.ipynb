{
  "cells": [
    {
      "cell_type": "markdown",
      "metadata": {
        "id": "view-in-github",
        "colab_type": "text"
      },
      "source": [
        "<a href=\"https://colab.research.google.com/github/kodenshacho/sigma/blob/master/glfragment.ipynb\" target=\"_parent\"><img src=\"https://colab.research.google.com/assets/colab-badge.svg\" alt=\"Open In Colab\"/></a>"
      ]
    },
    {
      "cell_type": "code",
      "source": [
        "\n",
        "// 赤チャンネルのRGBカラー範囲（0.8以上）\n",
        "if (texColor.r >= 0.8 && texColor.g < 0.2 && texColor.b < 0.2)\n",
        "{\n",
        "    // 赤チャンネルのRGB範囲に該当するピクセルを処理する\n",
        "    FragColor = texColor; // 表示するか、他の処理を行う\n",
        "}\n",
        "else\n",
        "{\n",
        "    discard; // 該当範囲外のピクセルを破棄する\n",
        "}"
      ],
      "metadata": {
        "id": "YsWS1krkhl2Y"
      },
      "execution_count": null,
      "outputs": []
    },
    {
      "cell_type": "code",
      "source": [
        "\n",
        "!!ARBfp1.0\n",
        "TEMP texColor;\n",
        "TEMP condition;\n",
        "\n",
        "# 色を読み取る\n",
        "TEX texColor, fragment.texcoord[0], texture[0], 2D;\n",
        "\n",
        "# 条件を評価する\n",
        "SGE condition.x, texColor.r, 0.8;\n",
        "SLT condition.y, texColor.g, 0.2;\n",
        "SLT condition.z, texColor.b, 0.2;\n",
        "MUL condition.x, condition.x, condition.y;\n",
        "MUL condition.x, condition.x, condition.z;\n",
        "\n",
        "# 条件を満たさない場合は破棄する\n",
        "KIL condition.x;\n",
        "\n",
        "# 条件を満たす場合は出力する\n",
        "MOV result.color, texColor;\n",
        "\n",
        "END"
      ],
      "metadata": {
        "id": "Zdh3UR4rjAZ_"
      },
      "execution_count": null,
      "outputs": []
    },
    {
      "cell_type": "code",
      "source": [
        "\n",
        "GLint colorLocation = glGetUniformLocation(shaderProgram, \"color\");\n",
        "    GLfloat colorValue[3];\n",
        "\n",
        "  glUseProgram(shaderProgram);\n",
        "\n",
        "        glUniform3f(colorLocation, 1.0f, 0.0f, 0.0f);\n",
        "        glGetUniformfv(shaderProgram, colorLocation, colorValue);\n",
        "\n",
        "\n",
        "        std::cout << \"Color: (\" << colorValue[0] << \", \" << colorValue[1] << \", \" << colorValue[2] << \")\" << std::endl;"
      ],
      "metadata": {
        "id": "j8COB6CvZnTb"
      },
      "execution_count": null,
      "outputs": []
    },
    {
      "cell_type": "code",
      "source": [
        "\n",
        "#include <opencv2/opencv.hpp>\n",
        "#include <vector>\n",
        "\n",
        "cv::Mat ConvertToMat(const char* imageData, int width, int height, int channels) {\n",
        "\n",
        "    return cv::Mat(height, width, CV_8UC(channels), (void*)imageData);\n",
        "}\n",
        "\n",
        "int main() {\n",
        "\n",
        "    const char* imageData = \"...\";\n",
        "    int width = 640;\n",
        "    int height = 480;\n",
        "    int channels = 3;\n",
        "\n",
        "\n",
        "    cv::Mat image = ConvertToMat(imageData, width, height, channels);\n",
        "\n",
        "\n",
        "    std::vector<cv::Mat> slices;\n",
        "    for (int y = 0; y < image.rows; y += 2) {\n",
        "\n",
        "        cv::Rect roi(0, y, image.cols, 2);\n",
        "        slices.push_back(image(roi));\n",
        "    }\n",
        "\n",
        "\n",
        "    std::vector<const char*> sliceData;\n",
        "    for (auto& slice : slices) {\n",
        "        sliceData.push_back(slice.ptr<const char>());\n",
        "    }\n",
        "\n",
        "    const char* temp = sliceData.front();\n",
        "\n",
        "    //..\n",
        "\n",
        "    return 0;\n",
        "}"
      ],
      "metadata": {
        "id": "Zh91cepaV-yW"
      },
      "execution_count": null,
      "outputs": []
    },
    {
      "cell_type": "code",
      "source": [
        "\n",
        "#include <opencv2/opencv.hpp>\n",
        "#include <vector>\n",
        "\n",
        "int main() {\n",
        "    // 元の画像を読み込む\n",
        "    const char* imagePath = \"your_image_path.jpg\";\n",
        "    cv::Mat image = cv::imread(imagePath, cv::IMREAD_COLOR);\n",
        "    if (image.empty()) {\n",
        "        std::cerr << \"画像を読み込めませんでした。\" << std::endl;\n",
        "        return -1;\n",
        "    }\n",
        "\n",
        "    std::vector<uchar> buf; // 画像データを保存するバッファ\n",
        "    for (int y = 0; y < image.rows; y += 2) {\n",
        "        // ROIを使って画像をスライスする\n",
        "        cv::Rect roi(0, y, image.cols, 1); // 縦方向に1ピクセル高さでスライス\n",
        "        cv::Mat slice = image(roi);\n",
        "\n",
        "        // スライスした画像をバッファに追加\n",
        "        std::vector<uchar> slice_buf;\n",
        "        cv::imencode(\".jpg\", slice, slice_buf); // スライスした画像をJPEG形式でエンコード\n",
        "        buf.insert(buf.end(), slice_buf.begin(), slice_buf.end());\n",
        "    }\n",
        "\n",
        "    // バッファのデータを const char* に変換\n",
        "    const char* temp = reinterpret_cast<const char*>(buf.data());\n",
        "\n",
        "    // ここで temp を使用する処理を行う\n",
        "    // 注意: temp はこのスコープを抜けると無効になるため、必要であれば適切にコピーして使用してください。\n",
        "\n",
        "    return 0;\n",
        "}"
      ],
      "metadata": {
        "id": "C3-Gz_nYWkeK"
      },
      "execution_count": null,
      "outputs": []
    }
  ],
  "metadata": {
    "colab": {
      "provenance": [],
      "include_colab_link": true
    },
    "kernelspec": {
      "display_name": "Python 3",
      "name": "python3"
    }
  },
  "nbformat": 4,
  "nbformat_minor": 0
}