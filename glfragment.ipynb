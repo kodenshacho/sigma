{
  "cells": [
    {
      "cell_type": "markdown",
      "metadata": {
        "id": "view-in-github",
        "colab_type": "text"
      },
      "source": [
        "<a href=\"https://colab.research.google.com/github/kodenshacho/sigma/blob/master/glfragment.ipynb\" target=\"_parent\"><img src=\"https://colab.research.google.com/assets/colab-badge.svg\" alt=\"Open In Colab\"/></a>"
      ]
    },
    {
      "cell_type": "code",
      "source": [
        "\n",
        "// 赤チャンネルのRGBカラー範囲（0.8以上）\n",
        "if (texColor.r >= 0.8 && texColor.g < 0.2 && texColor.b < 0.2)\n",
        "{\n",
        "    // 赤チャンネルのRGB範囲に該当するピクセルを処理する\n",
        "    FragColor = texColor; // 表示するか、他の処理を行う\n",
        "}\n",
        "else\n",
        "{\n",
        "    discard; // 該当範囲外のピクセルを破棄する\n",
        "}"
      ],
      "metadata": {
        "id": "YsWS1krkhl2Y"
      },
      "execution_count": null,
      "outputs": []
    },
    {
      "cell_type": "code",
      "source": [
        "\n",
        "!!ARBfp1.0\n",
        "TEMP texColor;\n",
        "TEMP condition;\n",
        "\n",
        "# 色を読み取る\n",
        "TEX texColor, fragment.texcoord[0], texture[0], 2D;\n",
        "\n",
        "# 条件を評価する\n",
        "SGE condition.x, texColor.r, 0.8;\n",
        "SLT condition.y, texColor.g, 0.2;\n",
        "SLT condition.z, texColor.b, 0.2;\n",
        "MUL condition.x, condition.x, condition.y;\n",
        "MUL condition.x, condition.x, condition.z;\n",
        "\n",
        "# 条件を満たさない場合は破棄する\n",
        "KIL condition.x;\n",
        "\n",
        "# 条件を満たす場合は出力する\n",
        "MOV result.color, texColor;\n",
        "\n",
        "END"
      ],
      "metadata": {
        "id": "Zdh3UR4rjAZ_"
      },
      "execution_count": null,
      "outputs": []
    },
    {
      "cell_type": "code",
      "source": [
        "\n",
        "GLint colorLocation = glGetUniformLocation(shaderProgram, \"color\");\n",
        "    GLfloat colorValue[3];\n",
        "\n",
        "  glUseProgram(shaderProgram);\n",
        "\n",
        "        glUniform3f(colorLocation, 1.0f, 0.0f, 0.0f);\n",
        "        glGetUniformfv(shaderProgram, colorLocation, colorValue);\n",
        "\n",
        "\n",
        "        std::cout << \"Color: (\" << colorValue[0] << \", \" << colorValue[1] << \", \" << colorValue[2] << \")\" << std::endl;"
      ],
      "metadata": {
        "id": "j8COB6CvZnTb"
      },
      "execution_count": null,
      "outputs": []
    }
  ],
  "metadata": {
    "colab": {
      "provenance": [],
      "include_colab_link": true
    },
    "kernelspec": {
      "display_name": "Python 3",
      "name": "python3"
    }
  },
  "nbformat": 4,
  "nbformat_minor": 0
}