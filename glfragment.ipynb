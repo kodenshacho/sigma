{
  "cells": [
    {
      "cell_type": "markdown",
      "metadata": {
        "id": "view-in-github",
        "colab_type": "text"
      },
      "source": [
        "<a href=\"https://colab.research.google.com/github/kodenshacho/sigma/blob/master/glfragment.ipynb\" target=\"_parent\"><img src=\"https://colab.research.google.com/assets/colab-badge.svg\" alt=\"Open In Colab\"/></a>"
      ]
    },
    {
      "cell_type": "code",
      "source": [
        "\n",
        "import pydicom\n",
        "from pydicom.dataset import Dataset, FileMetaDataset\n",
        "from PIL import Image\n",
        "import numpy as np\n",
        "import os\n",
        "\n",
        "def create_dicom_from_tif(tif_files, output_dir, pixel_spacing=(1.0, 1.0), slice_thickness=1.0):\n",
        "    for idx, tif_file in enumerate(tif_files):\n",
        "        # Load TIF image\n",
        "        image = Image.open(tif_file)\n",
        "        image_array = np.array(image)\n",
        "\n",
        "        # Create DICOM dataset\n",
        "        ds = Dataset()\n",
        "\n",
        "        # Create and set file meta information\n",
        "        file_meta = FileMetaDataset()\n",
        "        file_meta.MediaStorageSOPClassUID = pydicom.uid.SecondaryCaptureImageStorage\n",
        "        file_meta.MediaStorageSOPInstanceUID = pydicom.uid.generate_uid()\n",
        "        file_meta.ImplementationClassUID = pydicom.uid.generate_uid()\n",
        "        ds.file_meta = file_meta\n",
        "\n",
        "        # Set DICOM standard fields for 3D Slicer compatibility\n",
        "        ds.Modality = 'OT'  # 'OT' means \"Other\", modify if you have specific modality\n",
        "        ds.PatientName = \"Test^Patient\"\n",
        "        ds.PatientID = \"123456\"\n",
        "        ds.StudyInstanceUID = pydicom.uid.generate_uid()\n",
        "        ds.SeriesInstanceUID = pydicom.uid.generate_uid()\n",
        "        ds.SOPInstanceUID = pydicom.uid.generate_uid()\n",
        "        ds.SOPClassUID = pydicom.uid.SecondaryCaptureImageStorage\n",
        "\n",
        "        # Series and study details\n",
        "        ds.SeriesNumber = 1\n",
        "        ds.InstanceNumber = idx + 1\n",
        "        ds.StudyID = '1'\n",
        "        ds.FrameOfReferenceUID = pydicom.uid.generate_uid()\n",
        "\n",
        "        # Set image properties\n",
        "        ds.SamplesPerPixel = 1  # Grayscale\n",
        "        ds.PhotometricInterpretation = \"MONOCHROME2\"\n",
        "        ds.Rows, ds.Columns = image_array.shape\n",
        "        ds.PixelSpacing = [str(pixel_spacing[0]), str(pixel_spacing[1])]\n",
        "        ds.SliceThickness = str(slice_thickness)\n",
        "        ds.ImagePositionPatient = [0, 0, idx * slice_thickness]  # Z-axis changes by slice_thickness\n",
        "        ds.ImageOrientationPatient = [1, 0, 0, 0, 1, 0]  # Identity matrix (axial orientation)\n",
        "        ds.PixelRepresentation = 0  # unsigned integer\n",
        "        ds.BitsAllocated = 16\n",
        "        ds.BitsStored = 16\n",
        "        ds.HighBit = 15\n",
        "        ds.PixelData = image_array.tobytes()\n",
        "\n",
        "        # Set additional necessary metadata\n",
        "        ds.PatientOrientation = ''\n",
        "        ds.StudyDate = '20240101'  # Example date\n",
        "        ds.StudyTime = '120000'    # Example time\n",
        "\n",
        "        # Save as DICOM file\n",
        "        output_file = os.path.join(output_dir, f\"image_{idx+1}.dcm\")\n",
        "        ds.save_as(output_file)\n",
        "        print(f\"Saved {output_file}\")\n",
        "\n",
        "# Example usage\n",
        "tif_files = [\"cell_slice1.tif\", \"cell_slice2.tif\", \"cell_slice3.tif\"]\n",
        "output_dir = \"./dicom_output\"\n",
        "os.makedirs(output_dir, exist_ok=True)\n",
        "\n",
        "# Specify pixel spacing and slice thickness (in mm) for 3D Slicer\n",
        "pixel_spacing = (0.5, 0.5)  # Example: 0.5mm x 0.5mm pixel resolution\n",
        "slice_thickness = 1.0  # Example: 1mm slice thickness\n",
        "\n",
        "create_dicom_from_tif(tif_files, output_dir, pixel_spacing, slice_thickness)"
      ],
      "metadata": {
        "id": "6aEKPcJhk6YW"
      },
      "execution_count": null,
      "outputs": []
    }
  ],
  "metadata": {
    "colab": {
      "provenance": [],
      "include_colab_link": true
    },
    "kernelspec": {
      "display_name": "Python 3",
      "name": "python3"
    }
  },
  "nbformat": 4,
  "nbformat_minor": 0
}