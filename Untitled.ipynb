{
 "cells": [
  {
   "cell_type": "code",
   "execution_count": null,
   "id": "f5a8a6af",
   "metadata": {},
   "outputs": [],
   "source": [
    "import timeit\n",
    "\n",
    "from src import run_experiment\n",
    "from models import autoencoder\n",
    "from load_dataset import Exhaust"
   ]
  },
  {
   "cell_type": "code",
   "execution_count": null,
   "id": "45156849",
   "metadata": {},
   "outputs": [],
   "source": []
  },
  {
   "cell_type": "code",
   "execution_count": null,
   "id": "b43d8480",
   "metadata": {},
   "outputs": [],
   "source": []
  }
 ],
 "metadata": {
  "kernelspec": {
   "display_name": "Python 3",
   "language": "python",
   "name": "python3"
  },
  "language_info": {
   "codemirror_mode": {
    "name": "ipython",
    "version": 3
   },
   "file_extension": ".py",
   "mimetype": "text/x-python",
   "name": "python",
   "nbconvert_exporter": "python",
   "pygments_lexer": "ipython3",
   "version": "3.6.10"
  }
 },
 "nbformat": 4,
 "nbformat_minor": 5
}
