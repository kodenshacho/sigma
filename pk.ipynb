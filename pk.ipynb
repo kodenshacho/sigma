{
  "cells": [
    {
      "cell_type": "markdown",
      "metadata": {
        "id": "view-in-github",
        "colab_type": "text"
      },
      "source": [
        "<a href=\"https://colab.research.google.com/github/kodenshacho/sigma/blob/master/pk.ipynb\" target=\"_parent\"><img src=\"https://colab.research.google.com/assets/colab-badge.svg\" alt=\"Open In Colab\"/></a>"
      ]
    },
    {
      "cell_type": "code",
      "source": [],
      "metadata": {
        "id": "_q1c7cIFvE_6"
      },
      "execution_count": null,
      "outputs": []
    },
    {
      "cell_type": "markdown",
      "source": [],
      "metadata": {
        "id": "_6amyZLAvFRN"
      }
    },
    {
      "cell_type": "markdown",
      "source": [
        "\n",
        "1. 閾値ベースの検出\n",
        "2. 微分ベースの検出\n",
        "3. ガウス周波数ベースの検出\n",
        "4. 移動平均に基づく検出\n",
        "5. ローレンツ形状要素変換\n",
        "6. 周波数ドメイン変換(FDFT)\n",
        "7. 離散的な局所最大検出\n",
        "8. 階層的クラスタリングに基づく検出\n",
        "9. ウェーブレット変換に基づく検出\n",
        "10. 分解および蓄積再構成(DACR)\n",
        "\n",
        "11. 薦仲ピーク検出\n",
        "12. グラフ理論ベースのピーク検出\n",
        "13. 遺伝子アルゴリズムベースの検出\n",
        "14. レディカルベースの分析\n",
        "15. 非正常ピーク座標変換\n",
        "16. 機械学習ベースの分析"
      ],
      "metadata": {
        "id": "IF4Qy30BvG9a"
      }
    },
    {
      "cell_type": "code",
      "source": [
        "\n",
        "import numpy as np\n",
        "from scipy.signal import find_peaks, gaussian\n",
        "\n",
        "def gaussian_peak_detection(data, width):\n",
        "    gauss_filter = gaussian(len(data), width)\n",
        "    conv_data = np.convolve(data, gauss_filter, mode='same')\n",
        "\n",
        "    peaks, _ = find_peaks(conv_data)\n",
        "    return peaks\n",
        "\n",
        "data = np.array([0, 1, 3, 7, 1, 2, 6, 3, 2, 0])\n",
        "width = 2\n",
        "peaks = gaussian_peak_detection(data, width)\n",
        "print(peaks)"
      ],
      "metadata": {
        "colab": {
          "base_uri": "https://localhost:8080/"
        },
        "id": "ckbNJPYTwChk",
        "outputId": "e3834ec5-5f3f-4851-bda0-259834ccf3a3"
      },
      "execution_count": 1,
      "outputs": [
        {
          "output_type": "stream",
          "name": "stdout",
          "text": [
            "[5]\n"
          ]
        }
      ]
    },
    {
      "cell_type": "code",
      "source": [
        "\n",
        "import numpy as np\n",
        "from scipy.signal import find_peaks,peak_widths\n",
        "from scipy.signal import argrelextrema\n",
        "\n",
        "def lorentzian(data, height=0.8):\n",
        "    peaks,_=find_peaks(data)\n",
        "    widths = peak_widths(data, peaks, rel_height=height)\n",
        "    return peaks, widths\n",
        "\n",
        "data = np.array([0, 1, 3, 7, 1, 2, 6, 3, 2, 0])\n",
        "peaks,widths=lorentzian(data)\n",
        "print(\"peaks : \",peaks, \"widths : \" ,widths)"
      ],
      "metadata": {
        "colab": {
          "base_uri": "https://localhost:8080/"
        },
        "id": "wrLDcc5bwNpd",
        "outputId": "772dd762-313b-4bc1-f4ac-b6a301f3e040"
      },
      "execution_count": 2,
      "outputs": [
        {
          "output_type": "stream",
          "name": "stdout",
          "text": [
            "peaks :  [3 6] widths :  (array([2.73333333, 3.        ]), array([1.4, 2. ]), array([1.2, 5. ]), array([3.93333333, 8.        ]))\n"
          ]
        }
      ]
    },
    {
      "cell_type": "code",
      "source": [
        "\n",
        "import numpy as np\n",
        "from scipy.fft import fft\n",
        "\n",
        "def frequency_domain_peak_detection(data, threshold):\n",
        "    fft_data = fft(data)\n",
        "    fft_magnitudes = np.abs(fft_data)[:len(data) // 2]\n",
        "\n",
        "    peaks = [idx for idx, val in enumerate(fft_magnitudes) if val >= threshold]\n",
        "    return peaks\n",
        "\n",
        "data = np.array([0, 1, 3, 7, 1, 2, 6, 3, 2, 0])\n",
        "threshold = 5\n",
        "peaks = frequency_domain_peak_detection(data, threshold)\n",
        "print(peaks)"
      ],
      "metadata": {
        "colab": {
          "base_uri": "https://localhost:8080/"
        },
        "id": "GZ76V5y_wWHt",
        "outputId": "4677a3d0-f5dd-4e72-b8cd-831d9203cbfc"
      },
      "execution_count": 3,
      "outputs": [
        {
          "output_type": "stream",
          "name": "stdout",
          "text": [
            "[0, 1, 2, 3, 4]\n"
          ]
        }
      ]
    }
  ],
  "metadata": {
    "colab": {
      "provenance": [],
      "include_colab_link": true
    },
    "kernelspec": {
      "display_name": "Python 3",
      "name": "python3"
    }
  },
  "nbformat": 4,
  "nbformat_minor": 0
}