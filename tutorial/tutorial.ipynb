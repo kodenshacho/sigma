{
  "cells": [
    {
      "cell_type": "markdown",
      "source": [
        "# Link G-drive"
      ],
      "metadata": {
        "id": "IzNo8w9CIQJJ"
      }
    },
    {
      "cell_type": "code",
      "source": [
        "from google.colab import drive\n",
        "drive.mount('/content/drive')"
      ],
      "metadata": {
        "id": "SzGYtti-o3eB"
      },
      "execution_count": null,
      "outputs": []
    },
    {
      "cell_type": "markdown",
      "metadata": {
        "id": "PTooJbLTkDWl"
      },
      "source": [
        "# Import libraries"
      ]
    },
    {
      "cell_type": "code",
      "execution_count": 2,
      "metadata": {
        "id": "Rh2VtXMO3EAI"
      },
      "outputs": [],
      "source": [
        "!pip install hyperspy[all]\n",
        "!git clone --branch final https://github.com/poyentung/unmix.git\n",
        "\n",
        "from IPython.display import clear_output \n",
        "clear_output()"
      ]
    },
    {
      "cell_type": "code",
      "execution_count": null,
      "metadata": {
        "id": "4362PEEZfpQB"
      },
      "outputs": [],
      "source": [
        "import sys\n",
        "import os\n",
        "sys.path.append(os.path.join(os.getcwd(), 'unmix'))\n",
        "\n",
        "from utils import normalisation as norm \n",
        "from utils import visualisation as visual\n",
        "from utils.load import SEMDataset\n",
        "from src.utils import same_seeds\n",
        "from src.dim_reduction import Experiment\n",
        "from models.autoencoder import AutoEncoder\n",
        "from src.segmentation import PixelSegmenter\n",
        "from py_widgets import widgets\n",
        "\n",
        "%load_ext autoreload\n",
        "%autoreload 2"
      ]
    },
    {
      "cell_type": "markdown",
      "source": [
        "# Load files"
      ],
      "metadata": {
        "id": "olPzlO4gsAuG"
      }
    },
    {
      "cell_type": "markdown",
      "source": [
        "## Test file"
      ],
      "metadata": {
        "id": "SSSp78yf7-0_"
      }
    },
    {
      "cell_type": "code",
      "source": [
        "!gdown --id '1woNRlyrBbUDIClYp_HNldzA2evdpArsi' -O 'test.bcf'\n",
        "\n",
        "file_path = 'test.bcf'\n",
        "sem = SEMDataset(file_path)\n",
        "sem.set_feature_list(['Al_Ka', 'C_Ka', 'Ca_Ka', 'Fe_Ka', 'K_Ka', 'O_Ka', 'Si_Ka', 'Ti_Ka', 'Zn_La'])"
      ],
      "metadata": {
        "id": "0nDs8V4Vqxqx"
      },
      "execution_count": null,
      "outputs": []
    },
    {
      "cell_type": "markdown",
      "source": [
        "## Upload file"
      ],
      "metadata": {
        "id": "O-xiV2It7rrm"
      }
    },
    {
      "cell_type": "code",
      "source": [
        "from google.colab import files\n",
        "uploaded = files.upload()\n",
        "\n",
        "file_path=list(uploaded.keys())[0]\n",
        "sem = SEMDataset(file_path)"
      ],
      "metadata": {
        "id": "2Wd0omy47rJb"
      },
      "execution_count": null,
      "outputs": []
    },
    {
      "cell_type": "markdown",
      "metadata": {
        "id": "vpqYK5B6m-3k"
      },
      "source": [
        "# Dataset preprocessing"
      ]
    },
    {
      "cell_type": "markdown",
      "metadata": {
        "id": "U-xGqB8EtFGU"
      },
      "source": [
        "## View the dataset\n"
      ]
    },
    {
      "cell_type": "code",
      "source": [
        "widgets.view_bcf_dataset(sem)"
      ],
      "metadata": {
        "colab": {
          "base_uri": "https://localhost:8080/",
          "height": 582,
          "referenced_widgets": [
            "5d4587b170be48b89b2bd93491a873b5",
            "06d3793724104aeea2c7ecaa3ed1a216",
            "39b2d88c17be43848432dd8628db0127",
            "a18d7413e3b54978a3dd2d462e6c0abb",
            "89eea0d1d89c42d3aacd201e690db4ab",
            "8826187ed6404b61a6656f2cc8f2fdae",
            "7bb573b1f1854326977b94cff75469c4",
            "96f0d71974464bcb9992aa983f336451",
            "52508a54110741b69283fbf929edf1d5",
            "5e06b53b91b74bc6aea4aa386314dacc",
            "749b0e9c93a547718a7f00614ba4c28a",
            "dc852adba37d4b6cb0e0e0e818cdb574",
            "b146fe7ebaeb4b42a7efc0fbd2da1587",
            "aa51283f89954e168b96f949a8f277ed",
            "7666e656faf44ebaa868b77345510f54",
            "d39261d437424286b30ac8a884232e42",
            "3564bc6455524eb3882c2a6b88c4e8f5",
            "3258ff7aeb104bcbb11efc14cefe7778",
            "749692b62b0848a2a5b025251774bd78",
            "cb1694a15eb44db3926a6a41dad8da0a",
            "c65dd3ac0c214e18b7852673d3e6b6fc",
            "190a4241c7634879a05f17559eba8a97",
            "cde46276935248e281a4c8585d39613d",
            "609e054053c1486997edbcf01ebd858b",
            "6787cb24e862433a9df44d90e163f422",
            "519a88be0e8f4059b19e18f0a7841fc7",
            "87651808039a4cdc8e3a7b2c81f8cec9",
            "c0f758b02b0b4a548c65719c165fa517",
            "b8ed35ed999140a683081053348f4119",
            "ab77062b590c4799977a8d4a01ce0674",
            "c083cb42331e4b81bf81f9e4c7821776",
            "38245546890644c3a248a5444dc8700c",
            "0380c9359f4e46d897f01123e3ce001c",
            "6aaed7b8b7be4458a6e9aa8e38bf5183",
            "412af048f82d4db69ff6f3e94a159fd4",
            "b2364ee7e57d430f8792bb64c5f0869d",
            "8e2520815fab4ec3be9db679e9c2d4fb",
            "93c268b693b5432d9676d96826d1cf14",
            "1dbb59d0962f4913bccd3e714ee75eb2",
            "455ef6a697d14844acf5c5b94a6a6200",
            "09e5cb5622c6495faa9dbc1cf2dadf00",
            "e72e49cc542e472880372b46702f6d92",
            "13f3051acded46e5bbc8aad86714c4ab",
            "02624b8a1816420b82fb29cea83ff80a",
            "c4046b30f8ce42a7b05b71259551de62",
            "71226fa6e414447cbf35f871e948b457",
            "19fa5fe3da6c48598d6b6c7469c61f82",
            "91eb35cbc5584942bde5c3ec10821caa",
            "4bce9fb31dce4b3fbe2d8e5e00909462",
            "e5a375a45d0b474b9cb88fbcb3543d92",
            "ed59eccd16e443d1afabed06fa8d8aa7",
            "8036bebc2ce04484b42b05534f09900e",
            "8bfaca5de7fb4ec5a2250dbc623b7a70",
            "3605eb39d43d4c9aaca5d1aa0aa97237",
            "65ba9f3e20454fba82e80da1bef7e004",
            "e3eac99f8ce04d4c87cd5ac8f4017a35",
            "f4b7444817e74934a8979cb8471b5399",
            "5755b1b33f6f4bfa9beb14c6e760bf11",
            "ce47d94db0ab4df7970ec781170dfe10",
            "97805cb22f90459b985c687cf497f887",
            "9af7e24dfa034efda7eacc2f7159a164",
            "ebd2b18c8bc3415aa023598444fdc125",
            "18e51ec8e22d4b278f4f6ce09837f54f",
            "fc69c2a45ebd4d2ba5032142c61f2a4d",
            "848fdba4f8ae4f6fabfc76a918e5e84f",
            "19d89d09c7a0468aa278d5e5a0a28dca",
            "6b08281bd14a403bbbd7e9c551ce5c3c",
            "d4482160bda941f0ac09766c812dc8de",
            "c9becaed8bf94da68c80846ea632cc40",
            "756337d61ae64359bc0f5fca02d2f3dd",
            "7b476a9bc09844aab746ca2006f8d028",
            "e60520f72a834279a5c4e01b51f2b4f4",
            "f128637d478b406b886622a13d38dc1e",
            "d3ad02a3e24442d2b3eb7eac9d3b4b1c",
            "180e6d5c473644eabbc586997192311b",
            "9cb5b0281fc846e7a9c84d0a9631c2ff",
            "2cb3ee98d4d24b61893cf48cb9ee5717",
            "0f6214d2769f436ea45296a04c1e664c",
            "c6f9813e9a1a41aeba9de6c590c0bbcc",
            "2073ab1481534f81855b791dc7f71835",
            "63a6eea3ffd14eb88a0277c26ce49c16",
            "b1e9b5e655334de49ac0cbc284af2a13",
            "35e5ac1fd50646b1aa362ef17625c3f0",
            "c932156fa8f54da6bf8458d77e60e3b6",
            "4229b7380326456cadbf461e189cbb0f",
            "395d0df0d15a4792be18bd892317d205",
            "92d236985bff4bbfb8c12c1394a28c89",
            "cedff0fa74c741a1b21b483d83539c25",
            "7ae71369ac34418da84a063958a79527",
            "d4e9d7f8d2844584a76bad020b2c99dd",
            "be415afd3b824b9caf7f592986ef51e3",
            "3af98c3b4c624d22b871362b3726942a",
            "9e1bc75ec82d46f48376e3b66e5bdbec",
            "60671d7a0b8e482b97c5227b0d461df0",
            "751558f2dd2340b1958a7b4d42d96a5e",
            "5fbcf7a1e2204dd7b5a9d825a680c8d9",
            "a33d04fa4a134c32b7e56adbc44ac92e",
            "c46eb65f3d034e7bbeb77d9f78509464",
            "97727e39cb964da282fd9ccd795ddff8",
            "b46eb86a18564d8bb5a07df06c90ef5b",
            "7bec985cd619405d880087ddfe82a205",
            "05e0681215cb413d8e707a6410ad9bb6",
            "eb49858019b94299a48468353cdcc3ff",
            "47bfcf484a6f427fad55c23c7bdc82cc",
            "443026f42aa84f578ac9df7322d2176d",
            "21c64714902d4d2380e2b6fa64af20d5",
            "7219b630c97f4ee99925a8a3cc5b8744",
            "766b8280c021486391bbbd300370990f",
            "358c3393383942ba9a8b8cac9fe0e30f",
            "e7dc9453e0164ba4ab8ca5e6b17235cb",
            "91694bf13dc9474ca88f99328ed7034c",
            "9d597645cbaf42359823e89e7e9627ef",
            "11267c7b859d47a783d403701e87b892"
          ]
        },
        "id": "1hxwImTSrUYT",
        "outputId": "e148a827-3180-488f-c89b-f99b23229e7c"
      },
      "execution_count": 5,
      "outputs": [
        {
          "output_type": "display_data",
          "data": {
            "text/plain": [
              "HBox(children=(BoundedFloatText(value=1.4898, continuous_update=True, description='Energy (keV):', step=0.1), …"
            ],
            "application/vnd.jupyter.widget-view+json": {
              "version_major": 2,
              "version_minor": 0,
              "model_id": "5d4587b170be48b89b2bd93491a873b5"
            }
          },
          "metadata": {}
        },
        {
          "output_type": "display_data",
          "data": {
            "text/plain": [
              "Output()"
            ],
            "application/vnd.jupyter.widget-view+json": {
              "version_major": 2,
              "version_minor": 0,
              "model_id": "52508a54110741b69283fbf929edf1d5"
            }
          },
          "metadata": {}
        },
        {
          "output_type": "display_data",
          "data": {
            "text/plain": [
              "HBox(children=(Text(value='Al_Ka, C_Ka, Ca_Ka, Fe_Ka, K_Ka, O_Ka, Si_Ka, Ti_Ka, Zn_La', description='Feature l…"
            ],
            "application/vnd.jupyter.widget-view+json": {
              "version_major": 2,
              "version_minor": 0,
              "model_id": "749b0e9c93a547718a7f00614ba4c28a"
            }
          },
          "metadata": {}
        },
        {
          "output_type": "display_data",
          "data": {
            "text/plain": [
              "Output()"
            ],
            "application/vnd.jupyter.widget-view+json": {
              "version_major": 2,
              "version_minor": 0,
              "model_id": "749692b62b0848a2a5b025251774bd78"
            }
          },
          "metadata": {}
        },
        {
          "output_type": "display_data",
          "data": {
            "text/plain": [
              "Tab(children=(Output(), Output(), Output()), _titles={'0': 'BSE image', '1': 'EDX sum spectrum', '2': 'Element…"
            ],
            "application/vnd.jupyter.widget-view+json": {
              "version_major": 2,
              "version_minor": 0,
              "model_id": "c65dd3ac0c214e18b7852673d3e6b6fc"
            }
          },
          "metadata": {}
        }
      ]
    },
    {
      "cell_type": "markdown",
      "metadata": {
        "id": "zjNVT8T9ttZx"
      },
      "source": [
        "## Process the dataset"
      ]
    },
    {
      "cell_type": "code",
      "source": [
        "# Rebin both edx and bse dataset\n",
        "sem.rebin_signal(size=(2,2))\n",
        "\n",
        "# normalisation to make the spectrum of each pixel summing to 1.\n",
        "sem.peak_intensity_normalisation()\n",
        "\n",
        "# Remove the first peak until the energy of 0.1 keV\n",
        "sem.remove_fist_peak(end=0.1) \n",
        "\n",
        "# Denoise the X-ray profile using PCA.\n",
        "sem.peak_denoising_PCA(n_components_to_reconstruct=10, plot_results=False)"
      ],
      "metadata": {
        "id": "_kwTAEa5rz7r"
      },
      "execution_count": null,
      "outputs": []
    },
    {
      "cell_type": "code",
      "source": [
        "# View the dataset (bse, edx etc.) at one time.\n",
        "widgets.view_bcf_dataset(sem)"
      ],
      "metadata": {
        "id": "NARhLv5ASNry"
      },
      "execution_count": null,
      "outputs": []
    },
    {
      "cell_type": "markdown",
      "metadata": {
        "id": "59GFs_0SBSkW"
      },
      "source": [
        "## Normalisation"
      ]
    },
    {
      "cell_type": "code",
      "source": [
        "# Normalise the dataset using these three methods.\n",
        "sem.normalisation([norm.neighbour_averaging, \n",
        "                   norm.zscore, \n",
        "                   norm.softmax])"
      ],
      "metadata": {
        "id": "vgCJ-sfVsNbb"
      },
      "execution_count": null,
      "outputs": []
    },
    {
      "cell_type": "code",
      "source": [
        "widgets.view_pixel_distributions(sem, \n",
        "                                norm_list=[norm.neighbour_averaging,\n",
        "                                           norm.zscore,\n",
        "                                           norm.softmax], \n",
        "                                peak='Fe_Ka', \n",
        "                                cmap='inferno')"
      ],
      "metadata": {
        "id": "oXRo2LvTqxbK"
      },
      "execution_count": null,
      "outputs": []
    },
    {
      "cell_type": "markdown",
      "source": [
        "## Assign RGB to elemental peaks"
      ],
      "metadata": {
        "id": "6PaFMEOprt3B"
      }
    },
    {
      "cell_type": "code",
      "source": [
        "widgets.view_rgb(sem)"
      ],
      "metadata": {
        "id": "MZSQgdJsZTgV"
      },
      "execution_count": null,
      "outputs": []
    },
    {
      "cell_type": "code",
      "source": [
        "print('After normalisation:')\n",
        "widgets.view_intensity_maps(edx=sem.normalised_elemental_data, element_list=sem.feature_list)"
      ],
      "metadata": {
        "id": "Uns525mlsjfm"
      },
      "execution_count": null,
      "outputs": []
    },
    {
      "cell_type": "markdown",
      "metadata": {
        "id": "f2GcAoSlnGuN"
      },
      "source": [
        "# Dimensionality reduction: Autoencoder"
      ]
    },
    {
      "cell_type": "markdown",
      "metadata": {
        "id": "k_7bn6yJBjNo"
      },
      "source": [
        "## Initialise experiment / model"
      ]
    },
    {
      "cell_type": "code",
      "source": [
        "# The integer in this function can determine different initialised parameters of model (tuning sudo randomness)\n",
        "# This can influence the result of dimensionality reduction and change the latent space.\n",
        "same_seeds(1)\n",
        "\n",
        "# Set up the experiment, e.g. determining the model structure, dataset for training etc.\n",
        "general_results_dir='/content' \n",
        "ex = Experiment(descriptor='softmax',\n",
        "                general_results_dir=general_results_dir,\n",
        "                model=AutoEncoder,\n",
        "                model_args={'hidden_layer_sizes':(512,256,128)}, # number of hidden layers and corresponding neurons\n",
        "                chosen_dataset=sem.normalised_elemental_data,\n",
        "                save_model_every_epoch=True)"
      ],
      "metadata": {
        "id": "fUcL2sddrLHC"
      },
      "execution_count": null,
      "outputs": []
    },
    {
      "cell_type": "markdown",
      "metadata": {
        "id": "lEgWJf45Bp4F"
      },
      "source": [
        "## Training"
      ]
    },
    {
      "cell_type": "code",
      "source": [
        "# Train the model\n",
        "ex.run_model(num_epochs=100,\n",
        "             patience=50, \n",
        "             batch_size=64,\n",
        "             learning_rate=1e-4, \n",
        "             weight_decay=0.0, \n",
        "             task='train_all', # Change to 'train_all' to train all the dataset without separate some parts for evaluation\n",
        "             noise_added=0.0,\n",
        "             KLD_lambda=1e-4,\n",
        "             criterion='MSE',\n",
        "             lr_scheduler_args={'factor':0.5,\n",
        "                                'patience':5, \n",
        "                                'threshold':1e-2, \n",
        "                                'min_lr':1e-6,\n",
        "                                'verbose':True}) "
      ],
      "metadata": {
        "id": "sgajwhO3rNv1"
      },
      "execution_count": null,
      "outputs": []
    },
    {
      "cell_type": "markdown",
      "metadata": {
        "id": "Pd5l795DnL8r"
      },
      "source": [
        "# Pixel segmentation: Gaussian mixture modelling (GMM) clustering"
      ]
    },
    {
      "cell_type": "markdown",
      "metadata": {
        "id": "BXi8fj7mBsxt"
      },
      "source": [
        "## (Optional) Load Autoencoder"
      ]
    },
    {
      "cell_type": "code",
      "source": [
        "from google.colab import files\n",
        "uploaded = files.upload()\n",
        "\n",
        "ex.load_trained_model(list(uploaded.keys())[0])"
      ],
      "metadata": {
        "id": "3l8O-UwrjcxP"
      },
      "execution_count": null,
      "outputs": []
    },
    {
      "cell_type": "markdown",
      "source": [
        "## Measure Baysian information criterion (BIC)"
      ],
      "metadata": {
        "id": "w_qEVkRAV7BL"
      }
    },
    {
      "cell_type": "code",
      "source": [
        "latent = ex.get_latent()\n",
        "widgets.view_bic(latent, \n",
        "                 n_components=20,\n",
        "                 model='BayesianGaussianMixture', \n",
        "                 model_args={'random_state':6, 'init_params':'kmeans'} )"
      ],
      "metadata": {
        "id": "FP2TyaUrL-D0"
      },
      "execution_count": null,
      "outputs": []
    },
    {
      "cell_type": "markdown",
      "source": [
        "## Run GMM"
      ],
      "metadata": {
        "id": "63qxth1gYc8v"
      }
    },
    {
      "cell_type": "code",
      "source": [
        "latent = ex.get_latent()\n",
        "ps = PixelSegmenter(latent, \n",
        "                    sem.normalised_elemental_data, \n",
        "                    sem,\n",
        "                    method='BayesianGaussianMixture', \n",
        "                    method_args={'n_components':12, 'random_state':6, 'init_params':'kmeans'} )\n",
        "                    # can change random_state to different integer i.e. 10 or 0 to adjust the clustering result."
      ],
      "metadata": {
        "id": "UyU0I3--rTgM"
      },
      "execution_count": 79,
      "outputs": []
    },
    {
      "cell_type": "markdown",
      "metadata": {
        "id": "TyVkwD-kwFIF"
      },
      "source": [
        "## Checking latent space"
      ]
    },
    {
      "cell_type": "code",
      "source": [
        " # Plot latent sapce (2-dimensional) with corresponding Gaussian models\n",
        "widgets.view_latent_space(ps, color=True)"
      ],
      "metadata": {
        "id": "QjrxxOLFrVfu"
      },
      "execution_count": null,
      "outputs": []
    },
    {
      "cell_type": "code",
      "source": [
        "# visualise the latent space\n",
        "widgets.check_latent_space(ps,ratio_to_be_shown=0.5, show_map=True)"
      ],
      "metadata": {
        "id": "mKJ_bEDorXpp"
      },
      "execution_count": null,
      "outputs": []
    },
    {
      "cell_type": "code",
      "source": [
        "# check the density of latent space\n",
        "ps.plot_latent_density()"
      ],
      "metadata": {
        "id": "47TKUHLorZyV"
      },
      "execution_count": null,
      "outputs": []
    },
    {
      "cell_type": "markdown",
      "source": [
        "## Checking each clusters"
      ],
      "metadata": {
        "id": "_uFv-qDOLFye"
      }
    },
    {
      "cell_type": "code",
      "source": [
        "ps.set_feature_list(['Al_Ka', 'C_Ka', 'Ca_Ka', 'Fe_Ka', 'K_Ka', 'O_Ka', 'Si_Ka', 'Ti_Ka', 'Zn_La'])\n",
        "widgets.show_cluster_distribution(ps)"
      ],
      "metadata": {
        "id": "r0fAz4OErbxj"
      },
      "execution_count": null,
      "outputs": []
    },
    {
      "cell_type": "markdown",
      "source": [
        "## Checking cluster map"
      ],
      "metadata": {
        "id": "s7hCyeiKLLii"
      }
    },
    {
      "cell_type": "code",
      "source": [
        "# Plot phase map using the corresponding GM model\n",
        "widgets.view_phase_map(ps)"
      ],
      "metadata": {
        "id": "iH9196CXre1j"
      },
      "execution_count": null,
      "outputs": []
    },
    {
      "cell_type": "code",
      "source": [
        "widgets.view_clusters_sum_spectra(ps, normalisation=True, spectra_range=(0,8))"
      ],
      "metadata": {
        "id": "5yizWZ7rrgvx"
      },
      "execution_count": null,
      "outputs": []
    },
    {
      "cell_type": "markdown",
      "source": [
        "# Unmixing cluster spectrums using Non-negative Matrix Fatorization (NMF)"
      ],
      "metadata": {
        "id": "vDqkqAHpLaN0"
      }
    },
    {
      "cell_type": "code",
      "source": [
        "weights, components = ps.get_unmixed_edx_profile(clusters_to_be_calculated='All', \n",
        "                                                 n_components='All',\n",
        "                                                 normalised=False, \n",
        "                                                 method='NMF', \n",
        "                                                 method_args={'init':'nndsvd'})"
      ],
      "metadata": {
        "id": "DWeg9UomrmzX"
      },
      "execution_count": 85,
      "outputs": []
    },
    {
      "cell_type": "code",
      "source": [
        "widgets.show_unmixed_weights_and_compoments(ps, weights, components)"
      ],
      "metadata": {
        "id": "me57SkqNrpSg"
      },
      "execution_count": null,
      "outputs": []
    },
    {
      "cell_type": "markdown",
      "source": [
        "# Statistics infro from clusters"
      ],
      "metadata": {
        "id": "hSIhNd4oLTHr"
      }
    },
    {
      "cell_type": "code",
      "source": [
        "widgets.show_cluster_stats(ps)"
      ],
      "metadata": {
        "id": "cermaBpurkg7"
      },
      "execution_count": null,
      "outputs": []
    }
  ],
  "metadata": {
    "accelerator": "GPU",
    "colab": {
      "collapsed_sections": [],
      "machine_shape": "hm",
      "name": "Tutorial_github",
      "provenance": [],
      "toc_visible": true
    },
    "kernelspec": {
      "display_name": "Python 3",
      "language": "python",
      "name": "python3"
    },
    "language_info": {
      "codemirror_mode": {
        "name": "ipython",
        "version": 3
      },
      "file_extension": ".py",
      "mimetype": "text/x-python",
      "name": "python",
      "nbconvert_exporter": "python",
      "pygments_lexer": "ipython3",
      "version": "3.7.10"
    },
    "widgets": {
      "application/vnd.jupyter.widget-state+json": {
        "5d4587b170be48b89b2bd93491a873b5": {
          "model_module": "@jupyter-widgets/controls",
          "model_name": "HBoxModel",
          "model_module_version": "1.5.0",
          "state": {
            "_dom_classes": [],
            "_model_module": "@jupyter-widgets/controls",
            "_model_module_version": "1.5.0",
            "_model_name": "HBoxModel",
            "_view_count": null,
            "_view_module": "@jupyter-widgets/controls",
            "_view_module_version": "1.5.0",
            "_view_name": "HBoxView",
            "box_style": "",
            "children": [
              "IPY_MODEL_06d3793724104aeea2c7ecaa3ed1a216",
              "IPY_MODEL_39b2d88c17be43848432dd8628db0127"
            ],
            "layout": "IPY_MODEL_a18d7413e3b54978a3dd2d462e6c0abb"
          }
        },
        "06d3793724104aeea2c7ecaa3ed1a216": {
          "model_module": "@jupyter-widgets/controls",
          "model_name": "BoundedFloatTextModel",
          "model_module_version": "1.5.0",
          "state": {
            "_dom_classes": [],
            "_model_module": "@jupyter-widgets/controls",
            "_model_module_version": "1.5.0",
            "_model_name": "BoundedFloatTextModel",
            "_view_count": null,
            "_view_module": "@jupyter-widgets/controls",
            "_view_module_version": "1.5.0",
            "_view_name": "FloatTextView",
            "continuous_update": true,
            "description": "Energy (keV):",
            "description_tooltip": null,
            "disabled": false,
            "layout": "IPY_MODEL_89eea0d1d89c42d3aacd201e690db4ab",
            "max": 100,
            "min": 0,
            "step": 0.1,
            "style": "IPY_MODEL_8826187ed6404b61a6656f2cc8f2fdae",
            "value": 1.4898
          }
        },
        "39b2d88c17be43848432dd8628db0127": {
          "model_module": "@jupyter-widgets/controls",
          "model_name": "ButtonModel",
          "model_module_version": "1.5.0",
          "state": {
            "_dom_classes": [],
            "_model_module": "@jupyter-widgets/controls",
            "_model_module_version": "1.5.0",
            "_model_name": "ButtonModel",
            "_view_count": null,
            "_view_module": "@jupyter-widgets/controls",
            "_view_module_version": "1.5.0",
            "_view_name": "ButtonView",
            "button_style": "",
            "description": "Search",
            "disabled": false,
            "icon": "",
            "layout": "IPY_MODEL_7bb573b1f1854326977b94cff75469c4",
            "style": "IPY_MODEL_96f0d71974464bcb9992aa983f336451",
            "tooltip": ""
          }
        },
        "a18d7413e3b54978a3dd2d462e6c0abb": {
          "model_module": "@jupyter-widgets/base",
          "model_name": "LayoutModel",
          "model_module_version": "1.2.0",
          "state": {
            "_model_module": "@jupyter-widgets/base",
            "_model_module_version": "1.2.0",
            "_model_name": "LayoutModel",
            "_view_count": null,
            "_view_module": "@jupyter-widgets/base",
            "_view_module_version": "1.2.0",
            "_view_name": "LayoutView",
            "align_content": null,
            "align_items": null,
            "align_self": null,
            "border": null,
            "bottom": null,
            "display": null,
            "flex": null,
            "flex_flow": null,
            "grid_area": null,
            "grid_auto_columns": null,
            "grid_auto_flow": null,
            "grid_auto_rows": null,
            "grid_column": null,
            "grid_gap": null,
            "grid_row": null,
            "grid_template_areas": null,
            "grid_template_columns": null,
            "grid_template_rows": null,
            "height": null,
            "justify_content": null,
            "justify_items": null,
            "left": null,
            "margin": null,
            "max_height": null,
            "max_width": null,
            "min_height": null,
            "min_width": null,
            "object_fit": null,
            "object_position": null,
            "order": null,
            "overflow": null,
            "overflow_x": null,
            "overflow_y": null,
            "padding": null,
            "right": null,
            "top": null,
            "visibility": null,
            "width": null
          }
        },
        "89eea0d1d89c42d3aacd201e690db4ab": {
          "model_module": "@jupyter-widgets/base",
          "model_name": "LayoutModel",
          "model_module_version": "1.2.0",
          "state": {
            "_model_module": "@jupyter-widgets/base",
            "_model_module_version": "1.2.0",
            "_model_name": "LayoutModel",
            "_view_count": null,
            "_view_module": "@jupyter-widgets/base",
            "_view_module_version": "1.2.0",
            "_view_name": "LayoutView",
            "align_content": null,
            "align_items": null,
            "align_self": null,
            "border": null,
            "bottom": null,
            "display": null,
            "flex": null,
            "flex_flow": null,
            "grid_area": null,
            "grid_auto_columns": null,
            "grid_auto_flow": null,
            "grid_auto_rows": null,
            "grid_column": null,
            "grid_gap": null,
            "grid_row": null,
            "grid_template_areas": null,
            "grid_template_columns": null,
            "grid_template_rows": null,
            "height": null,
            "justify_content": null,
            "justify_items": null,
            "left": null,
            "margin": null,
            "max_height": null,
            "max_width": null,
            "min_height": null,
            "min_width": null,
            "object_fit": null,
            "object_position": null,
            "order": null,
            "overflow": null,
            "overflow_x": null,
            "overflow_y": null,
            "padding": null,
            "right": null,
            "top": null,
            "visibility": null,
            "width": null
          }
        },
        "8826187ed6404b61a6656f2cc8f2fdae": {
          "model_module": "@jupyter-widgets/controls",
          "model_name": "DescriptionStyleModel",
          "model_module_version": "1.5.0",
          "state": {
            "_model_module": "@jupyter-widgets/controls",
            "_model_module_version": "1.5.0",
            "_model_name": "DescriptionStyleModel",
            "_view_count": null,
            "_view_module": "@jupyter-widgets/base",
            "_view_module_version": "1.2.0",
            "_view_name": "StyleView",
            "description_width": ""
          }
        },
        "7bb573b1f1854326977b94cff75469c4": {
          "model_module": "@jupyter-widgets/base",
          "model_name": "LayoutModel",
          "model_module_version": "1.2.0",
          "state": {
            "_model_module": "@jupyter-widgets/base",
            "_model_module_version": "1.2.0",
            "_model_name": "LayoutModel",
            "_view_count": null,
            "_view_module": "@jupyter-widgets/base",
            "_view_module_version": "1.2.0",
            "_view_name": "LayoutView",
            "align_content": null,
            "align_items": null,
            "align_self": null,
            "border": null,
            "bottom": null,
            "display": null,
            "flex": null,
            "flex_flow": null,
            "grid_area": null,
            "grid_auto_columns": null,
            "grid_auto_flow": null,
            "grid_auto_rows": null,
            "grid_column": null,
            "grid_gap": null,
            "grid_row": null,
            "grid_template_areas": null,
            "grid_template_columns": null,
            "grid_template_rows": null,
            "height": null,
            "justify_content": null,
            "justify_items": null,
            "left": null,
            "margin": null,
            "max_height": null,
            "max_width": null,
            "min_height": null,
            "min_width": null,
            "object_fit": null,
            "object_position": null,
            "order": null,
            "overflow": null,
            "overflow_x": null,
            "overflow_y": null,
            "padding": null,
            "right": null,
            "top": null,
            "visibility": null,
            "width": null
          }
        },
        "96f0d71974464bcb9992aa983f336451": {
          "model_module": "@jupyter-widgets/controls",
          "model_name": "ButtonStyleModel",
          "model_module_version": "1.5.0",
          "state": {
            "_model_module": "@jupyter-widgets/controls",
            "_model_module_version": "1.5.0",
            "_model_name": "ButtonStyleModel",
            "_view_count": null,
            "_view_module": "@jupyter-widgets/base",
            "_view_module_version": "1.2.0",
            "_view_name": "StyleView",
            "button_color": null,
            "font_weight": ""
          }
        },
        "52508a54110741b69283fbf929edf1d5": {
          "model_module": "@jupyter-widgets/output",
          "model_name": "OutputModel",
          "model_module_version": "1.0.0",
          "state": {
            "_dom_classes": [],
            "_model_module": "@jupyter-widgets/output",
            "_model_module_version": "1.0.0",
            "_model_name": "OutputModel",
            "_view_count": null,
            "_view_module": "@jupyter-widgets/output",
            "_view_module_version": "1.0.0",
            "_view_name": "OutputView",
            "layout": "IPY_MODEL_5e06b53b91b74bc6aea4aa386314dacc",
            "msg_id": "",
            "outputs": []
          }
        },
        "5e06b53b91b74bc6aea4aa386314dacc": {
          "model_module": "@jupyter-widgets/base",
          "model_name": "LayoutModel",
          "model_module_version": "1.2.0",
          "state": {
            "_model_module": "@jupyter-widgets/base",
            "_model_module_version": "1.2.0",
            "_model_name": "LayoutModel",
            "_view_count": null,
            "_view_module": "@jupyter-widgets/base",
            "_view_module_version": "1.2.0",
            "_view_name": "LayoutView",
            "align_content": null,
            "align_items": null,
            "align_self": null,
            "border": null,
            "bottom": null,
            "display": null,
            "flex": null,
            "flex_flow": null,
            "grid_area": null,
            "grid_auto_columns": null,
            "grid_auto_flow": null,
            "grid_auto_rows": null,
            "grid_column": null,
            "grid_gap": null,
            "grid_row": null,
            "grid_template_areas": null,
            "grid_template_columns": null,
            "grid_template_rows": null,
            "height": null,
            "justify_content": null,
            "justify_items": null,
            "left": null,
            "margin": null,
            "max_height": null,
            "max_width": null,
            "min_height": null,
            "min_width": null,
            "object_fit": null,
            "object_position": null,
            "order": null,
            "overflow": null,
            "overflow_x": null,
            "overflow_y": null,
            "padding": null,
            "right": null,
            "top": null,
            "visibility": null,
            "width": null
          }
        },
        "749b0e9c93a547718a7f00614ba4c28a": {
          "model_module": "@jupyter-widgets/controls",
          "model_name": "HBoxModel",
          "model_module_version": "1.5.0",
          "state": {
            "_dom_classes": [],
            "_model_module": "@jupyter-widgets/controls",
            "_model_module_version": "1.5.0",
            "_model_name": "HBoxModel",
            "_view_count": null,
            "_view_module": "@jupyter-widgets/controls",
            "_view_module_version": "1.5.0",
            "_view_name": "HBoxView",
            "box_style": "",
            "children": [
              "IPY_MODEL_dc852adba37d4b6cb0e0e0e818cdb574",
              "IPY_MODEL_b146fe7ebaeb4b42a7efc0fbd2da1587"
            ],
            "layout": "IPY_MODEL_aa51283f89954e168b96f949a8f277ed"
          }
        },
        "dc852adba37d4b6cb0e0e0e818cdb574": {
          "model_module": "@jupyter-widgets/controls",
          "model_name": "TextModel",
          "model_module_version": "1.5.0",
          "state": {
            "_dom_classes": [],
            "_model_module": "@jupyter-widgets/controls",
            "_model_module_version": "1.5.0",
            "_model_name": "TextModel",
            "_view_count": null,
            "_view_module": "@jupyter-widgets/controls",
            "_view_module_version": "1.5.0",
            "_view_name": "TextView",
            "continuous_update": true,
            "description": "Feature list:",
            "description_tooltip": null,
            "disabled": false,
            "layout": "IPY_MODEL_7666e656faf44ebaa868b77345510f54",
            "placeholder": "Type something",
            "style": "IPY_MODEL_d39261d437424286b30ac8a884232e42",
            "value": "Al_Ka, C_Ka, Ca_Ka, Fe_Ka, K_Ka, O_Ka, Si_Ka, Ti_Ka, Zn_La"
          }
        },
        "b146fe7ebaeb4b42a7efc0fbd2da1587": {
          "model_module": "@jupyter-widgets/controls",
          "model_name": "ButtonModel",
          "model_module_version": "1.5.0",
          "state": {
            "_dom_classes": [],
            "_model_module": "@jupyter-widgets/controls",
            "_model_module_version": "1.5.0",
            "_model_name": "ButtonModel",
            "_view_count": null,
            "_view_module": "@jupyter-widgets/controls",
            "_view_module_version": "1.5.0",
            "_view_name": "ButtonView",
            "button_style": "",
            "description": "Set",
            "disabled": false,
            "icon": "",
            "layout": "IPY_MODEL_3564bc6455524eb3882c2a6b88c4e8f5",
            "style": "IPY_MODEL_3258ff7aeb104bcbb11efc14cefe7778",
            "tooltip": ""
          }
        },
        "aa51283f89954e168b96f949a8f277ed": {
          "model_module": "@jupyter-widgets/base",
          "model_name": "LayoutModel",
          "model_module_version": "1.2.0",
          "state": {
            "_model_module": "@jupyter-widgets/base",
            "_model_module_version": "1.2.0",
            "_model_name": "LayoutModel",
            "_view_count": null,
            "_view_module": "@jupyter-widgets/base",
            "_view_module_version": "1.2.0",
            "_view_name": "LayoutView",
            "align_content": null,
            "align_items": null,
            "align_self": null,
            "border": null,
            "bottom": null,
            "display": null,
            "flex": null,
            "flex_flow": null,
            "grid_area": null,
            "grid_auto_columns": null,
            "grid_auto_flow": null,
            "grid_auto_rows": null,
            "grid_column": null,
            "grid_gap": null,
            "grid_row": null,
            "grid_template_areas": null,
            "grid_template_columns": null,
            "grid_template_rows": null,
            "height": null,
            "justify_content": null,
            "justify_items": null,
            "left": null,
            "margin": null,
            "max_height": null,
            "max_width": null,
            "min_height": null,
            "min_width": null,
            "object_fit": null,
            "object_position": null,
            "order": null,
            "overflow": null,
            "overflow_x": null,
            "overflow_y": null,
            "padding": null,
            "right": null,
            "top": null,
            "visibility": null,
            "width": null
          }
        },
        "7666e656faf44ebaa868b77345510f54": {
          "model_module": "@jupyter-widgets/base",
          "model_name": "LayoutModel",
          "model_module_version": "1.2.0",
          "state": {
            "_model_module": "@jupyter-widgets/base",
            "_model_module_version": "1.2.0",
            "_model_name": "LayoutModel",
            "_view_count": null,
            "_view_module": "@jupyter-widgets/base",
            "_view_module_version": "1.2.0",
            "_view_name": "LayoutView",
            "align_content": null,
            "align_items": null,
            "align_self": null,
            "border": null,
            "bottom": null,
            "display": null,
            "flex": null,
            "flex_flow": null,
            "grid_area": null,
            "grid_auto_columns": null,
            "grid_auto_flow": null,
            "grid_auto_rows": null,
            "grid_column": null,
            "grid_gap": null,
            "grid_row": null,
            "grid_template_areas": null,
            "grid_template_columns": null,
            "grid_template_rows": null,
            "height": "40px",
            "justify_content": null,
            "justify_items": null,
            "left": null,
            "margin": null,
            "max_height": null,
            "max_width": null,
            "min_height": null,
            "min_width": null,
            "object_fit": null,
            "object_position": null,
            "order": null,
            "overflow": null,
            "overflow_x": null,
            "overflow_y": null,
            "padding": null,
            "right": null,
            "top": null,
            "visibility": null,
            "width": "600px"
          }
        },
        "d39261d437424286b30ac8a884232e42": {
          "model_module": "@jupyter-widgets/controls",
          "model_name": "DescriptionStyleModel",
          "model_module_version": "1.5.0",
          "state": {
            "_model_module": "@jupyter-widgets/controls",
            "_model_module_version": "1.5.0",
            "_model_name": "DescriptionStyleModel",
            "_view_count": null,
            "_view_module": "@jupyter-widgets/base",
            "_view_module_version": "1.2.0",
            "_view_name": "StyleView",
            "description_width": ""
          }
        },
        "3564bc6455524eb3882c2a6b88c4e8f5": {
          "model_module": "@jupyter-widgets/base",
          "model_name": "LayoutModel",
          "model_module_version": "1.2.0",
          "state": {
            "_model_module": "@jupyter-widgets/base",
            "_model_module_version": "1.2.0",
            "_model_name": "LayoutModel",
            "_view_count": null,
            "_view_module": "@jupyter-widgets/base",
            "_view_module_version": "1.2.0",
            "_view_name": "LayoutView",
            "align_content": null,
            "align_items": null,
            "align_self": null,
            "border": null,
            "bottom": null,
            "display": null,
            "flex": null,
            "flex_flow": null,
            "grid_area": null,
            "grid_auto_columns": null,
            "grid_auto_flow": null,
            "grid_auto_rows": null,
            "grid_column": null,
            "grid_gap": null,
            "grid_row": null,
            "grid_template_areas": null,
            "grid_template_columns": null,
            "grid_template_rows": null,
            "height": null,
            "justify_content": null,
            "justify_items": null,
            "left": null,
            "margin": null,
            "max_height": null,
            "max_width": null,
            "min_height": null,
            "min_width": null,
            "object_fit": null,
            "object_position": null,
            "order": null,
            "overflow": null,
            "overflow_x": null,
            "overflow_y": null,
            "padding": null,
            "right": null,
            "top": null,
            "visibility": null,
            "width": null
          }
        },
        "3258ff7aeb104bcbb11efc14cefe7778": {
          "model_module": "@jupyter-widgets/controls",
          "model_name": "ButtonStyleModel",
          "model_module_version": "1.5.0",
          "state": {
            "_model_module": "@jupyter-widgets/controls",
            "_model_module_version": "1.5.0",
            "_model_name": "ButtonStyleModel",
            "_view_count": null,
            "_view_module": "@jupyter-widgets/base",
            "_view_module_version": "1.2.0",
            "_view_name": "StyleView",
            "button_color": null,
            "font_weight": ""
          }
        },
        "749692b62b0848a2a5b025251774bd78": {
          "model_module": "@jupyter-widgets/output",
          "model_name": "OutputModel",
          "model_module_version": "1.0.0",
          "state": {
            "_dom_classes": [],
            "_model_module": "@jupyter-widgets/output",
            "_model_module_version": "1.0.0",
            "_model_name": "OutputModel",
            "_view_count": null,
            "_view_module": "@jupyter-widgets/output",
            "_view_module_version": "1.0.0",
            "_view_name": "OutputView",
            "layout": "IPY_MODEL_cb1694a15eb44db3926a6a41dad8da0a",
            "msg_id": "",
            "outputs": []
          }
        },
        "cb1694a15eb44db3926a6a41dad8da0a": {
          "model_module": "@jupyter-widgets/base",
          "model_name": "LayoutModel",
          "model_module_version": "1.2.0",
          "state": {
            "_model_module": "@jupyter-widgets/base",
            "_model_module_version": "1.2.0",
            "_model_name": "LayoutModel",
            "_view_count": null,
            "_view_module": "@jupyter-widgets/base",
            "_view_module_version": "1.2.0",
            "_view_name": "LayoutView",
            "align_content": null,
            "align_items": null,
            "align_self": null,
            "border": null,
            "bottom": null,
            "display": null,
            "flex": null,
            "flex_flow": null,
            "grid_area": null,
            "grid_auto_columns": null,
            "grid_auto_flow": null,
            "grid_auto_rows": null,
            "grid_column": null,
            "grid_gap": null,
            "grid_row": null,
            "grid_template_areas": null,
            "grid_template_columns": null,
            "grid_template_rows": null,
            "height": null,
            "justify_content": null,
            "justify_items": null,
            "left": null,
            "margin": null,
            "max_height": null,
            "max_width": null,
            "min_height": null,
            "min_width": null,
            "object_fit": null,
            "object_position": null,
            "order": null,
            "overflow": null,
            "overflow_x": null,
            "overflow_y": null,
            "padding": null,
            "right": null,
            "top": null,
            "visibility": null,
            "width": null
          }
        },
        "c65dd3ac0c214e18b7852673d3e6b6fc": {
          "model_module": "@jupyter-widgets/controls",
          "model_name": "TabModel",
          "model_module_version": "1.5.0",
          "state": {
            "_dom_classes": [],
            "_model_module": "@jupyter-widgets/controls",
            "_model_module_version": "1.5.0",
            "_model_name": "TabModel",
            "_titles": {
              "0": "BSE image",
              "1": "EDX sum spectrum",
              "2": "Elemental maps (raw)"
            },
            "_view_count": null,
            "_view_module": "@jupyter-widgets/controls",
            "_view_module_version": "1.5.0",
            "_view_name": "TabView",
            "box_style": "",
            "children": [
              "IPY_MODEL_190a4241c7634879a05f17559eba8a97",
              "IPY_MODEL_cde46276935248e281a4c8585d39613d",
              "IPY_MODEL_609e054053c1486997edbcf01ebd858b"
            ],
            "layout": "IPY_MODEL_6787cb24e862433a9df44d90e163f422",
            "selected_index": 0
          }
        },
        "190a4241c7634879a05f17559eba8a97": {
          "model_module": "@jupyter-widgets/output",
          "model_name": "OutputModel",
          "model_module_version": "1.0.0",
          "state": {
            "_dom_classes": [],
            "_model_module": "@jupyter-widgets/output",
            "_model_module_version": "1.0.0",
            "_model_name": "OutputModel",
            "_view_count": null,
            "_view_module": "@jupyter-widgets/output",
            "_view_module_version": "1.0.0",
            "_view_name": "OutputView",
            "layout": "IPY_MODEL_87651808039a4cdc8e3a7b2c81f8cec9",
            "msg_id": "",
            "outputs": [
              {
                "output_type": "display_data",
                "data": {
                  "text/plain": "<Figure size 234.49x432 with 1 Axes>",
                  "image/png": "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\n"
                },
                "metadata": {
                  "needs_background": "light"
                }
              },
              {
                "output_type": "display_data",
                "data": {
                  "text/plain": "HBox(children=(Text(value='results', description='Folder name:', layout=Layout(width='auto'), placeholder='Typ…",
                  "application/vnd.jupyter.widget-view+json": {
                    "version_major": 2,
                    "version_minor": 0,
                    "model_id": "ab77062b590c4799977a8d4a01ce0674"
                  }
                },
                "metadata": {}
              },
              {
                "output_type": "display_data",
                "data": {
                  "text/plain": "Output()",
                  "application/vnd.jupyter.widget-view+json": {
                    "version_major": 2,
                    "version_minor": 0,
                    "model_id": "18e51ec8e22d4b278f4f6ce09837f54f"
                  }
                },
                "metadata": {}
              }
            ]
          }
        },
        "cde46276935248e281a4c8585d39613d": {
          "model_module": "@jupyter-widgets/output",
          "model_name": "OutputModel",
          "model_module_version": "1.0.0",
          "state": {
            "_dom_classes": [],
            "_model_module": "@jupyter-widgets/output",
            "_model_module_version": "1.0.0",
            "_model_name": "OutputModel",
            "_view_count": null,
            "_view_module": "@jupyter-widgets/output",
            "_view_module_version": "1.0.0",
            "_view_name": "OutputView",
            "layout": "IPY_MODEL_c0f758b02b0b4a548c65719c165fa517",
            "msg_id": "",
            "outputs": [
              {
                "output_type": "display_data",
                "data": {
                  "text/html": "<html>\n<head><meta charset=\"utf-8\" /></head>\n<body>\n    <div>            <script src=\"https://cdnjs.cloudflare.com/ajax/libs/mathjax/2.7.5/MathJax.js?config=TeX-AMS-MML_SVG\"></script><script type=\"text/javascript\">if (window.MathJax) {MathJax.Hub.Config({SVG: {font: \"STIX-Web\"}});}</script>                <script type=\"text/javascript\">window.PlotlyConfig = {MathJaxConfig: 'local'};</script>\n        <script src=\"https://cdn.plot.ly/plotly-2.8.3.min.js\"></script>                <div id=\"10ffa8bb-bf14-49e1-bb0b-2600577abc05\" class=\"plotly-graph-div\" style=\"height:400px; width:700px;\"></div>            <script type=\"text/javascript\">                                    window.PLOTLYENV=window.PLOTLYENV || {};                                    if (document.getElementById(\"10ffa8bb-bf14-49e1-bb0b-2600577abc05\")) {                    Plotly.newPlot(                        \"10ffa8bb-bf14-49e1-bb0b-2600577abc05\",                        [{\"x\":[-0.47284728,-0.46284628,-0.45284527999999996,-0.44284428,-0.43284328,-0.42284228,-0.41284128,-0.40284028,-0.39283928,-0.38283828,-0.37283728,-0.36283628,-0.35283528,-0.34283428,-0.33283328,-0.32283227999999997,-0.31283128,-0.30283028,-0.29282927999999997,-0.28282828,-0.27282728,-0.26282627999999997,-0.25282528,-0.24282428,-0.23282328,-0.22282227999999998,-0.21282128,-0.20282028000000002,-0.19281927999999998,-0.18281828,-0.17281728000000002,-0.16281627999999998,-0.15281528,-0.14281428000000002,-0.13281327999999998,-0.12281228,-0.11281128000000001,-0.10281027999999998,-0.09280928,-0.08280828000000001,-0.07280728000000003,-0.06280627999999999,-0.05280528000000001,-0.04280428000000003,-0.03280327999999999,-0.022802280000000008,-0.012801280000000026,-0.0028002799999999883,0.007200719999999994,0.017201719999999976,0.027202720000000014,0.03720371999999994,0.04720471999999998,0.057205720000000015,0.06720671999999994,0.07720771999999998,0.08720872000000002,0.09720971999999994,0.10721071999999998,0.11721172000000002,0.12721271999999995,0.13721371999999998,0.14721472000000002,0.15721571999999995,0.16721671999999999,0.17721772000000002,0.18721871999999995,0.19721972,0.20722072000000002,0.21722171999999995,0.22722272,0.23722372000000003,0.24722471999999995,0.25722572,0.26722672000000003,0.27722771999999996,0.28722872,0.29722972000000003,0.30723071999999996,0.31723172,0.3272327199999999,0.33723371999999996,0.34723472,0.3572357199999999,0.36723671999999996,0.37723772,0.3872387199999999,0.39723971999999996,0.40724072,0.4172417199999999,0.42724271999999996,0.43724372,0.44724471999999993,0.45724571999999997,0.46724672,0.47724771999999993,0.48724871999999997,0.49724972,0.5072507199999999,0.51725172,0.52725272,0.5372537199999999,0.5472547199999999,0.55725572,0.5672567199999999,0.5772577199999999,0.58725872,0.5972597199999999,0.6072607199999999,0.61726172,0.6272627199999999,0.6372637199999999,0.64726472,0.6572657199999999,0.6672667199999999,0.67726772,0.6872687199999999,0.6972697199999999,0.70727072,0.71727172,0.7272727199999999,0.73727372,0.74727472,0.7572757199999999,0.76727672,0.77727772,0.7872787199999999,0.79727972,0.80728072,0.8172817199999999,0.82728272,0.83728372,0.8472847199999999,0.85728572,0.86728672,0.8772877199999999,0.88728872,0.89728972,0.9072907199999999,0.91729172,0.92729272,0.9372937199999999,0.94729472,0.95729572,0.9672967199999999,0.97729772,0.98729872,0.9972997199999999,1.00730072,1.0173017199999999,1.0273027199999998,1.0373037200000002,1.04730472,1.05730572,1.06730672,1.0773077199999999,1.0873087199999998,1.0973097200000002,1.10731072,1.11731172,1.12731272,1.1373137199999999,1.1473147199999998,1.1573157199999997,1.16731672,1.17731772,1.18731872,1.1973197199999999,1.2073207199999998,1.2173217199999997,1.22732272,1.23732372,1.24732472,1.2573257199999999,1.2673267199999998,1.2773277199999997,1.28732872,1.29732972,1.30733072,1.3173317199999999,1.3273327199999998,1.3373337199999997,1.34733472,1.35733572,1.36733672,1.3773377199999999,1.3873387199999998,1.3973397199999997,1.40734072,1.41734172,1.42734272,1.4373437199999999,1.4473447199999998,1.4573457199999997,1.46734672,1.47734772,1.48734872,1.4973497199999999,1.5073507199999998,1.5173517199999997,1.52735272,1.53735372,1.54735472,1.5573557199999999,1.5673567199999998,1.5773577200000002,1.5873587200000001,1.59735972,1.60736072,1.61736172,1.6273627199999998,1.6373637200000002,1.6473647200000001,1.65736572,1.66736672,1.67736772,1.6873687199999998,1.6973697200000002,1.7073707200000001,1.71737172,1.72737272,1.73737372,1.7473747199999998,1.7573757200000002,1.7673767200000001,1.77737772,1.78737872,1.79737972,1.8073807199999998,1.8173817200000002,1.8273827200000001,1.83738372,1.84738472,1.85738572,1.8673867199999998,1.8773877200000002,1.8873887200000001,1.89738972,1.90739072,1.91739172,1.9273927199999998,1.9373937200000002,1.9473947200000001,1.95739572,1.96739672,1.97739772,1.9873987199999998,1.9973997200000002,2.00740072,2.01740172,2.02740272,2.03740372,2.04740472,2.05740572,2.06740672,2.07740772,2.08740872,2.09740972,2.10741072,2.1174117199999998,2.12741272,2.13741372,2.14741472,2.15741572,2.16741672,2.17741772,2.18741872,2.19741972,2.20742072,2.21742172,2.22742272,2.23742372,2.24742472,2.25742572,2.26742672,2.27742772,2.28742872,2.29742972,2.30743072,2.31743172,2.32743272,2.33743372,2.34743472,2.35743572,2.36743672,2.37743772,2.38743872,2.39743972,2.40744072,2.41744172,2.42744272,2.43744372,2.44744472,2.45744572,2.46744672,2.47744772,2.48744872,2.49744972,2.50745072,2.51745172,2.52745272,2.53745372,2.54745472,2.55745572,2.56745672,2.57745772,2.58745872,2.59745972,2.60746072,2.61746172,2.62746272,2.63746372,2.64746472,2.65746572,2.66746672,2.67746772,2.68746872,2.69746972,2.70747072,2.71747172,2.7274727199999997,2.73747372,2.74747472,2.75747572,2.76747672,2.77747772,2.7874787199999997,2.79747972,2.80748072,2.81748172,2.82748272,2.83748372,2.8474847199999997,2.85748572,2.86748672,2.87748772,2.88748872,2.89748972,2.9074907199999998,2.91749172,2.92749272,2.93749372,2.94749472,2.95749572,2.9674967199999998,2.97749772,2.98749872,2.99749972,3.00750072,3.01750172,3.0275027199999998,3.03750372,3.04750472,3.05750572,3.06750672,3.07750772,3.0875087199999998,3.09750972,3.10751072,3.11751172,3.12751272,3.13751372,3.1475147199999998,3.15751572,3.16751672,3.17751772,3.18751872,3.19751972,3.2075207199999998,3.21752172,3.22752272,3.23752372,3.24752472,3.25752572,3.2675267199999998,3.27752772,3.28752872,3.29752972,3.30753072,3.31753172,3.3275327199999998,3.33753372,3.34753472,3.35753572,3.36753672,3.37753772,3.38753872,3.3975397199999997,3.40754072,3.41754172,3.42754272,3.43754372,3.44754472,3.4575457199999997,3.46754672,3.47754772,3.48754872,3.49754972,3.50755072,3.5175517199999997,3.52755272,3.53755372,3.54755472,3.55755572,3.56755672,3.5775577199999997,3.5875587199999996,3.5975597199999996,3.6075607199999995,3.6175617200000003,3.6275627200000002,3.63756372,3.64756472,3.65756572,3.66756672,3.67756772,3.68756872,3.6975697199999997,3.7075707199999997,3.7175717199999996,3.7275727199999995,3.7375737200000003,3.7475747200000002,3.75757572,3.76757672,3.77757772,3.78757872,3.79757972,3.80758072,3.8175817199999997,3.8275827199999997,3.8375837199999996,3.8475847199999995,3.8575857200000003,3.8675867200000003,3.87758772,3.88758872,3.89758972,3.90759072,3.91759172,3.92759272,3.9375937199999997,3.9475947199999997,3.9575957199999996,3.9675967199999995,3.9775977200000003,3.9875987200000003,3.99759972,4.00760072,4.01760172,4.02760272,4.03760372,4.04760472,4.05760572,4.06760672,4.07760772,4.0876087199999995,4.0976097199999995,4.10761072,4.11761172,4.12761272,4.13761372,4.14761472,4.15761572,4.16761672,4.17761772,4.18761872,4.19761972,4.2076207199999995,4.2176217199999995,4.22762272,4.23762372,4.24762472,4.25762572,4.26762672,4.27762772,4.28762872,4.29762972,4.30763072,4.31763172,4.3276327199999995,4.3376337199999995,4.34763472,4.35763572,4.36763672,4.37763772,4.38763872,4.39763972,4.40764072,4.41764172,4.42764272,4.43764372,4.4476447199999996,4.4576457199999995,4.46764672,4.47764772,4.48764872,4.49764972,4.50765072,4.51765172,4.52765272,4.53765372,4.54765472,4.55765572,4.56765672,4.5776577199999995,4.58765872,4.59765972,4.60766072,4.61766172,4.62766272,4.63766372,4.64766472,4.65766572,4.66766672,4.67766772,4.68766872,4.6976697199999995,4.707670719999999,4.71767172,4.72767272,4.73767372,4.74767472,4.75767572,4.76767672,4.77767772,4.78767872,4.79767972,4.80768072,4.8176817199999995,4.827682719999999,4.83768372,4.84768472,4.85768572,4.86768672,4.87768772,4.88768872,4.89768972,4.90769072,4.91769172,4.92769272,4.9376937199999995,4.947694719999999,4.95769572,4.96769672,4.97769772,4.98769872,4.99769972,5.00770072,5.01770172,5.02770272,5.03770372,5.04770472,5.0577057199999995,5.067706719999999,5.07770772,5.08770872,5.09770972,5.10771072,5.11771172,5.12771272,5.13771372,5.14771472,5.15771572,5.16771672,5.1777177199999995,5.1877187199999995,5.19771972,5.20772072,5.21772172,5.22772272,5.23772372,5.24772472,5.25772572,5.26772672,5.27772772,5.28772872,5.2977297199999995,5.3077307199999995,5.317731719999999,5.32773272,5.33773372,5.34773472,5.35773572,5.36773672,5.37773772,5.38773872,5.39773972,5.40774072,5.4177417199999995,5.4277427199999995,5.437743719999999,5.44774472,5.45774572,5.46774672,5.47774772,5.48774872,5.49774972,5.50775072,5.51775172,5.52775272,5.5377537199999995,5.5477547199999995,5.557755719999999,5.56775672,5.57775772,5.58775872,5.59775972,5.60776072,5.61776172,5.62776272,5.63776372,5.64776472,5.6577657199999996,5.6677667199999995,5.677767719999999,5.68776872,5.69776972,5.70777072,5.71777172,5.72777272,5.73777372,5.74777472,5.75777572,5.76777672,5.77777772,5.7877787199999995,5.797779719999999,5.80778072,5.81778172,5.82778272,5.83778372,5.84778472,5.85778572,5.86778672,5.87778772,5.88778872,5.89778972,5.9077907199999995,5.917791719999999,5.927792719999999,5.93779372,5.94779472,5.95779572,5.96779672,5.97779772,5.98779872,5.99779972,6.00780072,6.01780172,6.0278027199999995,6.037803719999999,6.047804719999999,6.05780572,6.06780672,6.07780772,6.08780872,6.09780972,6.10781072,6.11781172,6.12781272,6.13781372,6.1478147199999995,6.157815719999999,6.167816719999999,6.17781772,6.18781872,6.19781972,6.20782072,6.21782172,6.22782272,6.23782372,6.24782472,6.25782572,6.2678267199999995,6.2778277199999994,6.287828719999999,6.29782972,6.30783072,6.31783172,6.32783272,6.33783372,6.34783472,6.35783572,6.36783672,6.37783772,6.3878387199999995,6.3978397199999995,6.407840719999999,6.41784172,6.42784272,6.43784372,6.44784472,6.45784572,6.46784672,6.47784772,6.48784872,6.49784972,6.5078507199999995,6.5178517199999995,6.527852719999999,6.53785372,6.54785472,6.55785572,6.56785672,6.57785772,6.58785872,6.59785972,6.60786072,6.61786172,6.6278627199999995,6.6378637199999995,6.647864719999999,6.657865719999999,6.66786672,6.67786772,6.68786872,6.69786972,6.70787072,6.71787172,6.72787272,6.73787372,6.7478747199999995,6.7578757199999995,6.767876719999999,6.777877719999999,6.78787872,6.79787972,6.80788072,6.81788172,6.82788272,6.83788372,6.84788472,6.85788572,6.86788672,6.8778877199999995,6.887888719999999,6.897889719999999,6.90789072,6.91789172,6.92789272,6.93789372,6.94789472,6.95789572,6.96789672,6.97789772,6.98789872,6.9978997199999995,7.007900719999999,7.017901719999999,7.02790272,7.03790372,7.04790472,7.05790572,7.06790672,7.07790772,7.08790872,7.09790972,7.10791072,7.1179117199999995,7.127912719999999,7.137913719999999,7.14791472,7.15791572,7.16791672,7.17791772,7.18791872,7.19791972,7.20792072,7.21792172,7.22792272,7.2379237199999995,7.247924719999999,7.257925719999999,7.267926719999999,7.27792772,7.28792872,7.29792972,7.30793072,7.31793172,7.32793272,7.33793372,7.34793472,7.3579357199999995,7.367936719999999,7.377937719999999,7.387938719999999,7.39793972,7.40794072,7.41794172,7.42794272,7.43794372,7.44794472,7.45794572,7.46794672,7.4779477199999995,7.4879487199999994,7.497949719999999,7.507950719999999,7.51795172,7.52795272,7.537953719999999,7.54795472,7.557955719999999,7.56795672,7.577957720000001,7.58795872,7.59795972,7.6079607199999995,7.61796172,7.627962719999999,7.63796372,7.647964719999999,7.65796572,7.667966719999999,7.67796772,7.687968719999999,7.69796972,7.7079707200000005,7.7179717199999995,7.72797272,7.737973719999999,7.74797472,7.757975719999999,7.76797672,7.777977719999999,7.78797872,7.797979719999999,7.80798072,7.817981720000001,7.82798272,7.83798372,7.8479847199999995,7.85798572,7.867986719999999,7.87798772,7.887988719999999,7.89798972,7.907990719999999,7.91799172,7.927992719999999,7.93799372,7.9479947200000005,7.9579957199999996,7.96799672,7.977997719999999,7.98799872,7.997999719999999,8.00800072,8.018001719999999,8.02800272,8.038003719999999,8.04800472,8.058005719999999,8.06800672,8.07800772,8.08800872,8.09800972,8.10801072,8.11801172,8.12801272,8.13801372,8.148014719999999,8.15801572,8.168016719999999,8.17801772,8.18801872,8.19801972,8.20802072,8.21802172,8.22802272,8.23802372,8.24802472,8.25802572,8.26802672,8.278027719999999,8.28802872,8.298029719999999,8.30803072,8.31803172,8.32803272,8.33803372,8.34803472,8.35803572,8.36803672,8.37803772,8.388038719999999,8.39803972,8.408040719999999,8.41804172,8.42804272,8.43804372,8.44804472,8.45804572,8.46804672,8.47804772,8.48804872,8.49804972,8.50805072,8.518051719999999,8.52805272,8.538053719999999,8.54805472,8.55805572,8.56805672,8.57805772,8.58805872,8.59805972,8.60806072,8.61806172,8.628062719999999,8.63806372,8.648064719999999,8.65806572,8.668066719999999,8.67806772,8.68806872,8.69806972,8.70807072,8.71807172,8.72807272,8.73807372,8.74807472,8.758075719999999,8.76807672,8.778077719999999,8.78807872,8.79807972,8.80808072,8.81808172,8.82808272,8.83808372,8.84808472,8.85808572,8.868086719999999,8.87808772,8.888088719999999,8.89808972,8.908090719999999,8.91809172,8.92809272,8.93809372,8.94809472,8.95809572,8.96809672,8.97809772,8.98809872,8.998099719999999,9.00810072,9.018101719999999,9.02810272,9.03810372,9.04810472,9.05810572,9.06810672,9.07810772,9.08810872,9.09810972,9.108110719999999,9.11811172,9.128112719999999,9.13811372,9.148114719999999,9.15811572,9.16811672,9.17811772,9.18811872,9.19811972,9.20812072,9.21812172,9.22812272,9.238123719999999,9.24812472,9.258125719999999,9.26812672,9.278127719999999,9.28812872,9.29812972,9.30813072,9.31813172,9.32813272,9.33813372,9.34813472,9.35813572,9.368136719999999,9.37813772,9.388138719999999,9.39813972,9.40814072,9.41814172,9.42814272,9.43814372,9.44814472,9.45814572,9.46814672,9.478147719999999,9.48814872,9.498149719999999,9.50815072,9.518151719999999,9.52815272,9.53815372,9.54815472,9.55815572,9.56815672,9.57815772,9.58815872,9.59815972,9.608160719999999,9.61816172,9.628162719999999,9.63816372,9.64816472,9.65816572,9.66816672,9.67816772,9.68816872,9.69816972,9.70817072,9.718171719999999,9.72817272,9.738173719999999,9.74817472,9.758175719999999,9.76817672,9.77817772,9.78817872,9.79817972,9.80818072,9.81818172,9.82818272,9.83818372,9.848184719999999,9.85818572,9.868186719999999,9.87818772,9.888188719999999,9.89818972,9.90819072,9.91819172,9.92819272,9.93819372,9.94819472,9.958195719999999,9.96819672,9.978197719999999,9.98819872,9.998199719999999,10.00820072,10.01820172,10.02820272,10.03820372,10.04820472,10.05820572,10.06820672,10.07820772,10.088208719999999,10.09820972,10.108210719999999,10.11821172,10.128212719999999,10.13821372,10.14821472,10.15821572,10.16821672,10.17821772,10.18821872,10.198219719999999,10.20822072,10.218221719999999,10.22822272,10.238223719999999,10.24822472,10.25822572,10.26822672,10.27822772,10.28822872,10.29822972,10.30823072,10.31823172,10.328232719999999,10.33823372,10.348234719999999,10.35823572,10.368236719999999,10.37823772,10.38823872,10.39823972,10.40824072,10.41824172,10.42824272,10.43824372,10.44824472,10.458245719999999,10.46824672,10.478247719999999,10.48824872,10.498249719999999,10.50825072,10.51825172,10.52825272,10.53825372,10.54825472,10.55825572,10.568256719999999,10.57825772,10.588258719999999,10.59825972,10.608260719999999,10.61826172,10.62826272,10.63826372,10.64826472,10.65826572,10.66826672,10.67826772,10.68826872,10.698269719999999,10.70827072,10.718271719999999,10.72827272,10.738273719999999,10.74827472,10.75827572,10.76827672,10.77827772,10.78827872,10.79827972,10.808280719999999,10.81828172,10.828282719999999,10.83828372,10.848284719999999,10.85828572,10.86828672,10.87828772,10.88828872,10.89828972,10.90829072,10.91829172,10.92829272,10.938293719999999,10.94829472,10.958295719999999,10.96829672,10.978297719999999,10.98829872,10.99829972,11.00830072,11.01830172,11.02830272,11.03830372,11.048304719999999,11.05830572,11.068306719999999,11.07830772,11.088308719999999,11.09830972,11.108310719999999,11.11831172,11.12831272,11.13831372,11.14831472,11.15831572,11.16831672,11.178317719999999,11.18831872,11.198319719999999,11.20832072,11.218321719999999,11.22832272,11.23832372,11.24832472,11.25832572,11.26832672,11.27832772,11.288328719999999,11.29832972,11.308330719999999,11.31833172,11.328332719999999,11.33833372,11.348334719999999,11.35833572,11.36833672,11.37833772,11.38833872,11.39833972,11.40834072,11.418341719999999,11.42834272,11.438343719999999,11.44834472,11.458345719999999,11.46834672,11.47834772,11.48834872,11.49834972,11.50835072,11.51835172,11.528352719999999,11.53835372,11.548354719999999,11.55835572,11.568356719999999,11.57835772,11.588358719999999,11.59835972,11.60836072,11.61836172,11.62836272,11.63836372,11.64836472,11.658365719999999,11.66836672,11.678367719999999,11.68836872,11.698369719999999,11.70837072,11.718371719999999,11.72837272,11.73837372,11.74837472,11.75837572,11.76837672,11.77837772,11.788378719999999,11.79837972,11.808380719999999,11.81838172,11.828382719999999,11.83838372,11.84838472,11.85838572,11.86838672,11.87838772,11.88838872,11.898389719999999,11.90839072,11.918391719999999,11.92839272,11.938393719999999,11.94839472,11.958395719999999,11.96839672,11.97839772,11.98839872,11.99839972,12.00840072,12.01840172,12.028402719999999,12.03840372,12.048404719999999,12.05840572,12.068406719999999,12.07840772,12.08840872,12.09840972,12.10841072,12.11841172,12.12841272,12.138413719999999,12.14841472,12.158415719999999,12.16841672,12.178417719999999,12.18841872,12.198419719999999,12.20842072,12.21842172,12.22842272,12.23842372,12.24842472,12.25842572,12.268426719999999,12.27842772,12.288428719999999,12.29842972,12.308430719999999,12.31843172,12.328432719999999,12.33843372,12.34843472,12.35843572,12.36843672,12.378437719999999,12.38843872,12.398439719999999,12.40844072,12.418441719999999,12.42844272,12.438443719999999,12.44844472,12.45844572,12.46844672,12.47844772,12.48844872,12.49844972,12.508450719999999,12.51845172,12.528452719999999,12.53845372,12.548454719999999,12.55845572,12.568456719999999,12.57845772,12.58845872,12.59845972,12.60846072,12.618461719999999,12.62846272,12.638463719999999,12.64846472,12.658465719999999,12.66846672,12.678467719999999,12.68846872,12.69846972,12.70847072,12.71847172,12.72847272,12.73847372,12.748474719999999,12.75847572,12.768476719999999,12.77847772,12.788478719999999,12.79847972,12.808480719999999,12.81848172,12.82848272,12.83848372,12.84848472,12.85848572,12.86848672,12.878487719999999,12.88848872,12.898489719999999,12.90849072,12.918491719999999,12.92849272,12.93849372,12.94849472,12.95849572,12.96849672,12.97849772,12.988498719999999,12.99849972,13.008500719999999,13.01850172,13.028502719999999,13.03850372,13.048504719999999,13.05850572,13.06850672,13.07850772,13.08850872,13.09850972,13.10851072,13.118511719999999,13.12851272,13.138513719999999,13.14851472,13.158515719999999,13.16851672,13.178517719999999,13.18851872,13.19851972,13.20852072,13.21852172,13.228522719999999,13.23852372,13.248524719999999,13.25852572,13.268526719999999,13.27852772,13.288528719999999,13.29852972,13.30853072,13.31853172,13.32853272,13.33853372,13.34853472,13.358535719999999,13.36853672,13.378537719999999,13.38853872,13.398539719999999,13.40854072,13.418541719999999,13.42854272,13.43854372,13.44854472,13.45854572,13.468546719999999,13.47854772,13.488548719999999,13.49854972,13.508550719999999,13.51855172,13.528552719999999,13.53855372,13.54855472,13.55855572,13.56855672,13.57855772,13.58855872,13.598559719999999,13.60856072,13.618561719999999,13.62856272,13.638563719999999,13.64856472,13.658565719999999,13.66856672,13.67856772,13.68856872,13.69856972,13.708570719999999,13.71857172,13.728572719999999,13.73857372,13.748574719999999,13.75857572,13.768576719999999,13.77857772,13.788578719999999,13.79857972,13.80858072,13.81858172,13.82858272,13.838583719999999,13.84858472,13.858585719999999,13.86858672,13.878587719999999,13.88858872,13.898589719999999,13.90859072,13.91859172,13.92859272,13.93859372,13.94859472,13.95859572,13.968596719999999,13.97859772,13.988598719999999,13.99859972,14.008600719999999,14.01860172,14.028602719999999,14.03860372,14.04860472,14.05860572,14.06860672,14.078607719999999,14.08860872,14.098609719999999,14.10861072,14.118611719999999,14.12861272,14.138613719999999,14.14861472,14.15861572,14.16861672,14.17861772,14.18861872,14.19861972,14.208620719999999,14.21862172,14.228622719999999,14.23862372,14.248624719999999,14.25862572,14.268626719999999,14.27862772,14.28862872,14.29862972,14.30863072,14.318631719999999,14.32863272,14.338633719999999,14.34863472,14.358635719999999,14.36863672,14.378637719999999,14.38863872,14.398639719999998,14.40864072,14.41864172,14.42864272,14.43864372,14.448644719999999,14.45864572,14.468646719999999,14.47864772,14.488648719999999,14.49864972,14.508650719999999,14.51865172,14.52865272,14.53865372,14.54865472,14.558655719999999,14.56865672,14.578657719999999,14.58865872,14.598659719999999,14.60866072,14.618661719999999,14.62866272,14.638663719999998,14.64866472,14.65866572,14.66866672,14.67866772,14.688668719999999,14.69866972,14.708670719999999,14.71867172,14.728672719999999,14.73867372,14.748674719999999,14.75867572,14.76867672,14.77867772,14.78867872,14.798679719999999,14.80868072,14.818681719999999,14.82868272,14.838683719999999,14.84868472,14.858685719999999,14.86868672,14.878687719999999,14.88868872,14.89868972,14.90869072,14.91869172,14.928692719999999,14.93869372,14.948694719999999,14.95869572,14.968696719999999,14.97869772,14.988698719999999],\"y\":[0.0,0.0,0.0,0.0,0.0,0.0,0.0,0.0,0.0,0.0,0.0,0.0,0.0,0.0,0.0,0.0,0.0,0.0,0.0,0.0,0.0,0.0,0.0,0.0,0.0,0.0,0.0,0.0,0.0,0.0,0.0,1.0,0.0,0.0,1.0,1.0,0.0,4.0,26.0,145.0,656.0,2511.0,8214.0,21678.0,46679.0,83981.0,122866.0,149844.0,148535.0,122035.0,83418.0,46652.0,21833.0,8585.0,2797.0,802.0,211.0,54.0,16.0,10.0,4591.0,6628.0,7301.0,7725.0,7912.0,8146.0,8156.0,8221.0,8321.0,8970.0,9328.0,10298.0,10959.0,11558.0,11777.0,11457.0,10438.0,9243.0,7759.0,6770.0,6004.0,5533.0,5311.0,5238.0,5248.0,5355.0,5354.0,5676.0,5983.0,6422.0,6768.0,7438.0,8272.0,10151.0,12997.0,17571.0,24292.0,32286.0,40740.0,46914.0,48939.0,46453.0,38631.0,28764.0,19250.0,11907.0,7385.0,4884.0,3644.0,3420.0,3354.0,3367.0,3359.0,3704.0,4356.0,5230.0,6318.0,7113.0,7781.0,7654.0,7191.0,6064.0,4846.0,3817.0,3026.0,2393.0,2133.0,2014.0,1912.0,1860.0,1921.0,1825.0,1913.0,1874.0,1957.0,2055.0,2124.0,2119.0,2234.0,2287.0,2394.0,2411.0,2506.0,2596.0,2961.0,3204.0,3734.0,4202.0,4585.0,4996.0,5151.0,5094.0,4868.0,4444.0,3876.0,3643.0,3232.0,3002.0,2864.0,2709.0,2691.0,2770.0,2737.0,2730.0,2798.0,2829.0,2832.0,2891.0,2880.0,2990.0,2996.0,3077.0,3154.0,3305.0,3356.0,3230.0,3301.0,3194.0,3252.0,3076.0,3136.0,3126.0,3135.0,3144.0,3194.0,3232.0,3204.0,3495.0,3743.0,4147.0,4807.0,5879.0,7508.0,9381.0,11160.0,12690.0,13553.0,13702.0,12888.0,11651.0,9972.0,8156.0,6648.0,5524.0,4584.0,3998.0,3781.0,3550.0,3279.0,3378.0,3301.0,3528.0,3645.0,4363.0,5559.0,7368.0,10068.0,13900.0,18036.0,22688.0,26645.0,29546.0,30481.0,29257.0,26291.0,22140.0,17818.0,13695.0,10321.0,7783.0,6145.0,4986.0,4354.0,3821.0,3560.0,3200.0,3076.0,2866.0,2949.0,3004.0,3020.0,3057.0,3116.0,3011.0,3068.0,3176.0,2953.0,2876.0,2739.0,2611.0,2564.0,2570.0,2525.0,2413.0,2360.0,2382.0,2375.0,2401.0,2413.0,2422.0,2382.0,2458.0,2436.0,2408.0,2465.0,2435.0,2387.0,2324.0,2394.0,2358.0,2433.0,2472.0,2489.0,2575.0,2487.0,2509.0,2559.0,2673.0,2616.0,2577.0,2578.0,2547.0,2503.0,2449.0,2472.0,2353.0,2374.0,2331.0,2319.0,2313.0,2266.0,2354.0,2244.0,2254.0,2349.0,2343.0,2292.0,2346.0,2322.0,2309.0,2213.0,2384.0,2244.0,2279.0,2296.0,2257.0,2189.0,2335.0,2276.0,2459.0,2216.0,2214.0,2253.0,2182.0,2260.0,2212.0,2211.0,2147.0,2166.0,2179.0,2136.0,2164.0,2152.0,2257.0,2236.0,2221.0,2057.0,2231.0,2187.0,2210.0,2152.0,2169.0,2074.0,2165.0,2189.0,2127.0,2138.0,2111.0,2105.0,2119.0,2127.0,2124.0,2127.0,2066.0,2067.0,2073.0,2036.0,2133.0,2127.0,2093.0,2098.0,2022.0,1976.0,2121.0,2129.0,2008.0,2005.0,2021.0,2096.0,2117.0,2071.0,2212.0,2151.0,2051.0,2075.0,2133.0,2054.0,2206.0,2272.0,2380.0,2491.0,2837.0,3035.0,3454.0,3925.0,4457.0,5106.0,5348.0,5864.0,5898.0,5949.0,5637.0,5185.0,4842.0,4291.0,3871.0,3311.0,2956.0,2628.0,2347.0,2223.0,2193.0,2053.0,2025.0,2047.0,2128.0,2144.0,2253.0,2270.0,2321.0,2581.0,2540.0,2835.0,3316.0,3909.0,4843.0,6405.0,8663.0,12183.0,16283.0,22070.0,28653.0,35955.0,44536.0,51970.0,58222.0,62283.0,64323.0,61834.0,58674.0,52410.0,44534.0,36589.0,28904.0,21887.0,16127.0,11502.0,7866.0,5586.0,3961.0,3051.0,2440.0,2184.0,2010.0,1873.0,1870.0,2070.0,2121.0,2353.0,2650.0,3030.0,3597.0,4141.0,5005.0,5865.0,6833.0,7628.0,8454.0,8769.0,9104.0,8960.0,8764.0,7885.0,7041.0,6066.0,5300.0,4249.0,3593.0,2950.0,2393.0,1954.0,1727.0,1556.0,1402.0,1293.0,1291.0,1293.0,1272.0,1291.0,1230.0,1296.0,1280.0,1211.0,1231.0,1216.0,1255.0,1220.0,1245.0,1233.0,1245.0,1144.0,1146.0,1274.0,1270.0,1230.0,1166.0,1263.0,1314.0,1274.0,1261.0,1357.0,1427.0,1558.0,1665.0,1715.0,1765.0,1870.0,1961.0,2049.0,2029.0,2006.0,1923.0,1786.0,1728.0,1651.0,1506.0,1472.0,1404.0,1358.0,1231.0,1249.0,1197.0,1195.0,1192.0,1182.0,1173.0,1157.0,1112.0,1165.0,1097.0,1162.0,1181.0,1159.0,1082.0,1100.0,1086.0,1069.0,1064.0,1084.0,1085.0,1116.0,1118.0,1117.0,1108.0,1096.0,1113.0,1222.0,1131.0,1139.0,1218.0,1190.0,1137.0,1164.0,1115.0,1138.0,1081.0,1054.0,1104.0,1108.0,1015.0,1023.0,1063.0,1029.0,1016.0,980.0,999.0,995.0,963.0,1032.0,976.0,955.0,980.0,1009.0,988.0,952.0,1043.0,983.0,971.0,938.0,936.0,1020.0,987.0,967.0,976.0,976.0,976.0,974.0,983.0,954.0,938.0,919.0,933.0,949.0,967.0,952.0,907.0,946.0,1000.0,960.0,940.0,917.0,921.0,921.0,963.0,918.0,859.0,932.0,920.0,917.0,930.0,900.0,847.0,857.0,893.0,865.0,918.0,877.0,904.0,919.0,864.0,880.0,856.0,858.0,887.0,823.0,906.0,821.0,833.0,839.0,856.0,822.0,834.0,837.0,822.0,814.0,809.0,893.0,855.0,834.0,873.0,857.0,853.0,802.0,863.0,790.0,863.0,836.0,777.0,788.0,907.0,808.0,825.0,818.0,844.0,798.0,823.0,783.0,840.0,808.0,821.0,809.0,826.0,805.0,822.0,747.0,808.0,814.0,777.0,780.0,821.0,768.0,829.0,838.0,758.0,806.0,819.0,798.0,865.0,867.0,892.0,1050.0,1009.0,1211.0,1459.0,1696.0,2077.0,2777.0,3487.0,4322.0,5382.0,6447.0,7739.0,8958.0,10504.0,11650.0,12549.0,13082.0,13437.0,13441.0,12947.0,12223.0,11144.0,9894.0,8512.0,7288.0,6049.0,5007.0,3727.0,3071.0,2345.0,1879.0,1517.0,1188.0,1025.0,891.0,842.0,818.0,763.0,728.0,700.0,720.0,656.0,696.0,689.0,730.0,665.0,690.0,652.0,667.0,624.0,678.0,672.0,692.0,665.0,628.0,643.0,576.0,669.0,673.0,634.0,709.0,659.0,686.0,690.0,700.0,707.0,718.0,719.0,739.0,773.0,880.0,931.0,973.0,1131.0,1174.0,1333.0,1518.0,1652.0,1840.0,2015.0,2028.0,2202.0,2246.0,2236.0,2202.0,2062.0,2024.0,1804.0,1694.0,1536.0,1400.0,1272.0,1090.0,1022.0,873.0,803.0,668.0,624.0,578.0,606.0,566.0,532.0,548.0,511.0,528.0,550.0,539.0,514.0,524.0,522.0,524.0,551.0,555.0,537.0,511.0,512.0,515.0,495.0,489.0,487.0,521.0,521.0,520.0,530.0,478.0,490.0,536.0,506.0,484.0,549.0,510.0,513.0,527.0,498.0,509.0,501.0,482.0,519.0,505.0,450.0,484.0,485.0,527.0,486.0,521.0,480.0,515.0,479.0,481.0,479.0,492.0,480.0,506.0,445.0,478.0,408.0,445.0,497.0,460.0,499.0,439.0,464.0,448.0,467.0,453.0,490.0,439.0,475.0,468.0,419.0,424.0,438.0,447.0,469.0,480.0,492.0,471.0,481.0,520.0,446.0,462.0,449.0,455.0,481.0,449.0,466.0,457.0,486.0,453.0,418.0,467.0,450.0,464.0,424.0,475.0,459.0,437.0,416.0,450.0,413.0,437.0,416.0,415.0,436.0,410.0,404.0,400.0,436.0,431.0,420.0,414.0,399.0,421.0,452.0,447.0,451.0,392.0,424.0,410.0,369.0,409.0,421.0,401.0,438.0,419.0,415.0,424.0,421.0,413.0,451.0,482.0,483.0,496.0,533.0,584.0,541.0,560.0,627.0,628.0,633.0,624.0,604.0,600.0,609.0,562.0,567.0,532.0,541.0,519.0,487.0,457.0,425.0,403.0,399.0,378.0,387.0,380.0,386.0,400.0,373.0,368.0,381.0,368.0,399.0,339.0,372.0,382.0,373.0,387.0,381.0,358.0,333.0,339.0,341.0,335.0,346.0,367.0,334.0,337.0,349.0,360.0,357.0,338.0,349.0,325.0,338.0,291.0,347.0,336.0,342.0,340.0,341.0,364.0,329.0,321.0,354.0,301.0,325.0,313.0,324.0,326.0,315.0,322.0,316.0,309.0,303.0,309.0,311.0,313.0,327.0,307.0,312.0,297.0,326.0,289.0,319.0,320.0,279.0,331.0,288.0,333.0,295.0,328.0,327.0,328.0,301.0,322.0,301.0,342.0,331.0,300.0,294.0,320.0,306.0,311.0,320.0,339.0,304.0,338.0,320.0,330.0,316.0,352.0,274.0,287.0,287.0,264.0,301.0,286.0,295.0,283.0,260.0,266.0,258.0,292.0,261.0,284.0,269.0,300.0,281.0,254.0,289.0,239.0,264.0,269.0,256.0,280.0,236.0,255.0,249.0,226.0,247.0,234.0,246.0,240.0,233.0,265.0,251.0,231.0,222.0,288.0,277.0,244.0,240.0,261.0,282.0,239.0,232.0,230.0,242.0,257.0,252.0,254.0,224.0,232.0,236.0,229.0,236.0,239.0,226.0,232.0,231.0,224.0,235.0,228.0,219.0,246.0,254.0,225.0,234.0,247.0,253.0,215.0,216.0,239.0,241.0,236.0,226.0,218.0,210.0,219.0,185.0,196.0,234.0,210.0,220.0,206.0,188.0,201.0,193.0,232.0,202.0,226.0,197.0,198.0,199.0,189.0,214.0,236.0,196.0,194.0,191.0,190.0,198.0,193.0,183.0,199.0,187.0,205.0,187.0,194.0,205.0,207.0,191.0,192.0,197.0,178.0,200.0,188.0,198.0,200.0,196.0,167.0,202.0,174.0,203.0,192.0,196.0,192.0,191.0,182.0,165.0,198.0,166.0,205.0,183.0,160.0,176.0,159.0,170.0,181.0,185.0,167.0,177.0,166.0,160.0,178.0,189.0,175.0,148.0,160.0,159.0,194.0,153.0,153.0,169.0,186.0,198.0,173.0,169.0,180.0,181.0,157.0,175.0,161.0,177.0,140.0,162.0,139.0,158.0,166.0,150.0,136.0,151.0,145.0,165.0,156.0,160.0,134.0,155.0,125.0,126.0,154.0,146.0,152.0,128.0,139.0,141.0,149.0,150.0,132.0,143.0,149.0,120.0,154.0,136.0,134.0,149.0,149.0,130.0,127.0,153.0,148.0,138.0,136.0,141.0,112.0,107.0,147.0,117.0,119.0,122.0,135.0,127.0,122.0,141.0,108.0,147.0,120.0,125.0,123.0,130.0,110.0,143.0,134.0,111.0,126.0,110.0,141.0,131.0,122.0,104.0,103.0,118.0,100.0,127.0,107.0,113.0,95.0,122.0,112.0,99.0,112.0,101.0,116.0,124.0,118.0,105.0,100.0,101.0,114.0,110.0,115.0,108.0,93.0,94.0,101.0,96.0,118.0,98.0,110.0,90.0,96.0,78.0,100.0,84.0,93.0,117.0,104.0,86.0,86.0,111.0,102.0,91.0,102.0,108.0,89.0,95.0,75.0,89.0,92.0,100.0,83.0,85.0,69.0,81.0,90.0,81.0,84.0,77.0,79.0,82.0,72.0,75.0,87.0,82.0,74.0,88.0,77.0,85.0,76.0,86.0,73.0,72.0,68.0,70.0,70.0,85.0,68.0,81.0,72.0,67.0,73.0,69.0,89.0,67.0,61.0,80.0,71.0,86.0,81.0,70.0,61.0,76.0,67.0,64.0,75.0,73.0,82.0,71.0,81.0,80.0,62.0,52.0,64.0,68.0,74.0,55.0,60.0,66.0,59.0,59.0,55.0,54.0,58.0,63.0,49.0,47.0,53.0,66.0,61.0,50.0,63.0,57.0,47.0,58.0,59.0,64.0,57.0,52.0,53.0,57.0,46.0,51.0,42.0,51.0,63.0,46.0,75.0,44.0,50.0,46.0,55.0,45.0,39.0,39.0,49.0,31.0,45.0,52.0,37.0,46.0,52.0,44.0,28.0,46.0,42.0,35.0,32.0,32.0,45.0,37.0,33.0,34.0,35.0,33.0,33.0,43.0,30.0,40.0,44.0,34.0,25.0,46.0,39.0,44.0,30.0,28.0,37.0,31.0,36.0,34.0,33.0,36.0,26.0,38.0,24.0,32.0,37.0,22.0,21.0,26.0,25.0,24.0,27.0,25.0,23.0,26.0,35.0,31.0,33.0,18.0,27.0,20.0,19.0,27.0,23.0,18.0,20.0,26.0,23.0,22.0,25.0,23.0,21.0,17.0,17.0,20.0,20.0,19.0,18.0,20.0,21.0,18.0,16.0,12.0,14.0,22.0,20.0,13.0,12.0,7.0,16.0,9.0,14.0,13.0,21.0,14.0,16.0,12.0,10.0,14.0,8.0,13.0,10.0,15.0,12.0,13.0,9.0,10.0,11.0,13.0,12.0,3.0,10.0,7.0,7.0,9.0,12.0,11.0,8.0,9.0,10.0,9.0,11.0,9.0,6.0,3.0,8.0,3.0,7.0,6.0,6.0,8.0,4.0,2.0,8.0,3.0,1.0,4.0,1.0,3.0,2.0,3.0,0.0,2.0,2.0,0.0,3.0,0.0,1.0,0.0,0.0,1.0,2.0,1.0,0.0,2.0,1.0,0.0,0.0,0.0,0.0,0.0,1.0,0.0,0.0],\"type\":\"scatter\"}],                        {\"height\":400,\"title\":{\"text\":\"EDX Sum Spectrum\",\"x\":0.5},\"width\":700,\"xaxis\":{\"title\":{\"text\":\"Energy / keV\"},\"range\":[-0.47284728,10]},\"yaxis\":{\"title\":{\"text\":\"Counts\"}},\"template\":{\"data\":{\"barpolar\":[{\"marker\":{\"line\":{\"color\":\"white\",\"width\":0.5},\"pattern\":{\"fillmode\":\"overlay\",\"size\":10,\"solidity\":0.2}},\"type\":\"barpolar\"}],\"bar\":[{\"error_x\":{\"color\":\"rgb(36,36,36)\"},\"error_y\":{\"color\":\"rgb(36,36,36)\"},\"marker\":{\"line\":{\"color\":\"white\",\"width\":0.5},\"pattern\":{\"fillmode\":\"overlay\",\"size\":10,\"solidity\":0.2}},\"type\":\"bar\"}],\"carpet\":[{\"aaxis\":{\"endlinecolor\":\"rgb(36,36,36)\",\"gridcolor\":\"white\",\"linecolor\":\"white\",\"minorgridcolor\":\"white\",\"startlinecolor\":\"rgb(36,36,36)\"},\"baxis\":{\"endlinecolor\":\"rgb(36,36,36)\",\"gridcolor\":\"white\",\"linecolor\":\"white\",\"minorgridcolor\":\"white\",\"startlinecolor\":\"rgb(36,36,36)\"},\"type\":\"carpet\"}],\"choropleth\":[{\"colorbar\":{\"outlinewidth\":1,\"tickcolor\":\"rgb(36,36,36)\",\"ticks\":\"outside\"},\"type\":\"choropleth\"}],\"contourcarpet\":[{\"colorbar\":{\"outlinewidth\":1,\"tickcolor\":\"rgb(36,36,36)\",\"ticks\":\"outside\"},\"type\":\"contourcarpet\"}],\"contour\":[{\"colorbar\":{\"outlinewidth\":1,\"tickcolor\":\"rgb(36,36,36)\",\"ticks\":\"outside\"},\"colorscale\":[[0.0,\"#440154\"],[0.1111111111111111,\"#482878\"],[0.2222222222222222,\"#3e4989\"],[0.3333333333333333,\"#31688e\"],[0.4444444444444444,\"#26828e\"],[0.5555555555555556,\"#1f9e89\"],[0.6666666666666666,\"#35b779\"],[0.7777777777777778,\"#6ece58\"],[0.8888888888888888,\"#b5de2b\"],[1.0,\"#fde725\"]],\"type\":\"contour\"}],\"heatmapgl\":[{\"colorbar\":{\"outlinewidth\":1,\"tickcolor\":\"rgb(36,36,36)\",\"ticks\":\"outside\"},\"colorscale\":[[0.0,\"#440154\"],[0.1111111111111111,\"#482878\"],[0.2222222222222222,\"#3e4989\"],[0.3333333333333333,\"#31688e\"],[0.4444444444444444,\"#26828e\"],[0.5555555555555556,\"#1f9e89\"],[0.6666666666666666,\"#35b779\"],[0.7777777777777778,\"#6ece58\"],[0.8888888888888888,\"#b5de2b\"],[1.0,\"#fde725\"]],\"type\":\"heatmapgl\"}],\"heatmap\":[{\"colorbar\":{\"outlinewidth\":1,\"tickcolor\":\"rgb(36,36,36)\",\"ticks\":\"outside\"},\"colorscale\":[[0.0,\"#440154\"],[0.1111111111111111,\"#482878\"],[0.2222222222222222,\"#3e4989\"],[0.3333333333333333,\"#31688e\"],[0.4444444444444444,\"#26828e\"],[0.5555555555555556,\"#1f9e89\"],[0.6666666666666666,\"#35b779\"],[0.7777777777777778,\"#6ece58\"],[0.8888888888888888,\"#b5de2b\"],[1.0,\"#fde725\"]],\"type\":\"heatmap\"}],\"histogram2dcontour\":[{\"colorbar\":{\"outlinewidth\":1,\"tickcolor\":\"rgb(36,36,36)\",\"ticks\":\"outside\"},\"colorscale\":[[0.0,\"#440154\"],[0.1111111111111111,\"#482878\"],[0.2222222222222222,\"#3e4989\"],[0.3333333333333333,\"#31688e\"],[0.4444444444444444,\"#26828e\"],[0.5555555555555556,\"#1f9e89\"],[0.6666666666666666,\"#35b779\"],[0.7777777777777778,\"#6ece58\"],[0.8888888888888888,\"#b5de2b\"],[1.0,\"#fde725\"]],\"type\":\"histogram2dcontour\"}],\"histogram2d\":[{\"colorbar\":{\"outlinewidth\":1,\"tickcolor\":\"rgb(36,36,36)\",\"ticks\":\"outside\"},\"colorscale\":[[0.0,\"#440154\"],[0.1111111111111111,\"#482878\"],[0.2222222222222222,\"#3e4989\"],[0.3333333333333333,\"#31688e\"],[0.4444444444444444,\"#26828e\"],[0.5555555555555556,\"#1f9e89\"],[0.6666666666666666,\"#35b779\"],[0.7777777777777778,\"#6ece58\"],[0.8888888888888888,\"#b5de2b\"],[1.0,\"#fde725\"]],\"type\":\"histogram2d\"}],\"histogram\":[{\"marker\":{\"line\":{\"color\":\"white\",\"width\":0.6}},\"type\":\"histogram\"}],\"mesh3d\":[{\"colorbar\":{\"outlinewidth\":1,\"tickcolor\":\"rgb(36,36,36)\",\"ticks\":\"outside\"},\"type\":\"mesh3d\"}],\"parcoords\":[{\"line\":{\"colorbar\":{\"outlinewidth\":1,\"tickcolor\":\"rgb(36,36,36)\",\"ticks\":\"outside\"}},\"type\":\"parcoords\"}],\"pie\":[{\"automargin\":true,\"type\":\"pie\"}],\"scatter3d\":[{\"line\":{\"colorbar\":{\"outlinewidth\":1,\"tickcolor\":\"rgb(36,36,36)\",\"ticks\":\"outside\"}},\"marker\":{\"colorbar\":{\"outlinewidth\":1,\"tickcolor\":\"rgb(36,36,36)\",\"ticks\":\"outside\"}},\"type\":\"scatter3d\"}],\"scattercarpet\":[{\"marker\":{\"colorbar\":{\"outlinewidth\":1,\"tickcolor\":\"rgb(36,36,36)\",\"ticks\":\"outside\"}},\"type\":\"scattercarpet\"}],\"scattergeo\":[{\"marker\":{\"colorbar\":{\"outlinewidth\":1,\"tickcolor\":\"rgb(36,36,36)\",\"ticks\":\"outside\"}},\"type\":\"scattergeo\"}],\"scattergl\":[{\"marker\":{\"colorbar\":{\"outlinewidth\":1,\"tickcolor\":\"rgb(36,36,36)\",\"ticks\":\"outside\"}},\"type\":\"scattergl\"}],\"scattermapbox\":[{\"marker\":{\"colorbar\":{\"outlinewidth\":1,\"tickcolor\":\"rgb(36,36,36)\",\"ticks\":\"outside\"}},\"type\":\"scattermapbox\"}],\"scatterpolargl\":[{\"marker\":{\"colorbar\":{\"outlinewidth\":1,\"tickcolor\":\"rgb(36,36,36)\",\"ticks\":\"outside\"}},\"type\":\"scatterpolargl\"}],\"scatterpolar\":[{\"marker\":{\"colorbar\":{\"outlinewidth\":1,\"tickcolor\":\"rgb(36,36,36)\",\"ticks\":\"outside\"}},\"type\":\"scatterpolar\"}],\"scatter\":[{\"marker\":{\"colorbar\":{\"outlinewidth\":1,\"tickcolor\":\"rgb(36,36,36)\",\"ticks\":\"outside\"}},\"type\":\"scatter\"}],\"scatterternary\":[{\"marker\":{\"colorbar\":{\"outlinewidth\":1,\"tickcolor\":\"rgb(36,36,36)\",\"ticks\":\"outside\"}},\"type\":\"scatterternary\"}],\"surface\":[{\"colorbar\":{\"outlinewidth\":1,\"tickcolor\":\"rgb(36,36,36)\",\"ticks\":\"outside\"},\"colorscale\":[[0.0,\"#440154\"],[0.1111111111111111,\"#482878\"],[0.2222222222222222,\"#3e4989\"],[0.3333333333333333,\"#31688e\"],[0.4444444444444444,\"#26828e\"],[0.5555555555555556,\"#1f9e89\"],[0.6666666666666666,\"#35b779\"],[0.7777777777777778,\"#6ece58\"],[0.8888888888888888,\"#b5de2b\"],[1.0,\"#fde725\"]],\"type\":\"surface\"}],\"table\":[{\"cells\":{\"fill\":{\"color\":\"rgb(237,237,237)\"},\"line\":{\"color\":\"white\"}},\"header\":{\"fill\":{\"color\":\"rgb(217,217,217)\"},\"line\":{\"color\":\"white\"}},\"type\":\"table\"}]},\"layout\":{\"annotationdefaults\":{\"arrowhead\":0,\"arrowwidth\":1},\"autotypenumbers\":\"strict\",\"coloraxis\":{\"colorbar\":{\"outlinewidth\":1,\"tickcolor\":\"rgb(36,36,36)\",\"ticks\":\"outside\"}},\"colorscale\":{\"diverging\":[[0.0,\"rgb(103,0,31)\"],[0.1,\"rgb(178,24,43)\"],[0.2,\"rgb(214,96,77)\"],[0.3,\"rgb(244,165,130)\"],[0.4,\"rgb(253,219,199)\"],[0.5,\"rgb(247,247,247)\"],[0.6,\"rgb(209,229,240)\"],[0.7,\"rgb(146,197,222)\"],[0.8,\"rgb(67,147,195)\"],[0.9,\"rgb(33,102,172)\"],[1.0,\"rgb(5,48,97)\"]],\"sequential\":[[0.0,\"#440154\"],[0.1111111111111111,\"#482878\"],[0.2222222222222222,\"#3e4989\"],[0.3333333333333333,\"#31688e\"],[0.4444444444444444,\"#26828e\"],[0.5555555555555556,\"#1f9e89\"],[0.6666666666666666,\"#35b779\"],[0.7777777777777778,\"#6ece58\"],[0.8888888888888888,\"#b5de2b\"],[1.0,\"#fde725\"]],\"sequentialminus\":[[0.0,\"#440154\"],[0.1111111111111111,\"#482878\"],[0.2222222222222222,\"#3e4989\"],[0.3333333333333333,\"#31688e\"],[0.4444444444444444,\"#26828e\"],[0.5555555555555556,\"#1f9e89\"],[0.6666666666666666,\"#35b779\"],[0.7777777777777778,\"#6ece58\"],[0.8888888888888888,\"#b5de2b\"],[1.0,\"#fde725\"]]},\"colorway\":[\"#1F77B4\",\"#FF7F0E\",\"#2CA02C\",\"#D62728\",\"#9467BD\",\"#8C564B\",\"#E377C2\",\"#7F7F7F\",\"#BCBD22\",\"#17BECF\"],\"font\":{\"color\":\"rgb(36,36,36)\"},\"geo\":{\"bgcolor\":\"white\",\"lakecolor\":\"white\",\"landcolor\":\"white\",\"showlakes\":true,\"showland\":true,\"subunitcolor\":\"white\"},\"hoverlabel\":{\"align\":\"left\"},\"hovermode\":\"closest\",\"mapbox\":{\"style\":\"light\"},\"paper_bgcolor\":\"white\",\"plot_bgcolor\":\"white\",\"polar\":{\"angularaxis\":{\"gridcolor\":\"rgb(232,232,232)\",\"linecolor\":\"rgb(36,36,36)\",\"showgrid\":false,\"showline\":true,\"ticks\":\"outside\"},\"bgcolor\":\"white\",\"radialaxis\":{\"gridcolor\":\"rgb(232,232,232)\",\"linecolor\":\"rgb(36,36,36)\",\"showgrid\":false,\"showline\":true,\"ticks\":\"outside\"}},\"scene\":{\"xaxis\":{\"backgroundcolor\":\"white\",\"gridcolor\":\"rgb(232,232,232)\",\"gridwidth\":2,\"linecolor\":\"rgb(36,36,36)\",\"showbackground\":true,\"showgrid\":false,\"showline\":true,\"ticks\":\"outside\",\"zeroline\":false,\"zerolinecolor\":\"rgb(36,36,36)\"},\"yaxis\":{\"backgroundcolor\":\"white\",\"gridcolor\":\"rgb(232,232,232)\",\"gridwidth\":2,\"linecolor\":\"rgb(36,36,36)\",\"showbackground\":true,\"showgrid\":false,\"showline\":true,\"ticks\":\"outside\",\"zeroline\":false,\"zerolinecolor\":\"rgb(36,36,36)\"},\"zaxis\":{\"backgroundcolor\":\"white\",\"gridcolor\":\"rgb(232,232,232)\",\"gridwidth\":2,\"linecolor\":\"rgb(36,36,36)\",\"showbackground\":true,\"showgrid\":false,\"showline\":true,\"ticks\":\"outside\",\"zeroline\":false,\"zerolinecolor\":\"rgb(36,36,36)\"}},\"shapedefaults\":{\"fillcolor\":\"black\",\"line\":{\"width\":0},\"opacity\":0.3},\"ternary\":{\"aaxis\":{\"gridcolor\":\"rgb(232,232,232)\",\"linecolor\":\"rgb(36,36,36)\",\"showgrid\":false,\"showline\":true,\"ticks\":\"outside\"},\"baxis\":{\"gridcolor\":\"rgb(232,232,232)\",\"linecolor\":\"rgb(36,36,36)\",\"showgrid\":false,\"showline\":true,\"ticks\":\"outside\"},\"bgcolor\":\"white\",\"caxis\":{\"gridcolor\":\"rgb(232,232,232)\",\"linecolor\":\"rgb(36,36,36)\",\"showgrid\":false,\"showline\":true,\"ticks\":\"outside\"}},\"title\":{\"x\":0.05},\"xaxis\":{\"automargin\":true,\"gridcolor\":\"rgb(232,232,232)\",\"linecolor\":\"rgb(36,36,36)\",\"showgrid\":false,\"showline\":true,\"ticks\":\"outside\",\"title\":{\"standoff\":15},\"zeroline\":false,\"zerolinecolor\":\"rgb(36,36,36)\"},\"yaxis\":{\"automargin\":true,\"gridcolor\":\"rgb(232,232,232)\",\"linecolor\":\"rgb(36,36,36)\",\"showgrid\":false,\"showline\":true,\"ticks\":\"outside\",\"title\":{\"standoff\":15},\"zeroline\":false,\"zerolinecolor\":\"rgb(36,36,36)\"}}},\"shapes\":[{\"line\":{\"color\":\"black\",\"dash\":\"dot\",\"width\":2},\"type\":\"line\",\"x0\":1.4865,\"x1\":1.4865,\"y0\":0,\"y1\":12197},{\"line\":{\"color\":\"black\",\"dash\":\"dot\",\"width\":2},\"type\":\"line\",\"x0\":0.2774,\"x1\":0.2774,\"y0\":0,\"y1\":10311},{\"line\":{\"color\":\"black\",\"dash\":\"dot\",\"width\":2},\"type\":\"line\",\"x0\":3.6917,\"x1\":3.6917,\"y0\":0,\"y1\":57890},{\"line\":{\"color\":\"black\",\"dash\":\"dot\",\"width\":2},\"type\":\"line\",\"x0\":6.4039,\"x1\":6.4039,\"y0\":0,\"y1\":12096},{\"line\":{\"color\":\"black\",\"dash\":\"dot\",\"width\":2},\"type\":\"line\",\"x0\":3.3138,\"x1\":3.3138,\"y0\":0,\"y1\":5308},{\"line\":{\"color\":\"black\",\"dash\":\"dot\",\"width\":2},\"type\":\"line\",\"x0\":0.5249,\"x1\":0.5249,\"y0\":0,\"y1\":44045},{\"line\":{\"color\":\"black\",\"dash\":\"dot\",\"width\":2},\"type\":\"line\",\"x0\":1.7397,\"x1\":1.7397,\"y0\":0,\"y1\":26591},{\"line\":{\"color\":\"black\",\"dash\":\"dot\",\"width\":2},\"type\":\"line\",\"x0\":4.5109,\"x1\":4.5109,\"y0\":0,\"y1\":1826},{\"line\":{\"color\":\"black\",\"dash\":\"dot\",\"width\":2},\"type\":\"line\",\"x0\":1.0116,\"x1\":1.0116,\"y0\":0,\"y1\":4496}],\"annotations\":[{\"arrowhead\":2,\"showarrow\":false,\"text\":\"Al_Ka\",\"textangle\":-90,\"x\":1.4865,\"y\":13553.0,\"yshift\":30},{\"arrowhead\":2,\"showarrow\":false,\"text\":\"C_Ka\",\"textangle\":-90,\"x\":0.2774,\"y\":11457.0,\"yshift\":30},{\"arrowhead\":2,\"showarrow\":false,\"text\":\"Ca_Ka\",\"textangle\":-90,\"x\":3.6917,\"y\":64323.0,\"yshift\":30},{\"arrowhead\":2,\"showarrow\":false,\"text\":\"Fe_Ka\",\"textangle\":-90,\"x\":6.4039,\"y\":13441.0,\"yshift\":30},{\"arrowhead\":2,\"showarrow\":false,\"text\":\"K_Ka\",\"textangle\":-90,\"x\":3.3138,\"y\":5898.0,\"yshift\":30},{\"arrowhead\":2,\"showarrow\":false,\"text\":\"O_Ka\",\"textangle\":-90,\"x\":0.5249,\"y\":48939.0,\"yshift\":30},{\"arrowhead\":2,\"showarrow\":false,\"text\":\"Si_Ka\",\"textangle\":-90,\"x\":1.7397,\"y\":29546.0,\"yshift\":30},{\"arrowhead\":2,\"showarrow\":false,\"text\":\"Ti_Ka\",\"textangle\":-90,\"x\":4.5109,\"y\":2029.0,\"yshift\":30},{\"arrowhead\":2,\"showarrow\":false,\"text\":\"Zn_La\",\"textangle\":-90,\"x\":1.0116,\"y\":4996.0,\"yshift\":30}],\"showlegend\":false},                        {\"responsive\": true}                    ).then(function(){\n                            \nvar gd = document.getElementById('10ffa8bb-bf14-49e1-bb0b-2600577abc05');\nvar x = new MutationObserver(function (mutations, observer) {{\n        var display = window.getComputedStyle(gd).display;\n        if (!display || display === 'none') {{\n            console.log([gd, 'removed!']);\n            Plotly.purge(gd);\n            observer.disconnect();\n        }}\n}});\n\n// Listen for the removal of the full notebook cells\nvar notebookContainer = gd.closest('#notebook-container');\nif (notebookContainer) {{\n    x.observe(notebookContainer, {childList: true});\n}}\n\n// Listen for the clearing of the current output cell\nvar outputEl = gd.closest('.output');\nif (outputEl) {{\n    x.observe(outputEl, {childList: true});\n}}\n\n                        })                };                            </script>        </div>\n</body>\n</html>"
                },
                "metadata": {}
              }
            ]
          }
        },
        "609e054053c1486997edbcf01ebd858b": {
          "model_module": "@jupyter-widgets/output",
          "model_name": "OutputModel",
          "model_module_version": "1.0.0",
          "state": {
            "_dom_classes": [],
            "_model_module": "@jupyter-widgets/output",
            "_model_module_version": "1.0.0",
            "_model_name": "OutputModel",
            "_view_count": null,
            "_view_module": "@jupyter-widgets/output",
            "_view_module_version": "1.0.0",
            "_view_name": "OutputView",
            "layout": "IPY_MODEL_b8ed35ed999140a683081053348f4119",
            "msg_id": "",
            "outputs": [
              {
                "output_type": "display_data",
                "data": {
                  "text/plain": "VBox(children=(HBox(children=(VBox(children=(HBox(children=(ColorPicker(value='#ff0000', description='Al_Ka', …",
                  "application/vnd.jupyter.widget-view+json": {
                    "version_major": 2,
                    "version_minor": 0,
                    "model_id": "519a88be0e8f4059b19e18f0a7841fc7"
                  }
                },
                "metadata": {}
              }
            ]
          }
        },
        "6787cb24e862433a9df44d90e163f422": {
          "model_module": "@jupyter-widgets/base",
          "model_name": "LayoutModel",
          "model_module_version": "1.2.0",
          "state": {
            "_model_module": "@jupyter-widgets/base",
            "_model_module_version": "1.2.0",
            "_model_name": "LayoutModel",
            "_view_count": null,
            "_view_module": "@jupyter-widgets/base",
            "_view_module_version": "1.2.0",
            "_view_name": "LayoutView",
            "align_content": null,
            "align_items": null,
            "align_self": null,
            "border": null,
            "bottom": null,
            "display": null,
            "flex": null,
            "flex_flow": null,
            "grid_area": null,
            "grid_auto_columns": null,
            "grid_auto_flow": null,
            "grid_auto_rows": null,
            "grid_column": null,
            "grid_gap": null,
            "grid_row": null,
            "grid_template_areas": null,
            "grid_template_columns": null,
            "grid_template_rows": null,
            "height": null,
            "justify_content": null,
            "justify_items": null,
            "left": null,
            "margin": null,
            "max_height": null,
            "max_width": null,
            "min_height": null,
            "min_width": null,
            "object_fit": null,
            "object_position": null,
            "order": null,
            "overflow": null,
            "overflow_x": null,
            "overflow_y": null,
            "padding": null,
            "right": null,
            "top": null,
            "visibility": null,
            "width": null
          }
        },
        "519a88be0e8f4059b19e18f0a7841fc7": {
          "model_module": "@jupyter-widgets/controls",
          "model_name": "VBoxModel",
          "model_module_version": "1.5.0",
          "state": {
            "_dom_classes": [],
            "_model_module": "@jupyter-widgets/controls",
            "_model_module_version": "1.5.0",
            "_model_name": "VBoxModel",
            "_view_count": null,
            "_view_module": "@jupyter-widgets/controls",
            "_view_module_version": "1.5.0",
            "_view_name": "VBoxView",
            "box_style": "",
            "children": [
              "IPY_MODEL_c083cb42331e4b81bf81f9e4c7821776",
              "IPY_MODEL_38245546890644c3a248a5444dc8700c"
            ],
            "layout": "IPY_MODEL_0380c9359f4e46d897f01123e3ce001c"
          }
        },
        "87651808039a4cdc8e3a7b2c81f8cec9": {
          "model_module": "@jupyter-widgets/base",
          "model_name": "LayoutModel",
          "model_module_version": "1.2.0",
          "state": {
            "_model_module": "@jupyter-widgets/base",
            "_model_module_version": "1.2.0",
            "_model_name": "LayoutModel",
            "_view_count": null,
            "_view_module": "@jupyter-widgets/base",
            "_view_module_version": "1.2.0",
            "_view_name": "LayoutView",
            "align_content": null,
            "align_items": null,
            "align_self": null,
            "border": null,
            "bottom": null,
            "display": null,
            "flex": null,
            "flex_flow": null,
            "grid_area": null,
            "grid_auto_columns": null,
            "grid_auto_flow": null,
            "grid_auto_rows": null,
            "grid_column": null,
            "grid_gap": null,
            "grid_row": null,
            "grid_template_areas": null,
            "grid_template_columns": null,
            "grid_template_rows": null,
            "height": null,
            "justify_content": null,
            "justify_items": null,
            "left": null,
            "margin": null,
            "max_height": null,
            "max_width": null,
            "min_height": null,
            "min_width": null,
            "object_fit": null,
            "object_position": null,
            "order": null,
            "overflow": null,
            "overflow_x": null,
            "overflow_y": null,
            "padding": null,
            "right": null,
            "top": null,
            "visibility": null,
            "width": null
          }
        },
        "c0f758b02b0b4a548c65719c165fa517": {
          "model_module": "@jupyter-widgets/base",
          "model_name": "LayoutModel",
          "model_module_version": "1.2.0",
          "state": {
            "_model_module": "@jupyter-widgets/base",
            "_model_module_version": "1.2.0",
            "_model_name": "LayoutModel",
            "_view_count": null,
            "_view_module": "@jupyter-widgets/base",
            "_view_module_version": "1.2.0",
            "_view_name": "LayoutView",
            "align_content": null,
            "align_items": null,
            "align_self": null,
            "border": null,
            "bottom": null,
            "display": null,
            "flex": null,
            "flex_flow": null,
            "grid_area": null,
            "grid_auto_columns": null,
            "grid_auto_flow": null,
            "grid_auto_rows": null,
            "grid_column": null,
            "grid_gap": null,
            "grid_row": null,
            "grid_template_areas": null,
            "grid_template_columns": null,
            "grid_template_rows": null,
            "height": null,
            "justify_content": null,
            "justify_items": null,
            "left": null,
            "margin": null,
            "max_height": null,
            "max_width": null,
            "min_height": null,
            "min_width": null,
            "object_fit": null,
            "object_position": null,
            "order": null,
            "overflow": null,
            "overflow_x": null,
            "overflow_y": null,
            "padding": null,
            "right": null,
            "top": null,
            "visibility": null,
            "width": null
          }
        },
        "b8ed35ed999140a683081053348f4119": {
          "model_module": "@jupyter-widgets/base",
          "model_name": "LayoutModel",
          "model_module_version": "1.2.0",
          "state": {
            "_model_module": "@jupyter-widgets/base",
            "_model_module_version": "1.2.0",
            "_model_name": "LayoutModel",
            "_view_count": null,
            "_view_module": "@jupyter-widgets/base",
            "_view_module_version": "1.2.0",
            "_view_name": "LayoutView",
            "align_content": null,
            "align_items": null,
            "align_self": null,
            "border": null,
            "bottom": null,
            "display": null,
            "flex": null,
            "flex_flow": null,
            "grid_area": null,
            "grid_auto_columns": null,
            "grid_auto_flow": null,
            "grid_auto_rows": null,
            "grid_column": null,
            "grid_gap": null,
            "grid_row": null,
            "grid_template_areas": null,
            "grid_template_columns": null,
            "grid_template_rows": null,
            "height": null,
            "justify_content": null,
            "justify_items": null,
            "left": null,
            "margin": null,
            "max_height": null,
            "max_width": null,
            "min_height": null,
            "min_width": null,
            "object_fit": null,
            "object_position": null,
            "order": null,
            "overflow": null,
            "overflow_x": null,
            "overflow_y": null,
            "padding": null,
            "right": null,
            "top": null,
            "visibility": null,
            "width": null
          }
        },
        "ab77062b590c4799977a8d4a01ce0674": {
          "model_module": "@jupyter-widgets/controls",
          "model_name": "HBoxModel",
          "model_module_version": "1.5.0",
          "state": {
            "_dom_classes": [],
            "_model_module": "@jupyter-widgets/controls",
            "_model_module_version": "1.5.0",
            "_model_name": "HBoxModel",
            "_view_count": null,
            "_view_module": "@jupyter-widgets/controls",
            "_view_module_version": "1.5.0",
            "_view_name": "HBoxView",
            "box_style": "",
            "children": [
              "IPY_MODEL_6aaed7b8b7be4458a6e9aa8e38bf5183",
              "IPY_MODEL_412af048f82d4db69ff6f3e94a159fd4",
              "IPY_MODEL_b2364ee7e57d430f8792bb64c5f0869d",
              "IPY_MODEL_8e2520815fab4ec3be9db679e9c2d4fb",
              "IPY_MODEL_93c268b693b5432d9676d96826d1cf14"
            ],
            "layout": "IPY_MODEL_1dbb59d0962f4913bccd3e714ee75eb2"
          }
        },
        "c083cb42331e4b81bf81f9e4c7821776": {
          "model_module": "@jupyter-widgets/controls",
          "model_name": "HBoxModel",
          "model_module_version": "1.5.0",
          "state": {
            "_dom_classes": [],
            "_model_module": "@jupyter-widgets/controls",
            "_model_module_version": "1.5.0",
            "_model_name": "HBoxModel",
            "_view_count": null,
            "_view_module": "@jupyter-widgets/controls",
            "_view_module_version": "1.5.0",
            "_view_name": "HBoxView",
            "box_style": "",
            "children": [
              "IPY_MODEL_455ef6a697d14844acf5c5b94a6a6200",
              "IPY_MODEL_09e5cb5622c6495faa9dbc1cf2dadf00"
            ],
            "layout": "IPY_MODEL_e72e49cc542e472880372b46702f6d92"
          }
        },
        "38245546890644c3a248a5444dc8700c": {
          "model_module": "@jupyter-widgets/controls",
          "model_name": "BoxModel",
          "model_module_version": "1.5.0",
          "state": {
            "_dom_classes": [],
            "_model_module": "@jupyter-widgets/controls",
            "_model_module_version": "1.5.0",
            "_model_name": "BoxModel",
            "_view_count": null,
            "_view_module": "@jupyter-widgets/controls",
            "_view_module_version": "1.5.0",
            "_view_name": "BoxView",
            "box_style": "",
            "children": [
              "IPY_MODEL_13f3051acded46e5bbc8aad86714c4ab"
            ],
            "layout": "IPY_MODEL_02624b8a1816420b82fb29cea83ff80a"
          }
        },
        "0380c9359f4e46d897f01123e3ce001c": {
          "model_module": "@jupyter-widgets/base",
          "model_name": "LayoutModel",
          "model_module_version": "1.2.0",
          "state": {
            "_model_module": "@jupyter-widgets/base",
            "_model_module_version": "1.2.0",
            "_model_name": "LayoutModel",
            "_view_count": null,
            "_view_module": "@jupyter-widgets/base",
            "_view_module_version": "1.2.0",
            "_view_name": "LayoutView",
            "align_content": null,
            "align_items": null,
            "align_self": null,
            "border": null,
            "bottom": null,
            "display": null,
            "flex": null,
            "flex_flow": null,
            "grid_area": null,
            "grid_auto_columns": null,
            "grid_auto_flow": null,
            "grid_auto_rows": null,
            "grid_column": null,
            "grid_gap": null,
            "grid_row": null,
            "grid_template_areas": null,
            "grid_template_columns": null,
            "grid_template_rows": null,
            "height": null,
            "justify_content": null,
            "justify_items": null,
            "left": null,
            "margin": null,
            "max_height": null,
            "max_width": null,
            "min_height": null,
            "min_width": null,
            "object_fit": null,
            "object_position": null,
            "order": null,
            "overflow": null,
            "overflow_x": null,
            "overflow_y": null,
            "padding": null,
            "right": null,
            "top": null,
            "visibility": null,
            "width": null
          }
        },
        "6aaed7b8b7be4458a6e9aa8e38bf5183": {
          "model_module": "@jupyter-widgets/controls",
          "model_name": "TextModel",
          "model_module_version": "1.5.0",
          "state": {
            "_dom_classes": [],
            "_model_module": "@jupyter-widgets/controls",
            "_model_module_version": "1.5.0",
            "_model_name": "TextModel",
            "_view_count": null,
            "_view_module": "@jupyter-widgets/controls",
            "_view_module_version": "1.5.0",
            "_view_name": "TextView",
            "continuous_update": true,
            "description": "Folder name:",
            "description_tooltip": null,
            "disabled": false,
            "layout": "IPY_MODEL_c4046b30f8ce42a7b05b71259551de62",
            "placeholder": "Type something",
            "style": "IPY_MODEL_71226fa6e414447cbf35f871e948b457",
            "value": "results"
          }
        },
        "412af048f82d4db69ff6f3e94a159fd4": {
          "model_module": "@jupyter-widgets/controls",
          "model_name": "TextModel",
          "model_module_version": "1.5.0",
          "state": {
            "_dom_classes": [],
            "_model_module": "@jupyter-widgets/controls",
            "_model_module_version": "1.5.0",
            "_model_name": "TextModel",
            "_view_count": null,
            "_view_module": "@jupyter-widgets/controls",
            "_view_module_version": "1.5.0",
            "_view_name": "TextView",
            "continuous_update": true,
            "description": "Save as:",
            "description_tooltip": null,
            "disabled": false,
            "layout": "IPY_MODEL_19fa5fe3da6c48598d6b6c7469c61f82",
            "placeholder": "Type something",
            "style": "IPY_MODEL_91eb35cbc5584942bde5c3ec10821caa",
            "value": "figure_name.tif"
          }
        },
        "b2364ee7e57d430f8792bb64c5f0869d": {
          "model_module": "@jupyter-widgets/controls",
          "model_name": "BoundedIntTextModel",
          "model_module_version": "1.5.0",
          "state": {
            "_dom_classes": [],
            "_model_module": "@jupyter-widgets/controls",
            "_model_module_version": "1.5.0",
            "_model_name": "BoundedIntTextModel",
            "_view_count": null,
            "_view_module": "@jupyter-widgets/controls",
            "_view_module_version": "1.5.0",
            "_view_name": "IntTextView",
            "continuous_update": true,
            "description": "Set dpi:",
            "description_tooltip": null,
            "disabled": false,
            "layout": "IPY_MODEL_4bce9fb31dce4b3fbe2d8e5e00909462",
            "max": 300,
            "min": 0,
            "step": 1,
            "style": "IPY_MODEL_e5a375a45d0b474b9cb88fbcb3543d92",
            "value": 96
          }
        },
        "8e2520815fab4ec3be9db679e9c2d4fb": {
          "model_module": "@jupyter-widgets/controls",
          "model_name": "BoundedFloatTextModel",
          "model_module_version": "1.5.0",
          "state": {
            "_dom_classes": [],
            "_model_module": "@jupyter-widgets/controls",
            "_model_module_version": "1.5.0",
            "_model_name": "BoundedFloatTextModel",
            "_view_count": null,
            "_view_module": "@jupyter-widgets/controls",
            "_view_module_version": "1.5.0",
            "_view_name": "FloatTextView",
            "continuous_update": true,
            "description": "Set pad:",
            "description_tooltip": null,
            "disabled": false,
            "layout": "IPY_MODEL_ed59eccd16e443d1afabed06fa8d8aa7",
            "max": 100,
            "min": 0,
            "step": null,
            "style": "IPY_MODEL_8036bebc2ce04484b42b05534f09900e",
            "value": 0.01
          }
        },
        "93c268b693b5432d9676d96826d1cf14": {
          "model_module": "@jupyter-widgets/controls",
          "model_name": "ButtonModel",
          "model_module_version": "1.5.0",
          "state": {
            "_dom_classes": [],
            "_model_module": "@jupyter-widgets/controls",
            "_model_module_version": "1.5.0",
            "_model_name": "ButtonModel",
            "_view_count": null,
            "_view_module": "@jupyter-widgets/controls",
            "_view_module_version": "1.5.0",
            "_view_name": "ButtonView",
            "button_style": "",
            "description": "Save",
            "disabled": false,
            "icon": "",
            "layout": "IPY_MODEL_8bfaca5de7fb4ec5a2250dbc623b7a70",
            "style": "IPY_MODEL_3605eb39d43d4c9aaca5d1aa0aa97237",
            "tooltip": ""
          }
        },
        "1dbb59d0962f4913bccd3e714ee75eb2": {
          "model_module": "@jupyter-widgets/base",
          "model_name": "LayoutModel",
          "model_module_version": "1.2.0",
          "state": {
            "_model_module": "@jupyter-widgets/base",
            "_model_module_version": "1.2.0",
            "_model_name": "LayoutModel",
            "_view_count": null,
            "_view_module": "@jupyter-widgets/base",
            "_view_module_version": "1.2.0",
            "_view_name": "LayoutView",
            "align_content": null,
            "align_items": null,
            "align_self": null,
            "border": null,
            "bottom": null,
            "display": null,
            "flex": null,
            "flex_flow": null,
            "grid_area": null,
            "grid_auto_columns": null,
            "grid_auto_flow": null,
            "grid_auto_rows": null,
            "grid_column": null,
            "grid_gap": null,
            "grid_row": null,
            "grid_template_areas": null,
            "grid_template_columns": null,
            "grid_template_rows": null,
            "height": null,
            "justify_content": null,
            "justify_items": null,
            "left": null,
            "margin": null,
            "max_height": null,
            "max_width": null,
            "min_height": null,
            "min_width": null,
            "object_fit": null,
            "object_position": null,
            "order": null,
            "overflow": null,
            "overflow_x": null,
            "overflow_y": null,
            "padding": null,
            "right": null,
            "top": null,
            "visibility": null,
            "width": "auto"
          }
        },
        "455ef6a697d14844acf5c5b94a6a6200": {
          "model_module": "@jupyter-widgets/controls",
          "model_name": "VBoxModel",
          "model_module_version": "1.5.0",
          "state": {
            "_dom_classes": [],
            "_model_module": "@jupyter-widgets/controls",
            "_model_module_version": "1.5.0",
            "_model_name": "VBoxModel",
            "_view_count": null,
            "_view_module": "@jupyter-widgets/controls",
            "_view_module_version": "1.5.0",
            "_view_name": "VBoxView",
            "box_style": "",
            "children": [
              "IPY_MODEL_65ba9f3e20454fba82e80da1bef7e004",
              "IPY_MODEL_e3eac99f8ce04d4c87cd5ac8f4017a35",
              "IPY_MODEL_f4b7444817e74934a8979cb8471b5399"
            ],
            "layout": "IPY_MODEL_5755b1b33f6f4bfa9beb14c6e760bf11"
          }
        },
        "09e5cb5622c6495faa9dbc1cf2dadf00": {
          "model_module": "@jupyter-widgets/controls",
          "model_name": "VBoxModel",
          "model_module_version": "1.5.0",
          "state": {
            "_dom_classes": [],
            "_model_module": "@jupyter-widgets/controls",
            "_model_module_version": "1.5.0",
            "_model_name": "VBoxModel",
            "_view_count": null,
            "_view_module": "@jupyter-widgets/controls",
            "_view_module_version": "1.5.0",
            "_view_name": "VBoxView",
            "box_style": "",
            "children": [
              "IPY_MODEL_ce47d94db0ab4df7970ec781170dfe10",
              "IPY_MODEL_97805cb22f90459b985c687cf497f887",
              "IPY_MODEL_9af7e24dfa034efda7eacc2f7159a164"
            ],
            "layout": "IPY_MODEL_ebd2b18c8bc3415aa023598444fdc125"
          }
        },
        "e72e49cc542e472880372b46702f6d92": {
          "model_module": "@jupyter-widgets/base",
          "model_name": "LayoutModel",
          "model_module_version": "1.2.0",
          "state": {
            "_model_module": "@jupyter-widgets/base",
            "_model_module_version": "1.2.0",
            "_model_name": "LayoutModel",
            "_view_count": null,
            "_view_module": "@jupyter-widgets/base",
            "_view_module_version": "1.2.0",
            "_view_name": "LayoutView",
            "align_content": null,
            "align_items": null,
            "align_self": null,
            "border": null,
            "bottom": null,
            "display": null,
            "flex": null,
            "flex_flow": null,
            "grid_area": null,
            "grid_auto_columns": null,
            "grid_auto_flow": null,
            "grid_auto_rows": null,
            "grid_column": null,
            "grid_gap": null,
            "grid_row": null,
            "grid_template_areas": null,
            "grid_template_columns": null,
            "grid_template_rows": null,
            "height": null,
            "justify_content": null,
            "justify_items": null,
            "left": null,
            "margin": null,
            "max_height": null,
            "max_width": null,
            "min_height": null,
            "min_width": null,
            "object_fit": null,
            "object_position": null,
            "order": null,
            "overflow": null,
            "overflow_x": null,
            "overflow_y": null,
            "padding": null,
            "right": null,
            "top": null,
            "visibility": null,
            "width": null
          }
        },
        "13f3051acded46e5bbc8aad86714c4ab": {
          "model_module": "@jupyter-widgets/output",
          "model_name": "OutputModel",
          "model_module_version": "1.0.0",
          "state": {
            "_dom_classes": [],
            "_model_module": "@jupyter-widgets/output",
            "_model_module_version": "1.0.0",
            "_model_name": "OutputModel",
            "_view_count": null,
            "_view_module": "@jupyter-widgets/output",
            "_view_module_version": "1.0.0",
            "_view_name": "OutputView",
            "layout": "IPY_MODEL_60671d7a0b8e482b97c5227b0d461df0",
            "msg_id": "",
            "outputs": [
              {
                "output_type": "display_data",
                "data": {
                  "text/plain": "<Figure size 1152x648 with 18 Axes>",
                  "image/png": "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\n"
                },
                "metadata": {
                  "needs_background": "light"
                }
              },
              {
                "output_type": "display_data",
                "data": {
                  "text/plain": "HBox(children=(Text(value='results', description='Folder name:', layout=Layout(width='auto'), placeholder='Typ…",
                  "application/vnd.jupyter.widget-view+json": {
                    "version_major": 2,
                    "version_minor": 0,
                    "model_id": "751558f2dd2340b1958a7b4d42d96a5e"
                  }
                },
                "metadata": {}
              },
              {
                "output_type": "display_data",
                "data": {
                  "text/plain": "Output()",
                  "application/vnd.jupyter.widget-view+json": {
                    "version_major": 2,
                    "version_minor": 0,
                    "model_id": "9d597645cbaf42359823e89e7e9627ef"
                  }
                },
                "metadata": {}
              }
            ]
          }
        },
        "02624b8a1816420b82fb29cea83ff80a": {
          "model_module": "@jupyter-widgets/base",
          "model_name": "LayoutModel",
          "model_module_version": "1.2.0",
          "state": {
            "_model_module": "@jupyter-widgets/base",
            "_model_module_version": "1.2.0",
            "_model_name": "LayoutModel",
            "_view_count": null,
            "_view_module": "@jupyter-widgets/base",
            "_view_module_version": "1.2.0",
            "_view_name": "LayoutView",
            "align_content": null,
            "align_items": null,
            "align_self": null,
            "border": null,
            "bottom": null,
            "display": null,
            "flex": null,
            "flex_flow": null,
            "grid_area": null,
            "grid_auto_columns": null,
            "grid_auto_flow": null,
            "grid_auto_rows": null,
            "grid_column": null,
            "grid_gap": null,
            "grid_row": null,
            "grid_template_areas": null,
            "grid_template_columns": null,
            "grid_template_rows": null,
            "height": null,
            "justify_content": null,
            "justify_items": null,
            "left": null,
            "margin": null,
            "max_height": null,
            "max_width": null,
            "min_height": null,
            "min_width": null,
            "object_fit": null,
            "object_position": null,
            "order": null,
            "overflow": null,
            "overflow_x": null,
            "overflow_y": null,
            "padding": null,
            "right": null,
            "top": null,
            "visibility": null,
            "width": null
          }
        },
        "c4046b30f8ce42a7b05b71259551de62": {
          "model_module": "@jupyter-widgets/base",
          "model_name": "LayoutModel",
          "model_module_version": "1.2.0",
          "state": {
            "_model_module": "@jupyter-widgets/base",
            "_model_module_version": "1.2.0",
            "_model_name": "LayoutModel",
            "_view_count": null,
            "_view_module": "@jupyter-widgets/base",
            "_view_module_version": "1.2.0",
            "_view_name": "LayoutView",
            "align_content": null,
            "align_items": null,
            "align_self": null,
            "border": null,
            "bottom": null,
            "display": null,
            "flex": null,
            "flex_flow": null,
            "grid_area": null,
            "grid_auto_columns": null,
            "grid_auto_flow": null,
            "grid_auto_rows": null,
            "grid_column": null,
            "grid_gap": null,
            "grid_row": null,
            "grid_template_areas": null,
            "grid_template_columns": null,
            "grid_template_rows": null,
            "height": null,
            "justify_content": null,
            "justify_items": null,
            "left": null,
            "margin": null,
            "max_height": null,
            "max_width": null,
            "min_height": null,
            "min_width": null,
            "object_fit": null,
            "object_position": null,
            "order": null,
            "overflow": null,
            "overflow_x": null,
            "overflow_y": null,
            "padding": null,
            "right": null,
            "top": null,
            "visibility": null,
            "width": "auto"
          }
        },
        "71226fa6e414447cbf35f871e948b457": {
          "model_module": "@jupyter-widgets/controls",
          "model_name": "DescriptionStyleModel",
          "model_module_version": "1.5.0",
          "state": {
            "_model_module": "@jupyter-widgets/controls",
            "_model_module_version": "1.5.0",
            "_model_name": "DescriptionStyleModel",
            "_view_count": null,
            "_view_module": "@jupyter-widgets/base",
            "_view_module_version": "1.2.0",
            "_view_name": "StyleView",
            "description_width": ""
          }
        },
        "19fa5fe3da6c48598d6b6c7469c61f82": {
          "model_module": "@jupyter-widgets/base",
          "model_name": "LayoutModel",
          "model_module_version": "1.2.0",
          "state": {
            "_model_module": "@jupyter-widgets/base",
            "_model_module_version": "1.2.0",
            "_model_name": "LayoutModel",
            "_view_count": null,
            "_view_module": "@jupyter-widgets/base",
            "_view_module_version": "1.2.0",
            "_view_name": "LayoutView",
            "align_content": null,
            "align_items": null,
            "align_self": null,
            "border": null,
            "bottom": null,
            "display": null,
            "flex": null,
            "flex_flow": null,
            "grid_area": null,
            "grid_auto_columns": null,
            "grid_auto_flow": null,
            "grid_auto_rows": null,
            "grid_column": null,
            "grid_gap": null,
            "grid_row": null,
            "grid_template_areas": null,
            "grid_template_columns": null,
            "grid_template_rows": null,
            "height": null,
            "justify_content": null,
            "justify_items": null,
            "left": null,
            "margin": null,
            "max_height": null,
            "max_width": null,
            "min_height": null,
            "min_width": null,
            "object_fit": null,
            "object_position": null,
            "order": null,
            "overflow": null,
            "overflow_x": null,
            "overflow_y": null,
            "padding": null,
            "right": null,
            "top": null,
            "visibility": null,
            "width": "auto"
          }
        },
        "91eb35cbc5584942bde5c3ec10821caa": {
          "model_module": "@jupyter-widgets/controls",
          "model_name": "DescriptionStyleModel",
          "model_module_version": "1.5.0",
          "state": {
            "_model_module": "@jupyter-widgets/controls",
            "_model_module_version": "1.5.0",
            "_model_name": "DescriptionStyleModel",
            "_view_count": null,
            "_view_module": "@jupyter-widgets/base",
            "_view_module_version": "1.2.0",
            "_view_name": "StyleView",
            "description_width": ""
          }
        },
        "4bce9fb31dce4b3fbe2d8e5e00909462": {
          "model_module": "@jupyter-widgets/base",
          "model_name": "LayoutModel",
          "model_module_version": "1.2.0",
          "state": {
            "_model_module": "@jupyter-widgets/base",
            "_model_module_version": "1.2.0",
            "_model_name": "LayoutModel",
            "_view_count": null,
            "_view_module": "@jupyter-widgets/base",
            "_view_module_version": "1.2.0",
            "_view_name": "LayoutView",
            "align_content": null,
            "align_items": null,
            "align_self": null,
            "border": null,
            "bottom": null,
            "display": null,
            "flex": null,
            "flex_flow": null,
            "grid_area": null,
            "grid_auto_columns": null,
            "grid_auto_flow": null,
            "grid_auto_rows": null,
            "grid_column": null,
            "grid_gap": null,
            "grid_row": null,
            "grid_template_areas": null,
            "grid_template_columns": null,
            "grid_template_rows": null,
            "height": null,
            "justify_content": null,
            "justify_items": null,
            "left": null,
            "margin": null,
            "max_height": null,
            "max_width": null,
            "min_height": null,
            "min_width": null,
            "object_fit": null,
            "object_position": null,
            "order": null,
            "overflow": null,
            "overflow_x": null,
            "overflow_y": null,
            "padding": null,
            "right": null,
            "top": null,
            "visibility": null,
            "width": "auto"
          }
        },
        "e5a375a45d0b474b9cb88fbcb3543d92": {
          "model_module": "@jupyter-widgets/controls",
          "model_name": "DescriptionStyleModel",
          "model_module_version": "1.5.0",
          "state": {
            "_model_module": "@jupyter-widgets/controls",
            "_model_module_version": "1.5.0",
            "_model_name": "DescriptionStyleModel",
            "_view_count": null,
            "_view_module": "@jupyter-widgets/base",
            "_view_module_version": "1.2.0",
            "_view_name": "StyleView",
            "description_width": ""
          }
        },
        "ed59eccd16e443d1afabed06fa8d8aa7": {
          "model_module": "@jupyter-widgets/base",
          "model_name": "LayoutModel",
          "model_module_version": "1.2.0",
          "state": {
            "_model_module": "@jupyter-widgets/base",
            "_model_module_version": "1.2.0",
            "_model_name": "LayoutModel",
            "_view_count": null,
            "_view_module": "@jupyter-widgets/base",
            "_view_module_version": "1.2.0",
            "_view_name": "LayoutView",
            "align_content": null,
            "align_items": null,
            "align_self": null,
            "border": null,
            "bottom": null,
            "display": null,
            "flex": null,
            "flex_flow": null,
            "grid_area": null,
            "grid_auto_columns": null,
            "grid_auto_flow": null,
            "grid_auto_rows": null,
            "grid_column": null,
            "grid_gap": null,
            "grid_row": null,
            "grid_template_areas": null,
            "grid_template_columns": null,
            "grid_template_rows": null,
            "height": null,
            "justify_content": null,
            "justify_items": null,
            "left": null,
            "margin": null,
            "max_height": null,
            "max_width": null,
            "min_height": null,
            "min_width": null,
            "object_fit": null,
            "object_position": null,
            "order": null,
            "overflow": null,
            "overflow_x": null,
            "overflow_y": null,
            "padding": null,
            "right": null,
            "top": null,
            "visibility": null,
            "width": "auto"
          }
        },
        "8036bebc2ce04484b42b05534f09900e": {
          "model_module": "@jupyter-widgets/controls",
          "model_name": "DescriptionStyleModel",
          "model_module_version": "1.5.0",
          "state": {
            "_model_module": "@jupyter-widgets/controls",
            "_model_module_version": "1.5.0",
            "_model_name": "DescriptionStyleModel",
            "_view_count": null,
            "_view_module": "@jupyter-widgets/base",
            "_view_module_version": "1.2.0",
            "_view_name": "StyleView",
            "description_width": ""
          }
        },
        "8bfaca5de7fb4ec5a2250dbc623b7a70": {
          "model_module": "@jupyter-widgets/base",
          "model_name": "LayoutModel",
          "model_module_version": "1.2.0",
          "state": {
            "_model_module": "@jupyter-widgets/base",
            "_model_module_version": "1.2.0",
            "_model_name": "LayoutModel",
            "_view_count": null,
            "_view_module": "@jupyter-widgets/base",
            "_view_module_version": "1.2.0",
            "_view_name": "LayoutView",
            "align_content": null,
            "align_items": null,
            "align_self": null,
            "border": null,
            "bottom": null,
            "display": null,
            "flex": null,
            "flex_flow": null,
            "grid_area": null,
            "grid_auto_columns": null,
            "grid_auto_flow": null,
            "grid_auto_rows": null,
            "grid_column": null,
            "grid_gap": null,
            "grid_row": null,
            "grid_template_areas": null,
            "grid_template_columns": null,
            "grid_template_rows": null,
            "height": null,
            "justify_content": null,
            "justify_items": null,
            "left": null,
            "margin": null,
            "max_height": null,
            "max_width": null,
            "min_height": null,
            "min_width": null,
            "object_fit": null,
            "object_position": null,
            "order": null,
            "overflow": null,
            "overflow_x": null,
            "overflow_y": null,
            "padding": null,
            "right": null,
            "top": null,
            "visibility": null,
            "width": null
          }
        },
        "3605eb39d43d4c9aaca5d1aa0aa97237": {
          "model_module": "@jupyter-widgets/controls",
          "model_name": "ButtonStyleModel",
          "model_module_version": "1.5.0",
          "state": {
            "_model_module": "@jupyter-widgets/controls",
            "_model_module_version": "1.5.0",
            "_model_name": "ButtonStyleModel",
            "_view_count": null,
            "_view_module": "@jupyter-widgets/base",
            "_view_module_version": "1.2.0",
            "_view_name": "StyleView",
            "button_color": null,
            "font_weight": ""
          }
        },
        "65ba9f3e20454fba82e80da1bef7e004": {
          "model_module": "@jupyter-widgets/controls",
          "model_name": "HBoxModel",
          "model_module_version": "1.5.0",
          "state": {
            "_dom_classes": [],
            "_model_module": "@jupyter-widgets/controls",
            "_model_module_version": "1.5.0",
            "_model_name": "HBoxModel",
            "_view_count": null,
            "_view_module": "@jupyter-widgets/controls",
            "_view_module_version": "1.5.0",
            "_view_name": "HBoxView",
            "box_style": "",
            "children": [
              "IPY_MODEL_fc69c2a45ebd4d2ba5032142c61f2a4d",
              "IPY_MODEL_848fdba4f8ae4f6fabfc76a918e5e84f",
              "IPY_MODEL_19d89d09c7a0468aa278d5e5a0a28dca",
              "IPY_MODEL_6b08281bd14a403bbbd7e9c551ce5c3c",
              "IPY_MODEL_d4482160bda941f0ac09766c812dc8de"
            ],
            "layout": "IPY_MODEL_c9becaed8bf94da68c80846ea632cc40"
          }
        },
        "e3eac99f8ce04d4c87cd5ac8f4017a35": {
          "model_module": "@jupyter-widgets/controls",
          "model_name": "HBoxModel",
          "model_module_version": "1.5.0",
          "state": {
            "_dom_classes": [],
            "_model_module": "@jupyter-widgets/controls",
            "_model_module_version": "1.5.0",
            "_model_name": "HBoxModel",
            "_view_count": null,
            "_view_module": "@jupyter-widgets/controls",
            "_view_module_version": "1.5.0",
            "_view_name": "HBoxView",
            "box_style": "",
            "children": [
              "IPY_MODEL_756337d61ae64359bc0f5fca02d2f3dd",
              "IPY_MODEL_7b476a9bc09844aab746ca2006f8d028",
              "IPY_MODEL_e60520f72a834279a5c4e01b51f2b4f4",
              "IPY_MODEL_f128637d478b406b886622a13d38dc1e"
            ],
            "layout": "IPY_MODEL_d3ad02a3e24442d2b3eb7eac9d3b4b1c"
          }
        },
        "f4b7444817e74934a8979cb8471b5399": {
          "model_module": "@jupyter-widgets/controls",
          "model_name": "ButtonModel",
          "model_module_version": "1.5.0",
          "state": {
            "_dom_classes": [],
            "_model_module": "@jupyter-widgets/controls",
            "_model_module_version": "1.5.0",
            "_model_name": "ButtonModel",
            "_view_count": null,
            "_view_module": "@jupyter-widgets/controls",
            "_view_module_version": "1.5.0",
            "_view_name": "ButtonView",
            "button_style": "",
            "description": "Set",
            "disabled": false,
            "icon": "",
            "layout": "IPY_MODEL_180e6d5c473644eabbc586997192311b",
            "style": "IPY_MODEL_9cb5b0281fc846e7a9c84d0a9631c2ff",
            "tooltip": ""
          }
        },
        "5755b1b33f6f4bfa9beb14c6e760bf11": {
          "model_module": "@jupyter-widgets/base",
          "model_name": "LayoutModel",
          "model_module_version": "1.2.0",
          "state": {
            "_model_module": "@jupyter-widgets/base",
            "_model_module_version": "1.2.0",
            "_model_name": "LayoutModel",
            "_view_count": null,
            "_view_module": "@jupyter-widgets/base",
            "_view_module_version": "1.2.0",
            "_view_name": "LayoutView",
            "align_content": null,
            "align_items": null,
            "align_self": null,
            "border": null,
            "bottom": null,
            "display": null,
            "flex": "8 1 0%",
            "flex_flow": null,
            "grid_area": null,
            "grid_auto_columns": null,
            "grid_auto_flow": null,
            "grid_auto_rows": null,
            "grid_column": null,
            "grid_gap": null,
            "grid_row": null,
            "grid_template_areas": null,
            "grid_template_columns": null,
            "grid_template_rows": null,
            "height": null,
            "justify_content": null,
            "justify_items": null,
            "left": null,
            "margin": null,
            "max_height": null,
            "max_width": null,
            "min_height": null,
            "min_width": null,
            "object_fit": null,
            "object_position": null,
            "order": null,
            "overflow": null,
            "overflow_x": null,
            "overflow_y": null,
            "padding": null,
            "right": null,
            "top": null,
            "visibility": null,
            "width": "80%"
          }
        },
        "ce47d94db0ab4df7970ec781170dfe10": {
          "model_module": "@jupyter-widgets/controls",
          "model_name": "TextModel",
          "model_module_version": "1.5.0",
          "state": {
            "_dom_classes": [],
            "_model_module": "@jupyter-widgets/controls",
            "_model_module_version": "1.5.0",
            "_model_name": "TextModel",
            "_view_count": null,
            "_view_module": "@jupyter-widgets/controls",
            "_view_module_version": "1.5.0",
            "_view_name": "TextView",
            "continuous_update": true,
            "description": "Color map:",
            "description_tooltip": null,
            "disabled": false,
            "layout": "IPY_MODEL_2cb3ee98d4d24b61893cf48cb9ee5717",
            "placeholder": "Type something",
            "style": "IPY_MODEL_0f6214d2769f436ea45296a04c1e664c",
            "value": "viridis"
          }
        },
        "97805cb22f90459b985c687cf497f887": {
          "model_module": "@jupyter-widgets/controls",
          "model_name": "ButtonModel",
          "model_module_version": "1.5.0",
          "state": {
            "_dom_classes": [],
            "_model_module": "@jupyter-widgets/controls",
            "_model_module_version": "1.5.0",
            "_model_name": "ButtonModel",
            "_view_count": null,
            "_view_module": "@jupyter-widgets/controls",
            "_view_module_version": "1.5.0",
            "_view_name": "ButtonView",
            "button_style": "",
            "description": "Set color map",
            "disabled": false,
            "icon": "",
            "layout": "IPY_MODEL_c6f9813e9a1a41aeba9de6c590c0bbcc",
            "style": "IPY_MODEL_2073ab1481534f81855b791dc7f71835",
            "tooltip": ""
          }
        },
        "9af7e24dfa034efda7eacc2f7159a164": {
          "model_module": "@jupyter-widgets/controls",
          "model_name": "ButtonModel",
          "model_module_version": "1.5.0",
          "state": {
            "_dom_classes": [],
            "_model_module": "@jupyter-widgets/controls",
            "_model_module_version": "1.5.0",
            "_model_name": "ButtonModel",
            "_view_count": null,
            "_view_module": "@jupyter-widgets/controls",
            "_view_module_version": "1.5.0",
            "_view_name": "ButtonView",
            "button_style": "",
            "description": "Reset",
            "disabled": false,
            "icon": "",
            "layout": "IPY_MODEL_63a6eea3ffd14eb88a0277c26ce49c16",
            "style": "IPY_MODEL_b1e9b5e655334de49ac0cbc284af2a13",
            "tooltip": ""
          }
        },
        "ebd2b18c8bc3415aa023598444fdc125": {
          "model_module": "@jupyter-widgets/base",
          "model_name": "LayoutModel",
          "model_module_version": "1.2.0",
          "state": {
            "_model_module": "@jupyter-widgets/base",
            "_model_module_version": "1.2.0",
            "_model_name": "LayoutModel",
            "_view_count": null,
            "_view_module": "@jupyter-widgets/base",
            "_view_module_version": "1.2.0",
            "_view_name": "LayoutView",
            "align_content": null,
            "align_items": null,
            "align_self": null,
            "border": null,
            "bottom": null,
            "display": null,
            "flex": "2 1 0%",
            "flex_flow": null,
            "grid_area": null,
            "grid_auto_columns": null,
            "grid_auto_flow": null,
            "grid_auto_rows": null,
            "grid_column": null,
            "grid_gap": null,
            "grid_row": null,
            "grid_template_areas": null,
            "grid_template_columns": null,
            "grid_template_rows": null,
            "height": null,
            "justify_content": null,
            "justify_items": null,
            "left": null,
            "margin": null,
            "max_height": null,
            "max_width": null,
            "min_height": null,
            "min_width": null,
            "object_fit": null,
            "object_position": null,
            "order": null,
            "overflow": null,
            "overflow_x": null,
            "overflow_y": null,
            "padding": null,
            "right": null,
            "top": null,
            "visibility": null,
            "width": "20%"
          }
        },
        "18e51ec8e22d4b278f4f6ce09837f54f": {
          "model_module": "@jupyter-widgets/output",
          "model_name": "OutputModel",
          "model_module_version": "1.0.0",
          "state": {
            "_dom_classes": [],
            "_model_module": "@jupyter-widgets/output",
            "_model_module_version": "1.0.0",
            "_model_name": "OutputModel",
            "_view_count": null,
            "_view_module": "@jupyter-widgets/output",
            "_view_module_version": "1.0.0",
            "_view_name": "OutputView",
            "layout": "IPY_MODEL_35e5ac1fd50646b1aa362ef17625c3f0",
            "msg_id": "",
            "outputs": []
          }
        },
        "fc69c2a45ebd4d2ba5032142c61f2a4d": {
          "model_module": "@jupyter-widgets/controls",
          "model_name": "ColorPickerModel",
          "model_module_version": "1.5.0",
          "state": {
            "_dom_classes": [],
            "_model_module": "@jupyter-widgets/controls",
            "_model_module_version": "1.5.0",
            "_model_name": "ColorPickerModel",
            "_view_count": null,
            "_view_module": "@jupyter-widgets/controls",
            "_view_module_version": "1.5.0",
            "_view_name": "ColorPickerView",
            "concise": false,
            "description": "Al_Ka",
            "description_tooltip": null,
            "disabled": false,
            "layout": "IPY_MODEL_c932156fa8f54da6bf8458d77e60e3b6",
            "style": "IPY_MODEL_4229b7380326456cadbf461e189cbb0f",
            "value": "#ff0000"
          }
        },
        "848fdba4f8ae4f6fabfc76a918e5e84f": {
          "model_module": "@jupyter-widgets/controls",
          "model_name": "ColorPickerModel",
          "model_module_version": "1.5.0",
          "state": {
            "_dom_classes": [],
            "_model_module": "@jupyter-widgets/controls",
            "_model_module_version": "1.5.0",
            "_model_name": "ColorPickerModel",
            "_view_count": null,
            "_view_module": "@jupyter-widgets/controls",
            "_view_module_version": "1.5.0",
            "_view_name": "ColorPickerView",
            "concise": false,
            "description": "C_Ka",
            "description_tooltip": null,
            "disabled": false,
            "layout": "IPY_MODEL_c932156fa8f54da6bf8458d77e60e3b6",
            "style": "IPY_MODEL_395d0df0d15a4792be18bd892317d205",
            "value": "#ffa500"
          }
        },
        "19d89d09c7a0468aa278d5e5a0a28dca": {
          "model_module": "@jupyter-widgets/controls",
          "model_name": "ColorPickerModel",
          "model_module_version": "1.5.0",
          "state": {
            "_dom_classes": [],
            "_model_module": "@jupyter-widgets/controls",
            "_model_module_version": "1.5.0",
            "_model_name": "ColorPickerModel",
            "_view_count": null,
            "_view_module": "@jupyter-widgets/controls",
            "_view_module_version": "1.5.0",
            "_view_name": "ColorPickerView",
            "concise": false,
            "description": "Ca_Ka",
            "description_tooltip": null,
            "disabled": false,
            "layout": "IPY_MODEL_c932156fa8f54da6bf8458d77e60e3b6",
            "style": "IPY_MODEL_92d236985bff4bbfb8c12c1394a28c89",
            "value": "#b3ff00"
          }
        },
        "6b08281bd14a403bbbd7e9c551ce5c3c": {
          "model_module": "@jupyter-widgets/controls",
          "model_name": "ColorPickerModel",
          "model_module_version": "1.5.0",
          "state": {
            "_dom_classes": [],
            "_model_module": "@jupyter-widgets/controls",
            "_model_module_version": "1.5.0",
            "_model_name": "ColorPickerModel",
            "_view_count": null,
            "_view_module": "@jupyter-widgets/controls",
            "_view_module_version": "1.5.0",
            "_view_name": "ColorPickerView",
            "concise": false,
            "description": "Fe_Ka",
            "description_tooltip": null,
            "disabled": false,
            "layout": "IPY_MODEL_c932156fa8f54da6bf8458d77e60e3b6",
            "style": "IPY_MODEL_cedff0fa74c741a1b21b483d83539c25",
            "value": "#08ff00"
          }
        },
        "d4482160bda941f0ac09766c812dc8de": {
          "model_module": "@jupyter-widgets/controls",
          "model_name": "ColorPickerModel",
          "model_module_version": "1.5.0",
          "state": {
            "_dom_classes": [],
            "_model_module": "@jupyter-widgets/controls",
            "_model_module_version": "1.5.0",
            "_model_name": "ColorPickerModel",
            "_view_count": null,
            "_view_module": "@jupyter-widgets/controls",
            "_view_module_version": "1.5.0",
            "_view_name": "ColorPickerView",
            "concise": false,
            "description": "K_Ka",
            "description_tooltip": null,
            "disabled": false,
            "layout": "IPY_MODEL_c932156fa8f54da6bf8458d77e60e3b6",
            "style": "IPY_MODEL_7ae71369ac34418da84a063958a79527",
            "value": "#00ff9d"
          }
        },
        "c9becaed8bf94da68c80846ea632cc40": {
          "model_module": "@jupyter-widgets/base",
          "model_name": "LayoutModel",
          "model_module_version": "1.2.0",
          "state": {
            "_model_module": "@jupyter-widgets/base",
            "_model_module_version": "1.2.0",
            "_model_name": "LayoutModel",
            "_view_count": null,
            "_view_module": "@jupyter-widgets/base",
            "_view_module_version": "1.2.0",
            "_view_name": "LayoutView",
            "align_content": null,
            "align_items": null,
            "align_self": null,
            "border": null,
            "bottom": null,
            "display": null,
            "flex": null,
            "flex_flow": null,
            "grid_area": null,
            "grid_auto_columns": null,
            "grid_auto_flow": null,
            "grid_auto_rows": null,
            "grid_column": null,
            "grid_gap": null,
            "grid_row": null,
            "grid_template_areas": null,
            "grid_template_columns": null,
            "grid_template_rows": null,
            "height": null,
            "justify_content": null,
            "justify_items": null,
            "left": null,
            "margin": null,
            "max_height": null,
            "max_width": null,
            "min_height": null,
            "min_width": null,
            "object_fit": null,
            "object_position": null,
            "order": null,
            "overflow": null,
            "overflow_x": null,
            "overflow_y": null,
            "padding": null,
            "right": null,
            "top": null,
            "visibility": null,
            "width": null
          }
        },
        "756337d61ae64359bc0f5fca02d2f3dd": {
          "model_module": "@jupyter-widgets/controls",
          "model_name": "ColorPickerModel",
          "model_module_version": "1.5.0",
          "state": {
            "_dom_classes": [],
            "_model_module": "@jupyter-widgets/controls",
            "_model_module_version": "1.5.0",
            "_model_name": "ColorPickerModel",
            "_view_count": null,
            "_view_module": "@jupyter-widgets/controls",
            "_view_module_version": "1.5.0",
            "_view_name": "ColorPickerView",
            "concise": false,
            "description": "O_Ka",
            "description_tooltip": null,
            "disabled": false,
            "layout": "IPY_MODEL_c932156fa8f54da6bf8458d77e60e3b6",
            "style": "IPY_MODEL_d4e9d7f8d2844584a76bad020b2c99dd",
            "value": "#00b5ff"
          }
        },
        "7b476a9bc09844aab746ca2006f8d028": {
          "model_module": "@jupyter-widgets/controls",
          "model_name": "ColorPickerModel",
          "model_module_version": "1.5.0",
          "state": {
            "_dom_classes": [],
            "_model_module": "@jupyter-widgets/controls",
            "_model_module_version": "1.5.0",
            "_model_name": "ColorPickerModel",
            "_view_count": null,
            "_view_module": "@jupyter-widgets/controls",
            "_view_module_version": "1.5.0",
            "_view_name": "ColorPickerView",
            "concise": false,
            "description": "Si_Ka",
            "description_tooltip": null,
            "disabled": false,
            "layout": "IPY_MODEL_c932156fa8f54da6bf8458d77e60e3b6",
            "style": "IPY_MODEL_be415afd3b824b9caf7f592986ef51e3",
            "value": "#0010ff"
          }
        },
        "e60520f72a834279a5c4e01b51f2b4f4": {
          "model_module": "@jupyter-widgets/controls",
          "model_name": "ColorPickerModel",
          "model_module_version": "1.5.0",
          "state": {
            "_dom_classes": [],
            "_model_module": "@jupyter-widgets/controls",
            "_model_module_version": "1.5.0",
            "_model_name": "ColorPickerModel",
            "_view_count": null,
            "_view_module": "@jupyter-widgets/controls",
            "_view_module_version": "1.5.0",
            "_view_name": "ColorPickerView",
            "concise": false,
            "description": "Ti_Ka",
            "description_tooltip": null,
            "disabled": false,
            "layout": "IPY_MODEL_c932156fa8f54da6bf8458d77e60e3b6",
            "style": "IPY_MODEL_3af98c3b4c624d22b871362b3726942a",
            "value": "#9b00ff"
          }
        },
        "f128637d478b406b886622a13d38dc1e": {
          "model_module": "@jupyter-widgets/controls",
          "model_name": "ColorPickerModel",
          "model_module_version": "1.5.0",
          "state": {
            "_dom_classes": [],
            "_model_module": "@jupyter-widgets/controls",
            "_model_module_version": "1.5.0",
            "_model_name": "ColorPickerModel",
            "_view_count": null,
            "_view_module": "@jupyter-widgets/controls",
            "_view_module_version": "1.5.0",
            "_view_name": "ColorPickerView",
            "concise": false,
            "description": "Zn_La",
            "description_tooltip": null,
            "disabled": false,
            "layout": "IPY_MODEL_c932156fa8f54da6bf8458d77e60e3b6",
            "style": "IPY_MODEL_9e1bc75ec82d46f48376e3b66e5bdbec",
            "value": "#ff00bd"
          }
        },
        "d3ad02a3e24442d2b3eb7eac9d3b4b1c": {
          "model_module": "@jupyter-widgets/base",
          "model_name": "LayoutModel",
          "model_module_version": "1.2.0",
          "state": {
            "_model_module": "@jupyter-widgets/base",
            "_model_module_version": "1.2.0",
            "_model_name": "LayoutModel",
            "_view_count": null,
            "_view_module": "@jupyter-widgets/base",
            "_view_module_version": "1.2.0",
            "_view_name": "LayoutView",
            "align_content": null,
            "align_items": null,
            "align_self": null,
            "border": null,
            "bottom": null,
            "display": null,
            "flex": null,
            "flex_flow": null,
            "grid_area": null,
            "grid_auto_columns": null,
            "grid_auto_flow": null,
            "grid_auto_rows": null,
            "grid_column": null,
            "grid_gap": null,
            "grid_row": null,
            "grid_template_areas": null,
            "grid_template_columns": null,
            "grid_template_rows": null,
            "height": null,
            "justify_content": null,
            "justify_items": null,
            "left": null,
            "margin": null,
            "max_height": null,
            "max_width": null,
            "min_height": null,
            "min_width": null,
            "object_fit": null,
            "object_position": null,
            "order": null,
            "overflow": null,
            "overflow_x": null,
            "overflow_y": null,
            "padding": null,
            "right": null,
            "top": null,
            "visibility": null,
            "width": null
          }
        },
        "180e6d5c473644eabbc586997192311b": {
          "model_module": "@jupyter-widgets/base",
          "model_name": "LayoutModel",
          "model_module_version": "1.2.0",
          "state": {
            "_model_module": "@jupyter-widgets/base",
            "_model_module_version": "1.2.0",
            "_model_name": "LayoutModel",
            "_view_count": null,
            "_view_module": "@jupyter-widgets/base",
            "_view_module_version": "1.2.0",
            "_view_name": "LayoutView",
            "align_content": null,
            "align_items": null,
            "align_self": null,
            "border": null,
            "bottom": null,
            "display": null,
            "flex": null,
            "flex_flow": null,
            "grid_area": null,
            "grid_auto_columns": null,
            "grid_auto_flow": null,
            "grid_auto_rows": null,
            "grid_column": null,
            "grid_gap": null,
            "grid_row": null,
            "grid_template_areas": null,
            "grid_template_columns": null,
            "grid_template_rows": null,
            "height": null,
            "justify_content": null,
            "justify_items": null,
            "left": null,
            "margin": null,
            "max_height": null,
            "max_width": null,
            "min_height": null,
            "min_width": null,
            "object_fit": null,
            "object_position": null,
            "order": null,
            "overflow": null,
            "overflow_x": null,
            "overflow_y": null,
            "padding": null,
            "right": null,
            "top": null,
            "visibility": null,
            "width": "auto"
          }
        },
        "9cb5b0281fc846e7a9c84d0a9631c2ff": {
          "model_module": "@jupyter-widgets/controls",
          "model_name": "ButtonStyleModel",
          "model_module_version": "1.5.0",
          "state": {
            "_model_module": "@jupyter-widgets/controls",
            "_model_module_version": "1.5.0",
            "_model_name": "ButtonStyleModel",
            "_view_count": null,
            "_view_module": "@jupyter-widgets/base",
            "_view_module_version": "1.2.0",
            "_view_name": "StyleView",
            "button_color": null,
            "font_weight": ""
          }
        },
        "2cb3ee98d4d24b61893cf48cb9ee5717": {
          "model_module": "@jupyter-widgets/base",
          "model_name": "LayoutModel",
          "model_module_version": "1.2.0",
          "state": {
            "_model_module": "@jupyter-widgets/base",
            "_model_module_version": "1.2.0",
            "_model_name": "LayoutModel",
            "_view_count": null,
            "_view_module": "@jupyter-widgets/base",
            "_view_module_version": "1.2.0",
            "_view_name": "LayoutView",
            "align_content": null,
            "align_items": null,
            "align_self": null,
            "border": null,
            "bottom": null,
            "display": null,
            "flex": null,
            "flex_flow": null,
            "grid_area": null,
            "grid_auto_columns": null,
            "grid_auto_flow": null,
            "grid_auto_rows": null,
            "grid_column": null,
            "grid_gap": null,
            "grid_row": null,
            "grid_template_areas": null,
            "grid_template_columns": null,
            "grid_template_rows": null,
            "height": null,
            "justify_content": null,
            "justify_items": null,
            "left": null,
            "margin": null,
            "max_height": null,
            "max_width": null,
            "min_height": null,
            "min_width": null,
            "object_fit": null,
            "object_position": null,
            "order": null,
            "overflow": null,
            "overflow_x": null,
            "overflow_y": null,
            "padding": null,
            "right": null,
            "top": null,
            "visibility": null,
            "width": "auto"
          }
        },
        "0f6214d2769f436ea45296a04c1e664c": {
          "model_module": "@jupyter-widgets/controls",
          "model_name": "DescriptionStyleModel",
          "model_module_version": "1.5.0",
          "state": {
            "_model_module": "@jupyter-widgets/controls",
            "_model_module_version": "1.5.0",
            "_model_name": "DescriptionStyleModel",
            "_view_count": null,
            "_view_module": "@jupyter-widgets/base",
            "_view_module_version": "1.2.0",
            "_view_name": "StyleView",
            "description_width": ""
          }
        },
        "c6f9813e9a1a41aeba9de6c590c0bbcc": {
          "model_module": "@jupyter-widgets/base",
          "model_name": "LayoutModel",
          "model_module_version": "1.2.0",
          "state": {
            "_model_module": "@jupyter-widgets/base",
            "_model_module_version": "1.2.0",
            "_model_name": "LayoutModel",
            "_view_count": null,
            "_view_module": "@jupyter-widgets/base",
            "_view_module_version": "1.2.0",
            "_view_name": "LayoutView",
            "align_content": null,
            "align_items": null,
            "align_self": null,
            "border": null,
            "bottom": null,
            "display": null,
            "flex": null,
            "flex_flow": null,
            "grid_area": null,
            "grid_auto_columns": null,
            "grid_auto_flow": null,
            "grid_auto_rows": null,
            "grid_column": null,
            "grid_gap": null,
            "grid_row": null,
            "grid_template_areas": null,
            "grid_template_columns": null,
            "grid_template_rows": null,
            "height": null,
            "justify_content": null,
            "justify_items": null,
            "left": null,
            "margin": null,
            "max_height": null,
            "max_width": null,
            "min_height": null,
            "min_width": null,
            "object_fit": null,
            "object_position": null,
            "order": null,
            "overflow": null,
            "overflow_x": null,
            "overflow_y": null,
            "padding": null,
            "right": null,
            "top": null,
            "visibility": null,
            "width": "auto"
          }
        },
        "2073ab1481534f81855b791dc7f71835": {
          "model_module": "@jupyter-widgets/controls",
          "model_name": "ButtonStyleModel",
          "model_module_version": "1.5.0",
          "state": {
            "_model_module": "@jupyter-widgets/controls",
            "_model_module_version": "1.5.0",
            "_model_name": "ButtonStyleModel",
            "_view_count": null,
            "_view_module": "@jupyter-widgets/base",
            "_view_module_version": "1.2.0",
            "_view_name": "StyleView",
            "button_color": null,
            "font_weight": ""
          }
        },
        "63a6eea3ffd14eb88a0277c26ce49c16": {
          "model_module": "@jupyter-widgets/base",
          "model_name": "LayoutModel",
          "model_module_version": "1.2.0",
          "state": {
            "_model_module": "@jupyter-widgets/base",
            "_model_module_version": "1.2.0",
            "_model_name": "LayoutModel",
            "_view_count": null,
            "_view_module": "@jupyter-widgets/base",
            "_view_module_version": "1.2.0",
            "_view_name": "LayoutView",
            "align_content": null,
            "align_items": null,
            "align_self": null,
            "border": null,
            "bottom": null,
            "display": null,
            "flex": null,
            "flex_flow": null,
            "grid_area": null,
            "grid_auto_columns": null,
            "grid_auto_flow": null,
            "grid_auto_rows": null,
            "grid_column": null,
            "grid_gap": null,
            "grid_row": null,
            "grid_template_areas": null,
            "grid_template_columns": null,
            "grid_template_rows": null,
            "height": null,
            "justify_content": null,
            "justify_items": null,
            "left": null,
            "margin": null,
            "max_height": null,
            "max_width": null,
            "min_height": null,
            "min_width": null,
            "object_fit": null,
            "object_position": null,
            "order": null,
            "overflow": null,
            "overflow_x": null,
            "overflow_y": null,
            "padding": null,
            "right": null,
            "top": null,
            "visibility": null,
            "width": "auto"
          }
        },
        "b1e9b5e655334de49ac0cbc284af2a13": {
          "model_module": "@jupyter-widgets/controls",
          "model_name": "ButtonStyleModel",
          "model_module_version": "1.5.0",
          "state": {
            "_model_module": "@jupyter-widgets/controls",
            "_model_module_version": "1.5.0",
            "_model_name": "ButtonStyleModel",
            "_view_count": null,
            "_view_module": "@jupyter-widgets/base",
            "_view_module_version": "1.2.0",
            "_view_name": "StyleView",
            "button_color": null,
            "font_weight": ""
          }
        },
        "35e5ac1fd50646b1aa362ef17625c3f0": {
          "model_module": "@jupyter-widgets/base",
          "model_name": "LayoutModel",
          "model_module_version": "1.2.0",
          "state": {
            "_model_module": "@jupyter-widgets/base",
            "_model_module_version": "1.2.0",
            "_model_name": "LayoutModel",
            "_view_count": null,
            "_view_module": "@jupyter-widgets/base",
            "_view_module_version": "1.2.0",
            "_view_name": "LayoutView",
            "align_content": null,
            "align_items": null,
            "align_self": null,
            "border": null,
            "bottom": null,
            "display": null,
            "flex": null,
            "flex_flow": null,
            "grid_area": null,
            "grid_auto_columns": null,
            "grid_auto_flow": null,
            "grid_auto_rows": null,
            "grid_column": null,
            "grid_gap": null,
            "grid_row": null,
            "grid_template_areas": null,
            "grid_template_columns": null,
            "grid_template_rows": null,
            "height": null,
            "justify_content": null,
            "justify_items": null,
            "left": null,
            "margin": null,
            "max_height": null,
            "max_width": null,
            "min_height": null,
            "min_width": null,
            "object_fit": null,
            "object_position": null,
            "order": null,
            "overflow": null,
            "overflow_x": null,
            "overflow_y": null,
            "padding": null,
            "right": null,
            "top": null,
            "visibility": null,
            "width": null
          }
        },
        "c932156fa8f54da6bf8458d77e60e3b6": {
          "model_module": "@jupyter-widgets/base",
          "model_name": "LayoutModel",
          "model_module_version": "1.2.0",
          "state": {
            "_model_module": "@jupyter-widgets/base",
            "_model_module_version": "1.2.0",
            "_model_name": "LayoutModel",
            "_view_count": null,
            "_view_module": "@jupyter-widgets/base",
            "_view_module_version": "1.2.0",
            "_view_name": "LayoutView",
            "align_content": null,
            "align_items": null,
            "align_self": null,
            "border": null,
            "bottom": null,
            "display": null,
            "flex": null,
            "flex_flow": null,
            "grid_area": null,
            "grid_auto_columns": null,
            "grid_auto_flow": null,
            "grid_auto_rows": null,
            "grid_column": null,
            "grid_gap": null,
            "grid_row": null,
            "grid_template_areas": null,
            "grid_template_columns": null,
            "grid_template_rows": null,
            "height": null,
            "justify_content": null,
            "justify_items": null,
            "left": null,
            "margin": null,
            "max_height": null,
            "max_width": null,
            "min_height": null,
            "min_width": null,
            "object_fit": null,
            "object_position": null,
            "order": null,
            "overflow": null,
            "overflow_x": null,
            "overflow_y": null,
            "padding": null,
            "right": null,
            "top": null,
            "visibility": null,
            "width": "18%"
          }
        },
        "4229b7380326456cadbf461e189cbb0f": {
          "model_module": "@jupyter-widgets/controls",
          "model_name": "DescriptionStyleModel",
          "model_module_version": "1.5.0",
          "state": {
            "_model_module": "@jupyter-widgets/controls",
            "_model_module_version": "1.5.0",
            "_model_name": "DescriptionStyleModel",
            "_view_count": null,
            "_view_module": "@jupyter-widgets/base",
            "_view_module_version": "1.2.0",
            "_view_name": "StyleView",
            "description_width": ""
          }
        },
        "395d0df0d15a4792be18bd892317d205": {
          "model_module": "@jupyter-widgets/controls",
          "model_name": "DescriptionStyleModel",
          "model_module_version": "1.5.0",
          "state": {
            "_model_module": "@jupyter-widgets/controls",
            "_model_module_version": "1.5.0",
            "_model_name": "DescriptionStyleModel",
            "_view_count": null,
            "_view_module": "@jupyter-widgets/base",
            "_view_module_version": "1.2.0",
            "_view_name": "StyleView",
            "description_width": ""
          }
        },
        "92d236985bff4bbfb8c12c1394a28c89": {
          "model_module": "@jupyter-widgets/controls",
          "model_name": "DescriptionStyleModel",
          "model_module_version": "1.5.0",
          "state": {
            "_model_module": "@jupyter-widgets/controls",
            "_model_module_version": "1.5.0",
            "_model_name": "DescriptionStyleModel",
            "_view_count": null,
            "_view_module": "@jupyter-widgets/base",
            "_view_module_version": "1.2.0",
            "_view_name": "StyleView",
            "description_width": ""
          }
        },
        "cedff0fa74c741a1b21b483d83539c25": {
          "model_module": "@jupyter-widgets/controls",
          "model_name": "DescriptionStyleModel",
          "model_module_version": "1.5.0",
          "state": {
            "_model_module": "@jupyter-widgets/controls",
            "_model_module_version": "1.5.0",
            "_model_name": "DescriptionStyleModel",
            "_view_count": null,
            "_view_module": "@jupyter-widgets/base",
            "_view_module_version": "1.2.0",
            "_view_name": "StyleView",
            "description_width": ""
          }
        },
        "7ae71369ac34418da84a063958a79527": {
          "model_module": "@jupyter-widgets/controls",
          "model_name": "DescriptionStyleModel",
          "model_module_version": "1.5.0",
          "state": {
            "_model_module": "@jupyter-widgets/controls",
            "_model_module_version": "1.5.0",
            "_model_name": "DescriptionStyleModel",
            "_view_count": null,
            "_view_module": "@jupyter-widgets/base",
            "_view_module_version": "1.2.0",
            "_view_name": "StyleView",
            "description_width": ""
          }
        },
        "d4e9d7f8d2844584a76bad020b2c99dd": {
          "model_module": "@jupyter-widgets/controls",
          "model_name": "DescriptionStyleModel",
          "model_module_version": "1.5.0",
          "state": {
            "_model_module": "@jupyter-widgets/controls",
            "_model_module_version": "1.5.0",
            "_model_name": "DescriptionStyleModel",
            "_view_count": null,
            "_view_module": "@jupyter-widgets/base",
            "_view_module_version": "1.2.0",
            "_view_name": "StyleView",
            "description_width": ""
          }
        },
        "be415afd3b824b9caf7f592986ef51e3": {
          "model_module": "@jupyter-widgets/controls",
          "model_name": "DescriptionStyleModel",
          "model_module_version": "1.5.0",
          "state": {
            "_model_module": "@jupyter-widgets/controls",
            "_model_module_version": "1.5.0",
            "_model_name": "DescriptionStyleModel",
            "_view_count": null,
            "_view_module": "@jupyter-widgets/base",
            "_view_module_version": "1.2.0",
            "_view_name": "StyleView",
            "description_width": ""
          }
        },
        "3af98c3b4c624d22b871362b3726942a": {
          "model_module": "@jupyter-widgets/controls",
          "model_name": "DescriptionStyleModel",
          "model_module_version": "1.5.0",
          "state": {
            "_model_module": "@jupyter-widgets/controls",
            "_model_module_version": "1.5.0",
            "_model_name": "DescriptionStyleModel",
            "_view_count": null,
            "_view_module": "@jupyter-widgets/base",
            "_view_module_version": "1.2.0",
            "_view_name": "StyleView",
            "description_width": ""
          }
        },
        "9e1bc75ec82d46f48376e3b66e5bdbec": {
          "model_module": "@jupyter-widgets/controls",
          "model_name": "DescriptionStyleModel",
          "model_module_version": "1.5.0",
          "state": {
            "_model_module": "@jupyter-widgets/controls",
            "_model_module_version": "1.5.0",
            "_model_name": "DescriptionStyleModel",
            "_view_count": null,
            "_view_module": "@jupyter-widgets/base",
            "_view_module_version": "1.2.0",
            "_view_name": "StyleView",
            "description_width": ""
          }
        },
        "60671d7a0b8e482b97c5227b0d461df0": {
          "model_module": "@jupyter-widgets/base",
          "model_name": "LayoutModel",
          "model_module_version": "1.2.0",
          "state": {
            "_model_module": "@jupyter-widgets/base",
            "_model_module_version": "1.2.0",
            "_model_name": "LayoutModel",
            "_view_count": null,
            "_view_module": "@jupyter-widgets/base",
            "_view_module_version": "1.2.0",
            "_view_name": "LayoutView",
            "align_content": null,
            "align_items": null,
            "align_self": null,
            "border": null,
            "bottom": null,
            "display": null,
            "flex": null,
            "flex_flow": null,
            "grid_area": null,
            "grid_auto_columns": null,
            "grid_auto_flow": null,
            "grid_auto_rows": null,
            "grid_column": null,
            "grid_gap": null,
            "grid_row": null,
            "grid_template_areas": null,
            "grid_template_columns": null,
            "grid_template_rows": null,
            "height": null,
            "justify_content": null,
            "justify_items": null,
            "left": null,
            "margin": null,
            "max_height": null,
            "max_width": null,
            "min_height": null,
            "min_width": null,
            "object_fit": null,
            "object_position": null,
            "order": null,
            "overflow": null,
            "overflow_x": null,
            "overflow_y": null,
            "padding": null,
            "right": null,
            "top": null,
            "visibility": null,
            "width": null
          }
        },
        "751558f2dd2340b1958a7b4d42d96a5e": {
          "model_module": "@jupyter-widgets/controls",
          "model_name": "HBoxModel",
          "model_module_version": "1.5.0",
          "state": {
            "_dom_classes": [],
            "_model_module": "@jupyter-widgets/controls",
            "_model_module_version": "1.5.0",
            "_model_name": "HBoxModel",
            "_view_count": null,
            "_view_module": "@jupyter-widgets/controls",
            "_view_module_version": "1.5.0",
            "_view_name": "HBoxView",
            "box_style": "",
            "children": [
              "IPY_MODEL_5fbcf7a1e2204dd7b5a9d825a680c8d9",
              "IPY_MODEL_a33d04fa4a134c32b7e56adbc44ac92e",
              "IPY_MODEL_c46eb65f3d034e7bbeb77d9f78509464",
              "IPY_MODEL_97727e39cb964da282fd9ccd795ddff8",
              "IPY_MODEL_b46eb86a18564d8bb5a07df06c90ef5b"
            ],
            "layout": "IPY_MODEL_7bec985cd619405d880087ddfe82a205"
          }
        },
        "5fbcf7a1e2204dd7b5a9d825a680c8d9": {
          "model_module": "@jupyter-widgets/controls",
          "model_name": "TextModel",
          "model_module_version": "1.5.0",
          "state": {
            "_dom_classes": [],
            "_model_module": "@jupyter-widgets/controls",
            "_model_module_version": "1.5.0",
            "_model_name": "TextModel",
            "_view_count": null,
            "_view_module": "@jupyter-widgets/controls",
            "_view_module_version": "1.5.0",
            "_view_name": "TextView",
            "continuous_update": true,
            "description": "Folder name:",
            "description_tooltip": null,
            "disabled": false,
            "layout": "IPY_MODEL_05e0681215cb413d8e707a6410ad9bb6",
            "placeholder": "Type something",
            "style": "IPY_MODEL_eb49858019b94299a48468353cdcc3ff",
            "value": "results"
          }
        },
        "a33d04fa4a134c32b7e56adbc44ac92e": {
          "model_module": "@jupyter-widgets/controls",
          "model_name": "TextModel",
          "model_module_version": "1.5.0",
          "state": {
            "_dom_classes": [],
            "_model_module": "@jupyter-widgets/controls",
            "_model_module_version": "1.5.0",
            "_model_name": "TextModel",
            "_view_count": null,
            "_view_module": "@jupyter-widgets/controls",
            "_view_module_version": "1.5.0",
            "_view_name": "TextView",
            "continuous_update": true,
            "description": "Save as:",
            "description_tooltip": null,
            "disabled": false,
            "layout": "IPY_MODEL_47bfcf484a6f427fad55c23c7bdc82cc",
            "placeholder": "Type something",
            "style": "IPY_MODEL_443026f42aa84f578ac9df7322d2176d",
            "value": "figure_name.tif"
          }
        },
        "c46eb65f3d034e7bbeb77d9f78509464": {
          "model_module": "@jupyter-widgets/controls",
          "model_name": "BoundedIntTextModel",
          "model_module_version": "1.5.0",
          "state": {
            "_dom_classes": [],
            "_model_module": "@jupyter-widgets/controls",
            "_model_module_version": "1.5.0",
            "_model_name": "BoundedIntTextModel",
            "_view_count": null,
            "_view_module": "@jupyter-widgets/controls",
            "_view_module_version": "1.5.0",
            "_view_name": "IntTextView",
            "continuous_update": true,
            "description": "Set dpi:",
            "description_tooltip": null,
            "disabled": false,
            "layout": "IPY_MODEL_21c64714902d4d2380e2b6fa64af20d5",
            "max": 300,
            "min": 0,
            "step": 1,
            "style": "IPY_MODEL_7219b630c97f4ee99925a8a3cc5b8744",
            "value": 96
          }
        },
        "97727e39cb964da282fd9ccd795ddff8": {
          "model_module": "@jupyter-widgets/controls",
          "model_name": "BoundedFloatTextModel",
          "model_module_version": "1.5.0",
          "state": {
            "_dom_classes": [],
            "_model_module": "@jupyter-widgets/controls",
            "_model_module_version": "1.5.0",
            "_model_name": "BoundedFloatTextModel",
            "_view_count": null,
            "_view_module": "@jupyter-widgets/controls",
            "_view_module_version": "1.5.0",
            "_view_name": "FloatTextView",
            "continuous_update": true,
            "description": "Set pad:",
            "description_tooltip": null,
            "disabled": false,
            "layout": "IPY_MODEL_766b8280c021486391bbbd300370990f",
            "max": 100,
            "min": 0,
            "step": null,
            "style": "IPY_MODEL_358c3393383942ba9a8b8cac9fe0e30f",
            "value": 0.01
          }
        },
        "b46eb86a18564d8bb5a07df06c90ef5b": {
          "model_module": "@jupyter-widgets/controls",
          "model_name": "ButtonModel",
          "model_module_version": "1.5.0",
          "state": {
            "_dom_classes": [],
            "_model_module": "@jupyter-widgets/controls",
            "_model_module_version": "1.5.0",
            "_model_name": "ButtonModel",
            "_view_count": null,
            "_view_module": "@jupyter-widgets/controls",
            "_view_module_version": "1.5.0",
            "_view_name": "ButtonView",
            "button_style": "",
            "description": "Save",
            "disabled": false,
            "icon": "",
            "layout": "IPY_MODEL_e7dc9453e0164ba4ab8ca5e6b17235cb",
            "style": "IPY_MODEL_91694bf13dc9474ca88f99328ed7034c",
            "tooltip": ""
          }
        },
        "7bec985cd619405d880087ddfe82a205": {
          "model_module": "@jupyter-widgets/base",
          "model_name": "LayoutModel",
          "model_module_version": "1.2.0",
          "state": {
            "_model_module": "@jupyter-widgets/base",
            "_model_module_version": "1.2.0",
            "_model_name": "LayoutModel",
            "_view_count": null,
            "_view_module": "@jupyter-widgets/base",
            "_view_module_version": "1.2.0",
            "_view_name": "LayoutView",
            "align_content": null,
            "align_items": null,
            "align_self": null,
            "border": null,
            "bottom": null,
            "display": null,
            "flex": null,
            "flex_flow": null,
            "grid_area": null,
            "grid_auto_columns": null,
            "grid_auto_flow": null,
            "grid_auto_rows": null,
            "grid_column": null,
            "grid_gap": null,
            "grid_row": null,
            "grid_template_areas": null,
            "grid_template_columns": null,
            "grid_template_rows": null,
            "height": null,
            "justify_content": null,
            "justify_items": null,
            "left": null,
            "margin": null,
            "max_height": null,
            "max_width": null,
            "min_height": null,
            "min_width": null,
            "object_fit": null,
            "object_position": null,
            "order": null,
            "overflow": null,
            "overflow_x": null,
            "overflow_y": null,
            "padding": null,
            "right": null,
            "top": null,
            "visibility": null,
            "width": "auto"
          }
        },
        "05e0681215cb413d8e707a6410ad9bb6": {
          "model_module": "@jupyter-widgets/base",
          "model_name": "LayoutModel",
          "model_module_version": "1.2.0",
          "state": {
            "_model_module": "@jupyter-widgets/base",
            "_model_module_version": "1.2.0",
            "_model_name": "LayoutModel",
            "_view_count": null,
            "_view_module": "@jupyter-widgets/base",
            "_view_module_version": "1.2.0",
            "_view_name": "LayoutView",
            "align_content": null,
            "align_items": null,
            "align_self": null,
            "border": null,
            "bottom": null,
            "display": null,
            "flex": null,
            "flex_flow": null,
            "grid_area": null,
            "grid_auto_columns": null,
            "grid_auto_flow": null,
            "grid_auto_rows": null,
            "grid_column": null,
            "grid_gap": null,
            "grid_row": null,
            "grid_template_areas": null,
            "grid_template_columns": null,
            "grid_template_rows": null,
            "height": null,
            "justify_content": null,
            "justify_items": null,
            "left": null,
            "margin": null,
            "max_height": null,
            "max_width": null,
            "min_height": null,
            "min_width": null,
            "object_fit": null,
            "object_position": null,
            "order": null,
            "overflow": null,
            "overflow_x": null,
            "overflow_y": null,
            "padding": null,
            "right": null,
            "top": null,
            "visibility": null,
            "width": "auto"
          }
        },
        "eb49858019b94299a48468353cdcc3ff": {
          "model_module": "@jupyter-widgets/controls",
          "model_name": "DescriptionStyleModel",
          "model_module_version": "1.5.0",
          "state": {
            "_model_module": "@jupyter-widgets/controls",
            "_model_module_version": "1.5.0",
            "_model_name": "DescriptionStyleModel",
            "_view_count": null,
            "_view_module": "@jupyter-widgets/base",
            "_view_module_version": "1.2.0",
            "_view_name": "StyleView",
            "description_width": ""
          }
        },
        "47bfcf484a6f427fad55c23c7bdc82cc": {
          "model_module": "@jupyter-widgets/base",
          "model_name": "LayoutModel",
          "model_module_version": "1.2.0",
          "state": {
            "_model_module": "@jupyter-widgets/base",
            "_model_module_version": "1.2.0",
            "_model_name": "LayoutModel",
            "_view_count": null,
            "_view_module": "@jupyter-widgets/base",
            "_view_module_version": "1.2.0",
            "_view_name": "LayoutView",
            "align_content": null,
            "align_items": null,
            "align_self": null,
            "border": null,
            "bottom": null,
            "display": null,
            "flex": null,
            "flex_flow": null,
            "grid_area": null,
            "grid_auto_columns": null,
            "grid_auto_flow": null,
            "grid_auto_rows": null,
            "grid_column": null,
            "grid_gap": null,
            "grid_row": null,
            "grid_template_areas": null,
            "grid_template_columns": null,
            "grid_template_rows": null,
            "height": null,
            "justify_content": null,
            "justify_items": null,
            "left": null,
            "margin": null,
            "max_height": null,
            "max_width": null,
            "min_height": null,
            "min_width": null,
            "object_fit": null,
            "object_position": null,
            "order": null,
            "overflow": null,
            "overflow_x": null,
            "overflow_y": null,
            "padding": null,
            "right": null,
            "top": null,
            "visibility": null,
            "width": "auto"
          }
        },
        "443026f42aa84f578ac9df7322d2176d": {
          "model_module": "@jupyter-widgets/controls",
          "model_name": "DescriptionStyleModel",
          "model_module_version": "1.5.0",
          "state": {
            "_model_module": "@jupyter-widgets/controls",
            "_model_module_version": "1.5.0",
            "_model_name": "DescriptionStyleModel",
            "_view_count": null,
            "_view_module": "@jupyter-widgets/base",
            "_view_module_version": "1.2.0",
            "_view_name": "StyleView",
            "description_width": ""
          }
        },
        "21c64714902d4d2380e2b6fa64af20d5": {
          "model_module": "@jupyter-widgets/base",
          "model_name": "LayoutModel",
          "model_module_version": "1.2.0",
          "state": {
            "_model_module": "@jupyter-widgets/base",
            "_model_module_version": "1.2.0",
            "_model_name": "LayoutModel",
            "_view_count": null,
            "_view_module": "@jupyter-widgets/base",
            "_view_module_version": "1.2.0",
            "_view_name": "LayoutView",
            "align_content": null,
            "align_items": null,
            "align_self": null,
            "border": null,
            "bottom": null,
            "display": null,
            "flex": null,
            "flex_flow": null,
            "grid_area": null,
            "grid_auto_columns": null,
            "grid_auto_flow": null,
            "grid_auto_rows": null,
            "grid_column": null,
            "grid_gap": null,
            "grid_row": null,
            "grid_template_areas": null,
            "grid_template_columns": null,
            "grid_template_rows": null,
            "height": null,
            "justify_content": null,
            "justify_items": null,
            "left": null,
            "margin": null,
            "max_height": null,
            "max_width": null,
            "min_height": null,
            "min_width": null,
            "object_fit": null,
            "object_position": null,
            "order": null,
            "overflow": null,
            "overflow_x": null,
            "overflow_y": null,
            "padding": null,
            "right": null,
            "top": null,
            "visibility": null,
            "width": "auto"
          }
        },
        "7219b630c97f4ee99925a8a3cc5b8744": {
          "model_module": "@jupyter-widgets/controls",
          "model_name": "DescriptionStyleModel",
          "model_module_version": "1.5.0",
          "state": {
            "_model_module": "@jupyter-widgets/controls",
            "_model_module_version": "1.5.0",
            "_model_name": "DescriptionStyleModel",
            "_view_count": null,
            "_view_module": "@jupyter-widgets/base",
            "_view_module_version": "1.2.0",
            "_view_name": "StyleView",
            "description_width": ""
          }
        },
        "766b8280c021486391bbbd300370990f": {
          "model_module": "@jupyter-widgets/base",
          "model_name": "LayoutModel",
          "model_module_version": "1.2.0",
          "state": {
            "_model_module": "@jupyter-widgets/base",
            "_model_module_version": "1.2.0",
            "_model_name": "LayoutModel",
            "_view_count": null,
            "_view_module": "@jupyter-widgets/base",
            "_view_module_version": "1.2.0",
            "_view_name": "LayoutView",
            "align_content": null,
            "align_items": null,
            "align_self": null,
            "border": null,
            "bottom": null,
            "display": null,
            "flex": null,
            "flex_flow": null,
            "grid_area": null,
            "grid_auto_columns": null,
            "grid_auto_flow": null,
            "grid_auto_rows": null,
            "grid_column": null,
            "grid_gap": null,
            "grid_row": null,
            "grid_template_areas": null,
            "grid_template_columns": null,
            "grid_template_rows": null,
            "height": null,
            "justify_content": null,
            "justify_items": null,
            "left": null,
            "margin": null,
            "max_height": null,
            "max_width": null,
            "min_height": null,
            "min_width": null,
            "object_fit": null,
            "object_position": null,
            "order": null,
            "overflow": null,
            "overflow_x": null,
            "overflow_y": null,
            "padding": null,
            "right": null,
            "top": null,
            "visibility": null,
            "width": "auto"
          }
        },
        "358c3393383942ba9a8b8cac9fe0e30f": {
          "model_module": "@jupyter-widgets/controls",
          "model_name": "DescriptionStyleModel",
          "model_module_version": "1.5.0",
          "state": {
            "_model_module": "@jupyter-widgets/controls",
            "_model_module_version": "1.5.0",
            "_model_name": "DescriptionStyleModel",
            "_view_count": null,
            "_view_module": "@jupyter-widgets/base",
            "_view_module_version": "1.2.0",
            "_view_name": "StyleView",
            "description_width": ""
          }
        },
        "e7dc9453e0164ba4ab8ca5e6b17235cb": {
          "model_module": "@jupyter-widgets/base",
          "model_name": "LayoutModel",
          "model_module_version": "1.2.0",
          "state": {
            "_model_module": "@jupyter-widgets/base",
            "_model_module_version": "1.2.0",
            "_model_name": "LayoutModel",
            "_view_count": null,
            "_view_module": "@jupyter-widgets/base",
            "_view_module_version": "1.2.0",
            "_view_name": "LayoutView",
            "align_content": null,
            "align_items": null,
            "align_self": null,
            "border": null,
            "bottom": null,
            "display": null,
            "flex": null,
            "flex_flow": null,
            "grid_area": null,
            "grid_auto_columns": null,
            "grid_auto_flow": null,
            "grid_auto_rows": null,
            "grid_column": null,
            "grid_gap": null,
            "grid_row": null,
            "grid_template_areas": null,
            "grid_template_columns": null,
            "grid_template_rows": null,
            "height": null,
            "justify_content": null,
            "justify_items": null,
            "left": null,
            "margin": null,
            "max_height": null,
            "max_width": null,
            "min_height": null,
            "min_width": null,
            "object_fit": null,
            "object_position": null,
            "order": null,
            "overflow": null,
            "overflow_x": null,
            "overflow_y": null,
            "padding": null,
            "right": null,
            "top": null,
            "visibility": null,
            "width": null
          }
        },
        "91694bf13dc9474ca88f99328ed7034c": {
          "model_module": "@jupyter-widgets/controls",
          "model_name": "ButtonStyleModel",
          "model_module_version": "1.5.0",
          "state": {
            "_model_module": "@jupyter-widgets/controls",
            "_model_module_version": "1.5.0",
            "_model_name": "ButtonStyleModel",
            "_view_count": null,
            "_view_module": "@jupyter-widgets/base",
            "_view_module_version": "1.2.0",
            "_view_name": "StyleView",
            "button_color": null,
            "font_weight": ""
          }
        },
        "9d597645cbaf42359823e89e7e9627ef": {
          "model_module": "@jupyter-widgets/output",
          "model_name": "OutputModel",
          "model_module_version": "1.0.0",
          "state": {
            "_dom_classes": [],
            "_model_module": "@jupyter-widgets/output",
            "_model_module_version": "1.0.0",
            "_model_name": "OutputModel",
            "_view_count": null,
            "_view_module": "@jupyter-widgets/output",
            "_view_module_version": "1.0.0",
            "_view_name": "OutputView",
            "layout": "IPY_MODEL_11267c7b859d47a783d403701e87b892",
            "msg_id": "",
            "outputs": []
          }
        },
        "11267c7b859d47a783d403701e87b892": {
          "model_module": "@jupyter-widgets/base",
          "model_name": "LayoutModel",
          "model_module_version": "1.2.0",
          "state": {
            "_model_module": "@jupyter-widgets/base",
            "_model_module_version": "1.2.0",
            "_model_name": "LayoutModel",
            "_view_count": null,
            "_view_module": "@jupyter-widgets/base",
            "_view_module_version": "1.2.0",
            "_view_name": "LayoutView",
            "align_content": null,
            "align_items": null,
            "align_self": null,
            "border": null,
            "bottom": null,
            "display": null,
            "flex": null,
            "flex_flow": null,
            "grid_area": null,
            "grid_auto_columns": null,
            "grid_auto_flow": null,
            "grid_auto_rows": null,
            "grid_column": null,
            "grid_gap": null,
            "grid_row": null,
            "grid_template_areas": null,
            "grid_template_columns": null,
            "grid_template_rows": null,
            "height": null,
            "justify_content": null,
            "justify_items": null,
            "left": null,
            "margin": null,
            "max_height": null,
            "max_width": null,
            "min_height": null,
            "min_width": null,
            "object_fit": null,
            "object_position": null,
            "order": null,
            "overflow": null,
            "overflow_x": null,
            "overflow_y": null,
            "padding": null,
            "right": null,
            "top": null,
            "visibility": null,
            "width": null
          }
        }
      }
    }
  },
  "nbformat": 4,
  "nbformat_minor": 0
}