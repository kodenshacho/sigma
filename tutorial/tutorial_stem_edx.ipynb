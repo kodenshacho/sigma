{
 "cells": [
  {
   "cell_type": "markdown",
   "id": "eee9ad91-0f66-4557-8ada-a979b944698b",
   "metadata": {},
   "source": [
    "# Import libraries"
   ]
  },
  {
   "cell_type": "code",
   "execution_count": 1,
   "id": "e8b14643-fb4f-415e-a8ae-867d79f82a88",
   "metadata": {},
   "outputs": [
    {
     "data": {
      "text/html": [
       "        <script type=\"text/javascript\">\n",
       "        window.PlotlyConfig = {MathJaxConfig: 'local'};\n",
       "        if (window.MathJax) {MathJax.Hub.Config({SVG: {font: \"STIX-Web\"}});}\n",
       "        if (typeof require !== 'undefined') {\n",
       "        require.undef(\"plotly\");\n",
       "        requirejs.config({\n",
       "            paths: {\n",
       "                'plotly': ['https://cdn.plot.ly/plotly-2.9.0.min']\n",
       "            }\n",
       "        });\n",
       "        require(['plotly'], function(Plotly) {\n",
       "            window._Plotly = Plotly;\n",
       "        });\n",
       "        }\n",
       "        </script>\n",
       "        "
      ]
     },
     "metadata": {},
     "output_type": "display_data"
    },
    {
     "data": {
      "text/html": [
       "        <script type=\"text/javascript\">\n",
       "        window.PlotlyConfig = {MathJaxConfig: 'local'};\n",
       "        if (window.MathJax) {MathJax.Hub.Config({SVG: {font: \"STIX-Web\"}});}\n",
       "        if (typeof require !== 'undefined') {\n",
       "        require.undef(\"plotly\");\n",
       "        requirejs.config({\n",
       "            paths: {\n",
       "                'plotly': ['https://cdn.plot.ly/plotly-2.9.0.min']\n",
       "            }\n",
       "        });\n",
       "        require(['plotly'], function(Plotly) {\n",
       "            window._Plotly = Plotly;\n",
       "        });\n",
       "        }\n",
       "        </script>\n",
       "        "
      ]
     },
     "metadata": {},
     "output_type": "display_data"
    }
   ],
   "source": [
    "import sigma\n",
    "from sigma.utils import normalisation as norm \n",
    "from sigma.utils import visualisation as visual\n",
    "from sigma.utils.loadtem import TEMDataset\n",
    "from sigma.src.utils import same_seeds\n",
    "from sigma.src.dim_reduction import Experiment\n",
    "from sigma.models.autoencoder import AutoEncoder\n",
    "from sigma.src.segmentation import PixelSegmenter\n",
    "from sigma.gui import gui\n"
   ]
  },
  {
   "cell_type": "markdown",
   "id": "c09f4459-0549-432a-8955-67cfe1bec966",
   "metadata": {},
   "source": [
    "# Load emi/ser files\n",
    "Note that the `.emi` and the corresponding `.ser` files should be place in the same folder, e.g., `test.emi` and `test.ser` should be in the same folder."
   ]
  },
  {
   "cell_type": "code",
   "execution_count": 3,
   "id": "3db5dfa2-d7fc-4713-831c-cc3e44bbe6e1",
   "metadata": {},
   "outputs": [],
   "source": [
    "file_path = '/Users/andrewtung/Dropbox (Cambridge University)/MyFolder/Github/sigma/tutorial/17.57.40 Spectrum image.emi' # file path\n",
    "tem = TEMDataset(file_path)"
   ]
  },
  {
   "cell_type": "markdown",
   "id": "5e049794-25c0-4ac4-bee9-00dac041843b",
   "metadata": {},
   "source": [
    "# Assign x-ray lines (if known)"
   ]
  },
  {
   "cell_type": "code",
   "execution_count": 4,
   "id": "dca3d0ea-0a87-4c3e-a1a0-231b46912ed9",
   "metadata": {},
   "outputs": [
    {
     "name": "stdout",
     "output_type": "stream",
     "text": [
      "Set xray_lines to ['C_Ka', 'O_Ka', 'Mg_Ka', 'Al_Ka', 'Si_Ka', 'Ti_Ka', 'S_Ka', 'Ca_Ka', 'Fe_Ka', 'Ni_Ka']\n"
     ]
    }
   ],
   "source": [
    "tem.set_xray_lines(['C_Ka', 'O_Ka', 'Mg_Ka', 'Al_Ka', \n",
    "                    'Si_Ka', 'Ti_Ka','S_Ka', 'Ca_Ka',  \n",
    "                    'Fe_Ka', 'Ni_Ka'])"
   ]
  },
  {
   "cell_type": "markdown",
   "id": "33ac041f-b82a-4ef2-ae02-2d10a48e8091",
   "metadata": {},
   "source": [
    "# View EDX dataset and assign x-ray lines"
   ]
  },
  {
   "cell_type": "code",
   "execution_count": null,
   "id": "86866202-81f7-42b2-b420-4bf7b395428d",
   "metadata": {},
   "outputs": [],
   "source": [
    "gui.view_emi_dataset(tem)"
   ]
  },
  {
   "cell_type": "code",
   "execution_count": 5,
   "id": "34dba14a",
   "metadata": {},
   "outputs": [
    {
     "name": "stdout",
     "output_type": "stream",
     "text": [
      "Normalising the chemical intensity along axis=2, so that the sum is wqual to 1 along axis=2.\n"
     ]
    }
   ],
   "source": [
    "# normalisation to make the spectrum of each pixel summing to 1.\n",
    "tem.peak_intensity_normalisation()\n",
    "\n",
    "# remove pixels with no signal\n",
    "tem.remove_NaN()\n"
   ]
  },
  {
   "cell_type": "code",
   "execution_count": 6,
   "id": "da25e4e8",
   "metadata": {},
   "outputs": [
    {
     "name": "stdout",
     "output_type": "stream",
     "text": [
      "Set feature_list to ['C_Ka', 'O_Ka', 'Mg_Ka', 'Al_Ka', 'Si_Ka', 'Ti_Ka', 'S_Ka', 'Ca_Ka', 'Fe_Ka', 'Ni_Ka']\n",
      "Normalise dataset using:\n",
      "    1. zscore\n",
      "    2. softmax\n"
     ]
    }
   ],
   "source": [
    "tem.normalisation([norm.zscore, \n",
    "                   norm.softmax])"
   ]
  },
  {
   "cell_type": "code",
   "execution_count": 7,
   "id": "4c5a6a78",
   "metadata": {},
   "outputs": [
    {
     "name": "stdout",
     "output_type": "stream",
     "text": [
      "model_name: Model-softmax\n",
      "size_dataset: (173, 256, 10)\n",
      "device: cpu\n",
      "num_parameters: 343820\n"
     ]
    }
   ],
   "source": [
    "# The integer in this function can determine different initialised parameters of model (tuning sudo randomness)\n",
    "# This can influence the result of dimensionality reduction and change the latent space.\n",
    "same_seeds(1)\n",
    "\n",
    "# Set up the experiment, e.g. determining the model structure, dataset for training etc.\n",
    "general_results_dir='./' \n",
    "ex = Experiment(descriptor='softmax',\n",
    "                general_results_dir=general_results_dir,\n",
    "                model=AutoEncoder,\n",
    "                model_args={'hidden_layer_sizes':(512,256,128)}, # number of hidden layers and corresponding neurons\n",
    "                chosen_dataset=tem.normalised_elemental_data,\n",
    "                save_model_every_epoch=True)"
   ]
  },
  {
   "cell_type": "code",
   "execution_count": 8,
   "id": "885d7d14",
   "metadata": {},
   "outputs": [
    {
     "name": "stdout",
     "output_type": "stream",
     "text": [
      "num_epochs: 5\n",
      "batch_size: 64\n",
      "task: train_all\n",
      "optimizer: lr=0.0001 and weight_decay=0.0\n",
      "\n",
      "Start training ...\n",
      "\n"
     ]
    },
    {
     "data": {
      "application/vnd.jupyter.widget-view+json": {
       "model_id": "c6fed2591647456191e7f857f9ec4169",
       "version_major": 2,
       "version_minor": 0
      },
      "text/plain": [
       "  0%|          | 0/692 [00:00<?, ?batch/s]"
      ]
     },
     "metadata": {},
     "output_type": "display_data"
    },
    {
     "name": "stdout",
     "output_type": "stream",
     "text": [
      "Epoch 1 ----> model saved, train_loss=0.001996 | test_loss = 0.001996\n"
     ]
    },
    {
     "data": {
      "application/vnd.jupyter.widget-view+json": {
       "model_id": "b0195b797eca4e4b8be71854cac5672a",
       "version_major": 2,
       "version_minor": 0
      },
      "text/plain": [
       "  0%|          | 0/692 [00:00<?, ?batch/s]"
      ]
     },
     "metadata": {},
     "output_type": "display_data"
    },
    {
     "name": "stdout",
     "output_type": "stream",
     "text": [
      "Epoch 2 ----> model saved, train_loss=0.000814 | test_loss = 0.000814\n"
     ]
    },
    {
     "data": {
      "application/vnd.jupyter.widget-view+json": {
       "model_id": "92cbbd3ac48d46478693d096c93cf6d8",
       "version_major": 2,
       "version_minor": 0
      },
      "text/plain": [
       "  0%|          | 0/692 [00:00<?, ?batch/s]"
      ]
     },
     "metadata": {},
     "output_type": "display_data"
    },
    {
     "name": "stdout",
     "output_type": "stream",
     "text": [
      "Epoch 3 ----> model saved, train_loss=0.000715 | test_loss = 0.000715\n"
     ]
    },
    {
     "data": {
      "application/vnd.jupyter.widget-view+json": {
       "model_id": "7195aae3b2ca4dbf85f233ea1643283a",
       "version_major": 2,
       "version_minor": 0
      },
      "text/plain": [
       "  0%|          | 0/692 [00:00<?, ?batch/s]"
      ]
     },
     "metadata": {},
     "output_type": "display_data"
    },
    {
     "name": "stdout",
     "output_type": "stream",
     "text": [
      "Epoch 4 ----> model saved, train_loss=0.000661 | test_loss = 0.000661\n"
     ]
    },
    {
     "data": {
      "application/vnd.jupyter.widget-view+json": {
       "model_id": "23f327350eb04e08832f2736257dcd58",
       "version_major": 2,
       "version_minor": 0
      },
      "text/plain": [
       "  0%|          | 0/692 [00:00<?, ?batch/s]"
      ]
     },
     "metadata": {},
     "output_type": "display_data"
    },
    {
     "name": "stdout",
     "output_type": "stream",
     "text": [
      "Epoch 5 ----> model saved, train_loss=0.000637 | test_loss = 0.000637\n"
     ]
    }
   ],
   "source": [
    "# Train the model\n",
    "ex.run_model(num_epochs=5,\n",
    "             patience=50, \n",
    "             batch_size=64,\n",
    "             learning_rate=1e-4, \n",
    "             weight_decay=0.0, \n",
    "             task='train_all', # Change to 'train_eval' to train on the training set (85% dataset) and test on a testing set (15%) for evaluation\n",
    "             noise_added=0.0,\n",
    "             KLD_lambda=0.0,\n",
    "             criterion='MSE',\n",
    "             lr_scheduler_args={'factor':0.5,\n",
    "                                'patience':5, \n",
    "                                'threshold':1e-2, \n",
    "                                'min_lr':1e-6,\n",
    "                                'verbose':True}) "
   ]
  },
  {
   "cell_type": "code",
   "execution_count": 10,
   "id": "cb00f174",
   "metadata": {},
   "outputs": [
    {
     "ename": "",
     "evalue": "",
     "output_type": "error",
     "traceback": [
      "\u001b[1;31mCanceled future for execute_request message before replies were done"
     ]
    },
    {
     "ename": "",
     "evalue": "",
     "output_type": "error",
     "traceback": [
      "\u001b[1;31mThe Kernel crashed while executing code in the the current cell or a previous cell. Please review the code in the cell(s) to identify a possible cause of the failure. Click <a href='https://aka.ms/vscodeJupyterKernelCrash'>here</a> for more info. View Jupyter <a href='command:jupyter.viewOutput'>log</a> for further details."
     ]
    }
   ],
   "source": [
    "latent = ex.get_latent()\n",
    "ps = PixelSegmenter(latent, \n",
    "                    tem.normalised_elemental_data, \n",
    "                    tem,\n",
    "                    method_args={'n_components':20, 'random_state':6, 'init_params':'kmeans'} )\n",
    "                    # can change random_state to different integer i.e. 10 or 0 to adjust the clustering result."
   ]
  },
  {
   "cell_type": "code",
   "execution_count": 9,
   "id": "69d4c524",
   "metadata": {},
   "outputs": [
    {
     "ename": "NameError",
     "evalue": "name 'ps' is not defined",
     "output_type": "error",
     "traceback": [
      "\u001b[0;31m---------------------------------------------------------------------------\u001b[0m",
      "\u001b[0;31mNameError\u001b[0m                                 Traceback (most recent call last)",
      "\u001b[0;32m/var/folders/hc/yqrhhgcx1gd_kb5t4gnd9twm0000gn/T/ipykernel_50076/2716147455.py\u001b[0m in \u001b[0;36m<module>\u001b[0;34m\u001b[0m\n\u001b[1;32m      1\u001b[0m \u001b[0;31m# Plot latent sapce (2-dimensional) with corresponding Gaussian models\u001b[0m\u001b[0;34m\u001b[0m\u001b[0;34m\u001b[0m\u001b[0;34m\u001b[0m\u001b[0m\n\u001b[0;32m----> 2\u001b[0;31m \u001b[0mgui\u001b[0m\u001b[0;34m.\u001b[0m\u001b[0mview_latent_space\u001b[0m\u001b[0;34m(\u001b[0m\u001b[0mps\u001b[0m\u001b[0;34m,\u001b[0m \u001b[0mcolor\u001b[0m\u001b[0;34m=\u001b[0m\u001b[0;32mTrue\u001b[0m\u001b[0;34m)\u001b[0m\u001b[0;34m\u001b[0m\u001b[0;34m\u001b[0m\u001b[0m\n\u001b[0m",
      "\u001b[0;31mNameError\u001b[0m: name 'ps' is not defined"
     ]
    }
   ],
   "source": [
    "# Plot latent sapce (2-dimensional) with corresponding Gaussian models\n",
    "gui.view_latent_space(ps, color=True)"
   ]
  },
  {
   "cell_type": "code",
   "execution_count": null,
   "id": "2501e60d",
   "metadata": {},
   "outputs": [],
   "source": [
    "# visualise the latent space\n",
    "gui.check_latent_space(ps,ratio_to_be_shown=0.5, show_map=True)"
   ]
  },
  {
   "cell_type": "code",
   "execution_count": null,
   "id": "18a8b1ac",
   "metadata": {},
   "outputs": [],
   "source": [
    "# check the density of latent space\n",
    "gui.plot_latent_density(ps, bins=50)"
   ]
  },
  {
   "cell_type": "code",
   "execution_count": null,
   "id": "11cc17c5",
   "metadata": {},
   "outputs": [],
   "source": [
    "gui.show_cluster_distribution(ps)"
   ]
  },
  {
   "cell_type": "code",
   "execution_count": null,
   "id": "726d9d5d",
   "metadata": {},
   "outputs": [],
   "source": [
    "gui.view_phase_map(ps)"
   ]
  },
  {
   "cell_type": "code",
   "execution_count": null,
   "id": "7ee75c5c",
   "metadata": {},
   "outputs": [],
   "source": [
    "gui.view_clusters_sum_spectra(ps, normalisation=True, spectra_range=(0,8))"
   ]
  },
  {
   "cell_type": "code",
   "execution_count": null,
   "id": "e84a9a69",
   "metadata": {},
   "outputs": [],
   "source": [
    "weights, components = ps.get_unmixed_edx_profile(clusters_to_be_calculated='All', \n",
    "                                                 n_components='All',\n",
    "                                                 normalised=False, \n",
    "                                                 method='NMF', \n",
    "                                                 method_args={'init':'nndsvd'})"
   ]
  },
  {
   "cell_type": "code",
   "execution_count": null,
   "id": "29e623cd",
   "metadata": {},
   "outputs": [],
   "source": [
    "gui.show_unmixed_weights_and_compoments(ps, weights, components)"
   ]
  }
 ],
 "metadata": {
  "kernelspec": {
   "display_name": "Python 3.7.13 ('pyt21')",
   "language": "python",
   "name": "python3"
  },
  "language_info": {
   "codemirror_mode": {
    "name": "ipython",
    "version": 3
   },
   "file_extension": ".py",
   "mimetype": "text/x-python",
   "name": "python",
   "nbconvert_exporter": "python",
   "pygments_lexer": "ipython3",
   "version": "3.7.13"
  },
  "vscode": {
   "interpreter": {
    "hash": "fda928b1efcd49c22f58971b5a697bc4d27135dd0d6efd1ff590b22bf90ef37d"
   }
  }
 },
 "nbformat": 4,
 "nbformat_minor": 5
}
